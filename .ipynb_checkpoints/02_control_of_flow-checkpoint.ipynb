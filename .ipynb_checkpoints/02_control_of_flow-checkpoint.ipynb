{
 "cells": [
  {
   "cell_type": "markdown",
   "id": "e913f317-48bd-48cd-9c4a-36706865e1fa",
   "metadata": {},
   "source": [
    "# 제어문"
   ]
  },
  {
   "cell_type": "markdown",
   "id": "de80502d-620f-4622-99aa-7651e0395f38",
   "metadata": {},
   "source": [
    "## 조건문 (if문)\n",
    "1. `if` 문은 반드시 일정한 참/거짓을 판단할 수 있는 `조건식`과 함꼐 사용한다. ('if<조건식>:')\n",
    "\n",
    "2-1. `<조건식>`이 참인 경우 `:` 이후의 문장을 실행한다.\n",
    "\n",
    "2-2. `<조건식>`이 거짓인 경우 `else:` 이후의 문장을 실행한다."
   ]
  },
  {
   "cell_type": "code",
   "execution_count": 3,
   "id": "e7f6bb73-b23d-4c3a-a4df-5cfcad979456",
   "metadata": {},
   "outputs": [
    {
     "name": "stdin",
     "output_type": "stream",
     "text": [
      " 123\n"
     ]
    },
    {
     "name": "stdout",
     "output_type": "stream",
     "text": [
      "크리스마스가 아닙니다.\n"
     ]
    }
   ],
   "source": [
    "my_string = input()\n",
    "if my_string == '12/25': \n",
    "    print('크리스마스입니다.')\n",
    "else:\n",
    "    print('크리스마스가 아닙니다.')"
   ]
  },
  {
   "cell_type": "code",
   "execution_count": 9,
   "id": "ee328658-ea3d-4e51-b53b-35e93310c95c",
   "metadata": {},
   "outputs": [
    {
     "name": "stdin",
     "output_type": "stream",
     "text": [
      "숫자를 입력해주세요 4\n"
     ]
    }
   ],
   "source": [
    "num = input('숫자를 입력해주세요')\n",
    "num = int(num)"
   ]
  },
  {
   "cell_type": "code",
   "execution_count": 10,
   "id": "cb5a39f5-fa9a-48c9-83d8-9a8591b5b25b",
   "metadata": {},
   "outputs": [
    {
     "name": "stdout",
     "output_type": "stream",
     "text": [
      "짝수입니다\n"
     ]
    }
   ],
   "source": [
    "# 조건문을 사용해서 num에 들어있는 숫자가 홀수/짝수 인지 판별\n",
    "\n",
    "if int(num) % 2 == 1:\n",
    "    print('홀수입니다.')\n",
    "else: \n",
    "    print('짝수입니다.')"
   ]
  },
  {
   "cell_type": "code",
   "execution_count": null,
   "id": "5d61320a-4fed-462f-80ac-12edb0b2ec09",
   "metadata": {},
   "outputs": [],
   "source": [
    "# num을 2로 나눈 나머지는 0, 1 두가지 경우가 있다.\n",
    "# if문의 조건식에 0, 1은 자동형변환이 일어나 False, True로 변환된다.\n",
    "if num % 2: \n",
    "    print('홀수입니다.')\n",
    "else:\n",
    "    print('짝수입니다.')"
   ]
  },
  {
   "cell_type": "markdown",
   "id": "9590fbd8-c7e3-4fe4-8678-edd74c902037",
   "metadata": {},
   "source": [
    "### elif \n",
    "\n",
    "```\n",
    "if <조건식>:\n",
    "    if 조건이 참인경우 실행\n",
    "elif <조건식>:  \n",
    "    elif 조건이 참인경우 실행\n",
    "...\n",
    "else:\n",
    "    위의 조건식에 하나도 부합하지 않는 경우 실행\n",
    "```"
   ]
  },
  {
   "cell_type": "code",
   "execution_count": 15,
   "id": "a28b9a7c-6d21-4a84-b093-7c2e5a49d21a",
   "metadata": {},
   "outputs": [
    {
     "name": "stdin",
     "output_type": "stream",
     "text": [
      " 96\n"
     ]
    }
   ],
   "source": [
    "score = int(input())"
   ]
  },
  {
   "cell_type": "code",
   "execution_count": 16,
   "id": "af31c974-8945-4d5e-97f9-21c975b24f06",
   "metadata": {},
   "outputs": [
    {
     "name": "stdout",
     "output_type": "stream",
     "text": [
      "A\n",
      "참잘했어요\n"
     ]
    }
   ],
   "source": [
    "# 90점 이상 A (95점이상 '참잘했어요')\n",
    "# 80점 이상 B\n",
    "# 70점 이상 C\n",
    "# 나머지 F\n",
    "\n",
    "if score >=90:\n",
    "    print('A')\n",
    "    if score >= 95:\n",
    "        print('참잘했어요')\n",
    "    else: pass\n",
    "elif score >= 80:\n",
    "    print('B')\n",
    "elif socre >= 70:\n",
    "    print('C')\n",
    "else:\n",
    "    print('F')"
   ]
  }
 ],
 "metadata": {
  "kernelspec": {
   "display_name": "Python 3 (ipykernel)",
   "language": "python",
   "name": "python3"
  },
  "language_info": {
   "codemirror_mode": {
    "name": "ipython",
    "version": 3
   },
   "file_extension": ".py",
   "mimetype": "text/x-python",
   "name": "python",
   "nbconvert_exporter": "python",
   "pygments_lexer": "ipython3",
   "version": "3.9.12"
  }
 },
 "nbformat": 4,
 "nbformat_minor": 5
}
