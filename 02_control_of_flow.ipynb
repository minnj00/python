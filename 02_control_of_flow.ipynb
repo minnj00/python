{
 "cells": [
  {
   "cell_type": "markdown",
   "id": "e913f317-48bd-48cd-9c4a-36706865e1fa",
   "metadata": {},
   "source": [
    "# 제어문"
   ]
  },
  {
   "cell_type": "markdown",
   "id": "de80502d-620f-4622-99aa-7651e0395f38",
   "metadata": {},
   "source": [
    "## 조건문 (if문)\n",
    "1. `if` 문은 반드시 일정한 참/거짓을 판단할 수 있는 `조건식`과 함꼐 사용한다. ('if<조건식>:')\n",
    "\n",
    "2-1. `<조건식>`이 참인 경우 `:` 이후의 문장을 실행한다.\n",
    "\n",
    "2-2. `<조건식>`이 거짓인 경우 `else:` 이후의 문장을 실행한다."
   ]
  },
  {
   "cell_type": "code",
   "execution_count": 3,
   "id": "e7f6bb73-b23d-4c3a-a4df-5cfcad979456",
   "metadata": {},
   "outputs": [
    {
     "name": "stdin",
     "output_type": "stream",
     "text": [
      " 123\n"
     ]
    },
    {
     "name": "stdout",
     "output_type": "stream",
     "text": [
      "크리스마스가 아닙니다.\n"
     ]
    }
   ],
   "source": [
    "my_string = input()\n",
    "if my_string == '12/25': \n",
    "    print('크리스마스입니다.')\n",
    "else:\n",
    "    print('크리스마스가 아닙니다.')"
   ]
  },
  {
   "cell_type": "code",
   "execution_count": 9,
   "id": "ee328658-ea3d-4e51-b53b-35e93310c95c",
   "metadata": {},
   "outputs": [
    {
     "name": "stdin",
     "output_type": "stream",
     "text": [
      "숫자를 입력해주세요 4\n"
     ]
    }
   ],
   "source": [
    "num = input('숫자를 입력해주세요')\n",
    "num = int(num)"
   ]
  },
  {
   "cell_type": "code",
   "execution_count": 10,
   "id": "cb5a39f5-fa9a-48c9-83d8-9a8591b5b25b",
   "metadata": {},
   "outputs": [
    {
     "name": "stdout",
     "output_type": "stream",
     "text": [
      "짝수입니다\n"
     ]
    }
   ],
   "source": [
    "# 조건문을 사용해서 num에 들어있는 숫자가 홀수/짝수 인지 판별\n",
    "\n",
    "if int(num) % 2 == 1:\n",
    "    print('홀수입니다.')\n",
    "else: \n",
    "    print('짝수입니다.')"
   ]
  },
  {
   "cell_type": "code",
   "execution_count": null,
   "id": "5d61320a-4fed-462f-80ac-12edb0b2ec09",
   "metadata": {},
   "outputs": [],
   "source": [
    "# num을 2로 나눈 나머지는 0, 1 두가지 경우가 있다.\n",
    "# if문의 조건식에 0, 1은 자동형변환이 일어나 False, True로 변환된다.\n",
    "if num % 2: \n",
    "    print('홀수입니다.')\n",
    "else:\n",
    "    print('짝수입니다.')"
   ]
  },
  {
   "cell_type": "markdown",
   "id": "9590fbd8-c7e3-4fe4-8678-edd74c902037",
   "metadata": {},
   "source": [
    "### elif \n",
    "\n",
    "```\n",
    "if <조건식>:\n",
    "    if 조건이 참인경우 실행\n",
    "elif <조건식>:  \n",
    "    elif 조건이 참인경우 실행\n",
    "...\n",
    "else:\n",
    "    위의 조건식에 하나도 부합하지 않는 경우 실행\n",
    "```"
   ]
  },
  {
   "cell_type": "code",
   "execution_count": 15,
   "id": "a28b9a7c-6d21-4a84-b093-7c2e5a49d21a",
   "metadata": {},
   "outputs": [
    {
     "name": "stdin",
     "output_type": "stream",
     "text": [
      " 96\n"
     ]
    }
   ],
   "source": [
    "score = int(input())"
   ]
  },
  {
   "cell_type": "code",
   "execution_count": 16,
   "id": "af31c974-8945-4d5e-97f9-21c975b24f06",
   "metadata": {},
   "outputs": [
    {
     "name": "stdout",
     "output_type": "stream",
     "text": [
      "A\n",
      "참잘했어요\n"
     ]
    }
   ],
   "source": [
    "# 90점 이상 A (95점이상 '참잘했어요')\n",
    "# 80점 이상 B\n",
    "# 70점 이상 C\n",
    "# 나머지 F\n",
    "\n",
    "if score >=90:\n",
    "    print('A')\n",
    "    if score >= 95:\n",
    "        print('참잘했어요')\n",
    "elif score >= 80:\n",
    "    print('B')\n",
    "elif socre >= 70:\n",
    "    print('C')\n",
    "else:\n",
    "    print('F')"
   ]
  },
  {
   "cell_type": "markdown",
   "id": "0adccde9-49bb-4757-9371-b207ddcb4773",
   "metadata": {},
   "source": [
    "## 조건표현식\n",
    "\n",
    "true_value if <조건식> else false_value\n"
   ]
  },
  {
   "cell_type": "code",
   "execution_count": 17,
   "id": "23b54a54-2cf2-4992-b09c-4285bb4defb4",
   "metadata": {},
   "outputs": [
    {
     "name": "stdout",
     "output_type": "stream",
     "text": [
      "True\n"
     ]
    }
   ],
   "source": [
    "print('True') if 1>0 else print('False')"
   ]
  },
  {
   "cell_type": "code",
   "execution_count": 18,
   "id": "62addf1a-0cea-40fd-bd36-3029ece115d4",
   "metadata": {},
   "outputs": [
    {
     "name": "stdout",
     "output_type": "stream",
     "text": [
      "False\n"
     ]
    }
   ],
   "source": [
    "if 1 < 0:\n",
    "    print('True')\n",
    "else:\n",
    "    print('False')"
   ]
  },
  {
   "cell_type": "code",
   "execution_count": 19,
   "id": "eea55746-cfb5-448c-a64b-46af06e3a2c4",
   "metadata": {},
   "outputs": [
    {
     "name": "stdout",
     "output_type": "stream",
     "text": [
      "0\n"
     ]
    }
   ],
   "source": [
    "num = -5\n",
    "value = num if num >= 0 else 0\n",
    "print(value)"
   ]
  },
  {
   "cell_type": "markdown",
   "id": "1caaf276-e16d-4ed8-9790-71d9bfd1ec9d",
   "metadata": {},
   "source": [
    "num = -5\n",
    "\n",
    "value = <num <if num >= 0> else 0> \n",
    "    이렇게 묶어서 생각! \n",
    "    \n",
    "print(value)"
   ]
  },
  {
   "cell_type": "code",
   "execution_count": 21,
   "id": "fce81808-fb76-4296-b82d-fab3bbb515c8",
   "metadata": {},
   "outputs": [
    {
     "name": "stdout",
     "output_type": "stream",
     "text": [
      "0\n"
     ]
    }
   ],
   "source": [
    "num = -5 \n",
    "if num >= 0:\n",
    "    value = num\n",
    "else:\n",
    "    value = 0\n",
    "print(value)"
   ]
  },
  {
   "cell_type": "code",
   "execution_count": 22,
   "id": "9e2b6fa5-ec23-4fbf-bd5f-ad6a941a1e4f",
   "metadata": {},
   "outputs": [
    {
     "name": "stdout",
     "output_type": "stream",
     "text": [
      "짝수\n"
     ]
    }
   ],
   "source": [
    "num = 2\n",
    "if num % 2 == 1:\n",
    "    result = '홀수'\n",
    "else: \n",
    "    result = '짝수'\n",
    "print(result)"
   ]
  },
  {
   "cell_type": "code",
   "execution_count": 24,
   "id": "7b79fc20-55a9-4674-9283-44881fcb217b",
   "metadata": {},
   "outputs": [
    {
     "name": "stdout",
     "output_type": "stream",
     "text": [
      "짝수\n"
     ]
    }
   ],
   "source": [
    "num = 2\n",
    "result = '홀수' if num % 2 == 1 else '짝수'\n",
    "print(result)"
   ]
  },
  {
   "cell_type": "markdown",
   "id": "da1acf2b-3b0c-49fe-b72e-5f24750b585d",
   "metadata": {},
   "source": [
    "# 반복문\n",
    "\n",
    "## while 문\n",
    "\n",
    "```\n",
    "while <조건식>:\n",
    "    실행할 코드\n",
    "```"
   ]
  },
  {
   "cell_type": "code",
   "execution_count": 1,
   "id": "bcf7d1f4-c3a3-4b93-a6c0-6d42352d9db6",
   "metadata": {},
   "outputs": [
    {
     "name": "stdout",
     "output_type": "stream",
     "text": [
      "0\n",
      "1\n",
      "2\n",
      "3\n",
      "4\n"
     ]
    }
   ],
   "source": [
    "a = 0\n",
    "\n",
    "while a < 5:\n",
    "    print(a) \n",
    "    a += 1  # a = a + 1\n",
    "    \n"
   ]
  },
  {
   "cell_type": "code",
   "execution_count": 12,
   "id": "b6e8948a-5f6b-474a-915a-7665dbcb59a1",
   "metadata": {},
   "outputs": [
    {
     "name": "stdin",
     "output_type": "stream",
     "text": [
      " ㅎㅇ\n",
      " ㅎㅇ\n",
      " 안뇽\n",
      " 안녕\n"
     ]
    }
   ],
   "source": [
    "# 사용자가 '안녕' 이라고 할 때까지 게속 입력을 요청받는 코드\n",
    "\n",
    "a = input()\n",
    "\n",
    "while a != '안녕':\n",
    "    a = 0\n",
    "    a = input()\n"
   ]
  },
  {
   "cell_type": "code",
   "execution_count": 13,
   "id": "db3c1d23-3faf-4fb1-8d4d-23c798fa066c",
   "metadata": {},
   "outputs": [
    {
     "name": "stdin",
     "output_type": "stream",
     "text": [
      "안녕이라고해줘 :  ㅎㅇ\n",
      "안녕이라고해줘 :  ㅎㅇㅎㅇ\n",
      "안녕이라고해줘 :  에이\n",
      "안녕이라고해줘 :  싫어\n",
      "안녕이라고해줘 :  오키\n",
      "안녕이라고해줘 :  ㅎㅇ\n",
      "안녕이라고해줘 :  그래 안녕\n",
      "안녕이라고해줘 :  안녕\n"
     ]
    }
   ],
   "source": [
    "greeting = ''\n",
    "\n",
    "while greeting != '안녕':\n",
    "    greeting = input('안녕이라고해줘 : ')"
   ]
  },
  {
   "cell_type": "markdown",
   "id": "35d2af4d-886c-4105-85ae-623492d84d81",
   "metadata": {},
   "source": [
    "## for \n",
    "정해진 범위 내의 반복 \n",
    "\n",
    "```\n",
    "for variable in sequence:\n",
    "    code\n",
    "```"
   ]
  },
  {
   "cell_type": "code",
   "execution_count": 16,
   "id": "b50cc564-5986-4635-bec3-2b3dbe730dcd",
   "metadata": {},
   "outputs": [
    {
     "name": "stdout",
     "output_type": "stream",
     "text": [
      "1\n",
      "2\n",
      "3\n",
      "4\n",
      "5\n"
     ]
    }
   ],
   "source": [
    "numbers = [1, 2, 3, 4, 5]\n",
    "\n",
    "for number in numbers:\n",
    "    print (number)"
   ]
  },
  {
   "cell_type": "code",
   "execution_count": 17,
   "id": "7005ac58-aae0-41c7-b77c-0377c3769213",
   "metadata": {},
   "outputs": [
    {
     "name": "stdin",
     "output_type": "stream",
     "text": [
      " 안녕하세요저는강민주입니다.\n"
     ]
    },
    {
     "name": "stdout",
     "output_type": "stream",
     "text": [
      "안\n",
      "녕\n",
      "하\n",
      "세\n",
      "요\n",
      "저\n",
      "는\n",
      "강\n",
      "민\n",
      "주\n",
      "입\n",
      "니\n",
      "다\n",
      ".\n"
     ]
    }
   ],
   "source": [
    "# for 문을 사용해서 사용자가 입력한 데이터를 한글자씩 출력하는 코드\n",
    "\n",
    "sentence = list(input())\n",
    "\n",
    "for letter in sentence:\n",
    "    print (letter)\n"
   ]
  },
  {
   "cell_type": "code",
   "execution_count": 19,
   "id": "e385cc2f-7bfd-40b8-82f9-538500ed4440",
   "metadata": {},
   "outputs": [
    {
     "name": "stdin",
     "output_type": "stream",
     "text": [
      "단어를입력해주세요:  안녕하세요? 저는 강민주 입니다\n"
     ]
    },
    {
     "name": "stdout",
     "output_type": "stream",
     "text": [
      "안\n",
      "녕\n",
      "하\n",
      "세\n",
      "요\n",
      "?\n",
      " \n",
      "저\n",
      "는\n",
      " \n",
      "강\n",
      "민\n",
      "주\n",
      " \n",
      "입\n",
      "니\n",
      "다\n"
     ]
    }
   ],
   "source": [
    "word = input('단어를입력해주세요: ') #스트링자체도 시퀀스 데이터이므로 괜찮음\n",
    "\n",
    "for char in word:\n",
    "    print(char)"
   ]
  },
  {
   "cell_type": "code",
   "execution_count": 20,
   "id": "50b4912c-8e5f-4e45-a160-5d65b1021da3",
   "metadata": {},
   "outputs": [
    {
     "name": "stdout",
     "output_type": "stream",
     "text": [
      "0\n",
      "1\n",
      "2\n",
      "3\n",
      "4\n"
     ]
    }
   ],
   "source": [
    "for i in range(5):\n",
    "    print(i)"
   ]
  },
  {
   "cell_type": "code",
   "execution_count": 21,
   "id": "3d3e1d87-5979-42b5-aafe-d084104dc41a",
   "metadata": {},
   "outputs": [
    {
     "name": "stdout",
     "output_type": "stream",
     "text": [
      "1\n",
      "2\n",
      "3\n",
      "4\n",
      "5\n"
     ]
    }
   ],
   "source": [
    "for i in (1, 2, 3, 4, 5):\n",
    "    print (i)"
   ]
  },
  {
   "cell_type": "code",
   "execution_count": 28,
   "id": "75096bd5-21a1-4984-9630-fcff00040c84",
   "metadata": {},
   "outputs": [
    {
     "name": "stdout",
     "output_type": "stream",
     "text": [
      "<class 'range'>\n",
      "1\n",
      "3\n",
      "5\n",
      "7\n",
      "9\n",
      "11\n",
      "13\n",
      "15\n",
      "17\n",
      "19\n",
      "21\n",
      "23\n",
      "25\n",
      "27\n",
      "29\n",
      "[1, 3, 5, 7, 9, 11, 13, 15, 17, 19, 21, 23, 25, 27, 29]\n"
     ]
    }
   ],
   "source": [
    "# 1. 1~30까지 숫자 중에서 홀수만 담긴 리스트를 출력\n",
    "# 2. 1~30까지 숫자 중에서 홀수들을 모아 리스트로 출력\n",
    "\n",
    "numbers = range(1,31)\n",
    "\n",
    "odd_numbers = []\n",
    "\n",
    "for number in numbers:\n",
    "    if number % 2 == 1:\n",
    "        print (number)\n",
    "        odd_numbers.append(number)\n",
    "\n",
    "print (odd_numbers)\n",
    "#선생님 답변이랑 같음"
   ]
  },
  {
   "cell_type": "code",
   "execution_count": 31,
   "id": "f48dd64a-138f-487d-9209-55a1949baf95",
   "metadata": {},
   "outputs": [
    {
     "name": "stdout",
     "output_type": "stream",
     "text": [
      "0\n",
      "라면\n",
      "1\n",
      "김밥\n",
      "2\n",
      "돈가스\n"
     ]
    }
   ],
   "source": [
    "menus = ['라면', '김밥', '돈가스']\n",
    "\n",
    "for menu in enumerate(menus): #여기서는 menu -> (1, 김밥)\n",
    "    print(menu[0])\n",
    "    print(menu[1])"
   ]
  },
  {
   "cell_type": "code",
   "execution_count": 30,
   "id": "266a23b9-9c5c-4b23-b89a-1b086e0be5f5",
   "metadata": {},
   "outputs": [
    {
     "data": {
      "text/plain": [
       "<enumerate at 0x1042d59e0>"
      ]
     },
     "execution_count": 30,
     "metadata": {},
     "output_type": "execute_result"
    }
   ],
   "source": [
    "enumerate(menus) #얘도 시퀀스 데이터 (0, 라) , (1, 김), (2, 돈) 으로 이루어져 있음"
   ]
  },
  {
   "cell_type": "code",
   "execution_count": 1,
   "id": "341b01ba-cdcb-4622-8216-57a93309486b",
   "metadata": {},
   "outputs": [
    {
     "name": "stdout",
     "output_type": "stream",
     "text": [
      "0\n",
      "라면\n",
      "1\n",
      "김밥\n",
      "2\n",
      "돈가스\n"
     ]
    }
   ],
   "source": [
    "menus = ['라면', '김밥', '돈가스']\n",
    "\n",
    "for idx, menu in enumerate(menus): #여기서는 1-> idx, 김밥 -> menu\n",
    "    print(idx)\n",
    "    print(menu)"
   ]
  },
  {
   "cell_type": "markdown",
   "id": "323be7ec-6ef0-45b6-a4b9-6444bddc60f9",
   "metadata": {},
   "source": [
    "## dictionary 반복\n",
    "\n",
    "1. for key in dict:\n",
    "2. for key in dict.keys():\n",
    "3. for value in dict.values():\n",
    "4. for key, value in dict.items():"
   ]
  },
  {
   "cell_type": "code",
   "execution_count": 33,
   "id": "ac0e3963-191f-4f3f-a46b-c2b0c9997bf6",
   "metadata": {},
   "outputs": [],
   "source": [
    "info = {\n",
    "    'name': 'minju',\n",
    "    'location': 'seoul',\n",
    "    'phone': '010-1234-7318',\n",
    "}"
   ]
  },
  {
   "cell_type": "code",
   "execution_count": 35,
   "id": "109c6a15-0827-4362-9d7e-b0e638864041",
   "metadata": {},
   "outputs": [
    {
     "name": "stdout",
     "output_type": "stream",
     "text": [
      "name\n",
      "minju\n",
      "location\n",
      "seoul\n",
      "phone\n",
      "010-2743-7318\n"
     ]
    }
   ],
   "source": [
    "for i in info:\n",
    "    print (i) # -> name, location, phone와 같은 key 만 출력됨\n",
    "    print(info[i]) # -> minju, seoul, 010 과 같은 key 에 해당하는 value 가 출력됨"
   ]
  },
  {
   "cell_type": "code",
   "execution_count": 36,
   "id": "3fb85f04-7ea5-4649-be28-89f1b8d7e994",
   "metadata": {},
   "outputs": [],
   "source": [
    "blood_type = {\n",
    "    'A': 5,\n",
    "    'B': 4,\n",
    "    'O': 2,\n",
    "    'AB': 3,\n",
    "}"
   ]
  },
  {
   "cell_type": "code",
   "execution_count": 38,
   "id": "8905b30f-a975-4582-8705-f1d7416cf677",
   "metadata": {},
   "outputs": [
    {
     "name": "stdout",
     "output_type": "stream",
     "text": [
      "혈액형 목록은 다음과 같습니다.\n",
      "A\n",
      "B\n",
      "O\n",
      "AB\n"
     ]
    }
   ],
   "source": [
    "print('혈액형 목록은 다음과 같습니다.')\n",
    "for key in blood_type:\n",
    "    print(key)"
   ]
  },
  {
   "cell_type": "code",
   "execution_count": 39,
   "id": "66c2ad64-eb3d-4ea3-aa64-c85d09d7595d",
   "metadata": {},
   "outputs": [
    {
     "name": "stdout",
     "output_type": "stream",
     "text": [
      "혈액형 목록은 다음과 같습니다.\n",
      "A\n",
      "B\n",
      "O\n",
      "AB\n"
     ]
    }
   ],
   "source": [
    "print('혈액형 목록은 다음과 같습니다.')\n",
    "for key in blood_type.keys():\n",
    "    print(key)"
   ]
  },
  {
   "cell_type": "code",
   "execution_count": 43,
   "id": "ac83d0c2-caae-413c-97f2-f9603083aa1f",
   "metadata": {},
   "outputs": [
    {
     "name": "stdout",
     "output_type": "stream",
     "text": [
      "5\n",
      "4\n",
      "2\n",
      "3\n",
      "총 인원은 14명입니다.\n"
     ]
    }
   ],
   "source": [
    "result = 0\n",
    "for value in blood_type.values():\n",
    "    print(value)\n",
    "    result += value\n",
    "print(f'총 인원은 {result}명입니다.')"
   ]
  },
  {
   "cell_type": "code",
   "execution_count": 49,
   "id": "a12a77e0-7f57-4e01-90f3-4104b015356a",
   "metadata": {},
   "outputs": [
    {
     "name": "stdout",
     "output_type": "stream",
     "text": [
      "A형은 5형입니다.\n",
      "B형은 4형입니다.\n",
      "O형은 2형입니다.\n",
      "AB형은 3형입니다.\n"
     ]
    }
   ],
   "source": [
    "for key, value in blood_type.items():\n",
    "    print(f'{key}형은 {value}명입니다.')"
   ]
  },
  {
   "cell_type": "code",
   "execution_count": 46,
   "id": "c737bfba-d4b7-4ac0-9e81-bd17036022d5",
   "metadata": {},
   "outputs": [
    {
     "data": {
      "text/plain": [
       "dict_items([('A', 5), ('B', 4), ('O', 2), ('AB', 3)])"
      ]
     },
     "execution_count": 46,
     "metadata": {},
     "output_type": "execute_result"
    }
   ],
   "source": [
    "blood_type.items()"
   ]
  },
  {
   "cell_type": "markdown",
   "id": "d1fe78a4-7010-4402-af4f-ed6e29bfb7cb",
   "metadata": {},
   "source": [
    "### break\n",
    "반복문을 종료시키는 키워드 "
   ]
  },
  {
   "cell_type": "code",
   "execution_count": 58,
   "id": "c802e0b8-b7a9-486f-b63e-ab97016585f6",
   "metadata": {},
   "outputs": [
    {
     "name": "stdout",
     "output_type": "stream",
     "text": [
      "0\n",
      "1\n",
      "2\n",
      "3\n",
      "4\n",
      "5\n",
      "6\n",
      "7\n",
      "8\n",
      "9\n",
      "10\n",
      "10넘었어\n"
     ]
    }
   ],
   "source": [
    "for i in range(100):\n",
    "    if i > 10 :\n",
    "        print('10넘었어')\n",
    "        break\n",
    "    print(i)"
   ]
  },
  {
   "cell_type": "code",
   "execution_count": 2,
   "id": "d73514e9-a65b-4a4e-a01e-6b64385ecc7e",
   "metadata": {},
   "outputs": [
    {
     "name": "stdout",
     "output_type": "stream",
     "text": [
      "보리\n",
      "보리\n",
      "보리\n",
      "쌀\n",
      "잡았다\n"
     ]
    }
   ],
   "source": [
    "rice  = ['보리', '보리', '보리', '쌀', '보리', '보리']\n",
    "# 보리, 보리, 보리, 쌀, 잡았다! => x\n",
    "\n",
    "for r in rice:\n",
    "    print(r)\n",
    "    if r == '쌀':\n",
    "        print('잡았다')\n",
    "        break"
   ]
  },
  {
   "cell_type": "markdown",
   "id": "36946db7-ef32-47d4-a96c-67d612e64913",
   "metadata": {},
   "source": [
    "### continue\n",
    "\n",
    "continue 이후의 코드를 실행하지 않고 다음 반복을 진행 "
   ]
  },
  {
   "cell_type": "code",
   "execution_count": 54,
   "id": "846227d5-1e26-40ce-aaaa-9c2eef8d4450",
   "metadata": {},
   "outputs": [
    {
     "name": "stdout",
     "output_type": "stream",
     "text": [
      "0\n",
      "2\n",
      "4\n",
      "6\n",
      "8\n"
     ]
    }
   ],
   "source": [
    "for i in range(10):\n",
    "    if i % 2: #자동 형변환\n",
    "        continue   # 홀수인 친구들은 continue 이후의 코드를 실행하지 않고 다음 for문으로 강제로 넘어감 \n",
    "    print(i)"
   ]
  },
  {
   "cell_type": "code",
   "execution_count": 60,
   "id": "e5802351-0363-4db1-8982-2ca198c0995a",
   "metadata": {},
   "outputs": [
    {
     "name": "stdout",
     "output_type": "stream",
     "text": [
      "성인입니다\n",
      "성인입니다\n",
      "성인입니다\n"
     ]
    }
   ],
   "source": [
    "age = [10, 35, 20, 18, 9, 40]\n",
    "\n",
    "for a in age:\n",
    "    if a < 20:\n",
    "        continue\n",
    "    print('성인입니다')"
   ]
  },
  {
   "cell_type": "markdown",
   "id": "cb83416d-381c-4ee6-84c4-6734a606f7dc",
   "metadata": {},
   "source": [
    "### else\n",
    "else문은 끝까지 반복이 진행된 후 실행됩니다. "
   ]
  },
  {
   "cell_type": "code",
   "execution_count": 63,
   "id": "40f6bc56-9c0e-4ec6-9aec-572c04bfceb7",
   "metadata": {},
   "outputs": [
    {
     "name": "stdout",
     "output_type": "stream",
     "text": [
      "0\n",
      "1\n",
      "2\n",
      "3\n",
      "4\n",
      "5\n",
      "6\n",
      "7\n",
      "8\n",
      "9\n",
      "break 못만남\n"
     ]
    }
   ],
   "source": [
    "for i in range(10):\n",
    "    if i > 100:\n",
    "        break \n",
    "    print (i)\n",
    "else:\n",
    "    print('break 못만남') # 모든 for 문이 다 돌았다면 else 실행"
   ]
  },
  {
   "cell_type": "code",
   "execution_count": 62,
   "id": "bf68543a-5466-43ac-b9b1-bf8120cde83b",
   "metadata": {},
   "outputs": [
    {
     "name": "stdout",
     "output_type": "stream",
     "text": [
      "0\n",
      "1\n",
      "2\n",
      "3\n",
      "4\n",
      "5\n"
     ]
    }
   ],
   "source": [
    "for i in range(10):\n",
    "    if i > 5:\n",
    "        break \n",
    "    print (i)\n",
    "else:\n",
    "    print('break 못만남') # 중간에 for 문이 끊겼다면 else 실행 안됨"
   ]
  },
  {
   "cell_type": "code",
   "execution_count": 64,
   "id": "128ec78d-6e97-41ee-8f7f-26df66fd9855",
   "metadata": {},
   "outputs": [
    {
     "name": "stdout",
     "output_type": "stream",
     "text": [
      "True\n",
      "False\n"
     ]
    }
   ],
   "source": [
    "numbers = [1, 3, 5, 7, 9]\n",
    "print(3 in numbers)\n",
    "print(2 in numbers)"
   ]
  },
  {
   "cell_type": "code",
   "execution_count": 69,
   "id": "2acaf72a-241f-4bb1-98cf-81f9d67ad825",
   "metadata": {},
   "outputs": [
    {
     "name": "stdout",
     "output_type": "stream",
     "text": [
      "True\n"
     ]
    }
   ],
   "source": [
    "numbers = [1, 3, 5, 7, 9]\n",
    "target = 5\n",
    "\n",
    "for number in numbers: #if 문을 통해 내가 원하는 숫자가 있으면 True\n",
    "    if number == target:\n",
    "        print('True')\n",
    "        break\n",
    "else:\n",
    "    print('False')"
   ]
  },
  {
   "cell_type": "markdown",
   "id": "4e11b38c-8ffa-4647-b76e-16d434b81bf6",
   "metadata": {},
   "source": [
    "### pass"
   ]
  },
  {
   "cell_type": "code",
   "execution_count": 70,
   "id": "a70d1d54-f62b-40fa-8c52-bcfea126789e",
   "metadata": {},
   "outputs": [],
   "source": [
    "if True: \n",
    "    pass #아직 프로그램이 완성되지 않았는데 일단 적어놓을 때 사용 "
   ]
  },
  {
   "cell_type": "markdown",
   "id": "079fafc2-d451-42e3-acab-8dc4914f8c7c",
   "metadata": {},
   "source": [
    "### match\n",
    "\n",
    "``` match value:\n",
    "        case 조건(어떤 value):\n",
    "            code\n",
    "        case 조건(어떤 value):\n",
    "            code\n",
    "        case _:\n",
    "            code "
   ]
  },
  {
   "cell_type": "code",
   "execution_count": 73,
   "id": "86aa487b-8fce-4e8f-a36d-8a8d89150aea",
   "metadata": {},
   "outputs": [
    {
     "name": "stdout",
     "output_type": "stream",
     "text": [
      "Not found\n"
     ]
    }
   ],
   "source": [
    "status = 404\n",
    "\n",
    "match status: \n",
    "    case 400:\n",
    "        print('Bad request')\n",
    "    case 404:\n",
    "        print('Not found')\n",
    "    case _:\n",
    "        print('something is wrong')"
   ]
  },
  {
   "cell_type": "code",
   "execution_count": null,
   "id": "0425a623-88b7-4ea5-b0f8-36b04685d059",
   "metadata": {},
   "outputs": [],
   "source": []
  },
  {
   "cell_type": "code",
   "execution_count": null,
   "id": "df79f59d-e0cd-4fa3-89ed-88291c16bf7b",
   "metadata": {},
   "outputs": [],
   "source": []
  },
  {
   "cell_type": "code",
   "execution_count": null,
   "id": "e66d97c0-a7f2-4b69-bf8e-41e02014997d",
   "metadata": {},
   "outputs": [],
   "source": []
  },
  {
   "cell_type": "code",
   "execution_count": null,
   "id": "cb325932-0993-4164-8b52-4a7f4f63a2c9",
   "metadata": {},
   "outputs": [],
   "source": []
  },
  {
   "cell_type": "code",
   "execution_count": null,
   "id": "b402e38e-40ee-4066-80fa-eeb519b1aaf1",
   "metadata": {},
   "outputs": [],
   "source": []
  },
  {
   "cell_type": "code",
   "execution_count": null,
   "id": "2ec8a706-c374-49b9-ac81-e86863274580",
   "metadata": {},
   "outputs": [],
   "source": []
  },
  {
   "cell_type": "code",
   "execution_count": null,
   "id": "e6eaacb9-5fec-4445-8e3f-42f7b7d22310",
   "metadata": {},
   "outputs": [],
   "source": []
  },
  {
   "cell_type": "code",
   "execution_count": null,
   "id": "ac95dc17-9c4b-40d3-9da8-ad037512905e",
   "metadata": {},
   "outputs": [],
   "source": []
  },
  {
   "cell_type": "code",
   "execution_count": null,
   "id": "6e6739e6-f3d3-49f5-adb5-1b7592c290e4",
   "metadata": {},
   "outputs": [],
   "source": []
  },
  {
   "cell_type": "code",
   "execution_count": null,
   "id": "bfa67bdc-fc6d-4912-9e8f-66f60c94ea86",
   "metadata": {},
   "outputs": [],
   "source": []
  }
 ],
 "metadata": {
  "kernelspec": {
   "display_name": "Python 3 (ipykernel)",
   "language": "python",
   "name": "python3"
  },
  "language_info": {
   "codemirror_mode": {
    "name": "ipython",
    "version": 3
   },
   "file_extension": ".py",
   "mimetype": "text/x-python",
   "name": "python",
   "nbconvert_exporter": "python",
   "pygments_lexer": "ipython3",
   "version": "3.11.4"
  }
 },
 "nbformat": 4,
 "nbformat_minor": 5
}
