{
 "cells": [
  {
   "cell_type": "code",
   "execution_count": 15,
   "id": "86bf079c-361c-4267-ac43-1c2de26bf49a",
   "metadata": {},
   "outputs": [],
   "source": [
    "\n",
    "\n",
    "class Menu():\n",
    "    def __init__(self, size, fruits):\n",
    "        self.size = size\n",
    "        self.price = 0\n",
    "        self.fruits = []\n",
    "        (self.fruits).append(fruits)\n",
    "        \n",
    "        \n",
    "    def explain():\n",
    "        print({'사과': '콜레스테롤',\n",
    "               '자몽': '피부',\n",
    "               '블루베리': '피로',\n",
    "               '토마토': '해독',\n",
    "               '비트': '면역력'})\n",
    "               \n",
    "    def advantage(self):\n",
    "        adv=[]\n",
    "        if '사과' in self.fruits:\n",
    "            adv.append(['콜레스테롤'])\n",
    "        if '자몽' in self.fruits:\n",
    "            adv.append(['피부'])\n",
    "        if '블루베리' in self.fruits:\n",
    "            adv.append(['피로'])\n",
    "        if '토마토' in self.fruits:\n",
    "            adv.append(['해독'])\n",
    "        if '비트' in self.fruits:\n",
    "            adv.append(['면역력'])\n",
    "        print(adv)\n",
    "\n",
    "        "
   ]
  },
  {
   "cell_type": "code",
   "execution_count": 16,
   "id": "0c69b72e-0a98-4dfb-b24b-d756c61daff4",
   "metadata": {},
   "outputs": [
    {
     "name": "stdout",
     "output_type": "stream",
     "text": [
      "[['토마토', '블루베리']]\n",
      "[]\n"
     ]
    }
   ],
   "source": [
    "m = Menu('m', ['토마토', '블루베리'])\n",
    "print(m.fruits)\n",
    "m.advantage()"
   ]
  },
  {
   "cell_type": "code",
   "execution_count": null,
   "id": "197f6f4d-4366-4ce1-8b7d-a3172e79f0ff",
   "metadata": {},
   "outputs": [],
   "source": []
  },
  {
   "cell_type": "code",
   "execution_count": null,
   "id": "7f1e5095-b8ba-4741-8b63-0f174a74bfdc",
   "metadata": {},
   "outputs": [],
   "source": []
  },
  {
   "cell_type": "code",
   "execution_count": null,
   "id": "d59d95f6-9620-4d2d-8c93-e759c9b769fe",
   "metadata": {},
   "outputs": [],
   "source": []
  },
  {
   "cell_type": "code",
   "execution_count": null,
   "id": "ef4dbef0-d2b4-44c8-add8-8e99319a12ac",
   "metadata": {},
   "outputs": [],
   "source": []
  }
 ],
 "metadata": {
  "kernelspec": {
   "display_name": "Python 3 (ipykernel)",
   "language": "python",
   "name": "python3"
  },
  "language_info": {
   "codemirror_mode": {
    "name": "ipython",
    "version": 3
   },
   "file_extension": ".py",
   "mimetype": "text/x-python",
   "name": "python",
   "nbconvert_exporter": "python",
   "pygments_lexer": "ipython3",
   "version": "3.11.4"
  }
 },
 "nbformat": 4,
 "nbformat_minor": 5
}
