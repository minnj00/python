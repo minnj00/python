{
 "cells": [
  {
   "cell_type": "code",
   "execution_count": 1,
   "id": "0f882a93-2616-4ea0-b798-994f6e13e03b",
   "metadata": {},
   "outputs": [
    {
     "name": "stdout",
     "output_type": "stream",
     "text": [
      "hello\n"
     ]
    }
   ],
   "source": [
    "print('hello') # 함수"
   ]
  },
  {
   "cell_type": "code",
   "execution_count": 2,
   "id": "53af4c39-688d-4ff9-ac37-4158548bcac7",
   "metadata": {},
   "outputs": [
    {
     "data": {
      "text/plain": [
       "'123'"
      ]
     },
     "execution_count": 2,
     "metadata": {},
     "output_type": "execute_result"
    }
   ],
   "source": [
    "''.join(['1','2','3']) # 메소드"
   ]
  },
  {
   "cell_type": "code",
   "execution_count": 3,
   "id": "57229bee-3afc-44af-a2f4-7f3160b64ab4",
   "metadata": {},
   "outputs": [
    {
     "data": {
      "text/plain": [
       "['__add__',\n",
       " '__class__',\n",
       " '__contains__',\n",
       " '__delattr__',\n",
       " '__dir__',\n",
       " '__doc__',\n",
       " '__eq__',\n",
       " '__format__',\n",
       " '__ge__',\n",
       " '__getattribute__',\n",
       " '__getitem__',\n",
       " '__getnewargs__',\n",
       " '__getstate__',\n",
       " '__gt__',\n",
       " '__hash__',\n",
       " '__init__',\n",
       " '__init_subclass__',\n",
       " '__iter__',\n",
       " '__le__',\n",
       " '__len__',\n",
       " '__lt__',\n",
       " '__mod__',\n",
       " '__mul__',\n",
       " '__ne__',\n",
       " '__new__',\n",
       " '__reduce__',\n",
       " '__reduce_ex__',\n",
       " '__repr__',\n",
       " '__rmod__',\n",
       " '__rmul__',\n",
       " '__setattr__',\n",
       " '__sizeof__',\n",
       " '__str__',\n",
       " '__subclasshook__',\n",
       " 'capitalize',\n",
       " 'casefold',\n",
       " 'center',\n",
       " 'count',\n",
       " 'encode',\n",
       " 'endswith',\n",
       " 'expandtabs',\n",
       " 'find',\n",
       " 'format',\n",
       " 'format_map',\n",
       " 'index',\n",
       " 'isalnum',\n",
       " 'isalpha',\n",
       " 'isascii',\n",
       " 'isdecimal',\n",
       " 'isdigit',\n",
       " 'isidentifier',\n",
       " 'islower',\n",
       " 'isnumeric',\n",
       " 'isprintable',\n",
       " 'isspace',\n",
       " 'istitle',\n",
       " 'isupper',\n",
       " 'join',\n",
       " 'ljust',\n",
       " 'lower',\n",
       " 'lstrip',\n",
       " 'maketrans',\n",
       " 'partition',\n",
       " 'removeprefix',\n",
       " 'removesuffix',\n",
       " 'replace',\n",
       " 'rfind',\n",
       " 'rindex',\n",
       " 'rjust',\n",
       " 'rpartition',\n",
       " 'rsplit',\n",
       " 'rstrip',\n",
       " 'split',\n",
       " 'splitlines',\n",
       " 'startswith',\n",
       " 'strip',\n",
       " 'swapcase',\n",
       " 'title',\n",
       " 'translate',\n",
       " 'upper',\n",
       " 'zfill']"
      ]
     },
     "execution_count": 3,
     "metadata": {},
     "output_type": "execute_result"
    }
   ],
   "source": [
    "dir('hello') # 객체가 어떤 기능을 가지고 있는지 "
   ]
  },
  {
   "cell_type": "code",
   "execution_count": 4,
   "id": "13117f19-be2f-4098-85cc-2110cee09653",
   "metadata": {},
   "outputs": [
    {
     "data": {
      "text/plain": [
       "['__abs__',\n",
       " '__add__',\n",
       " '__and__',\n",
       " '__bool__',\n",
       " '__ceil__',\n",
       " '__class__',\n",
       " '__delattr__',\n",
       " '__dir__',\n",
       " '__divmod__',\n",
       " '__doc__',\n",
       " '__eq__',\n",
       " '__float__',\n",
       " '__floor__',\n",
       " '__floordiv__',\n",
       " '__format__',\n",
       " '__ge__',\n",
       " '__getattribute__',\n",
       " '__getnewargs__',\n",
       " '__getstate__',\n",
       " '__gt__',\n",
       " '__hash__',\n",
       " '__index__',\n",
       " '__init__',\n",
       " '__init_subclass__',\n",
       " '__int__',\n",
       " '__invert__',\n",
       " '__le__',\n",
       " '__lshift__',\n",
       " '__lt__',\n",
       " '__mod__',\n",
       " '__mul__',\n",
       " '__ne__',\n",
       " '__neg__',\n",
       " '__new__',\n",
       " '__or__',\n",
       " '__pos__',\n",
       " '__pow__',\n",
       " '__radd__',\n",
       " '__rand__',\n",
       " '__rdivmod__',\n",
       " '__reduce__',\n",
       " '__reduce_ex__',\n",
       " '__repr__',\n",
       " '__rfloordiv__',\n",
       " '__rlshift__',\n",
       " '__rmod__',\n",
       " '__rmul__',\n",
       " '__ror__',\n",
       " '__round__',\n",
       " '__rpow__',\n",
       " '__rrshift__',\n",
       " '__rshift__',\n",
       " '__rsub__',\n",
       " '__rtruediv__',\n",
       " '__rxor__',\n",
       " '__setattr__',\n",
       " '__sizeof__',\n",
       " '__str__',\n",
       " '__sub__',\n",
       " '__subclasshook__',\n",
       " '__truediv__',\n",
       " '__trunc__',\n",
       " '__xor__',\n",
       " 'as_integer_ratio',\n",
       " 'bit_count',\n",
       " 'bit_length',\n",
       " 'conjugate',\n",
       " 'denominator',\n",
       " 'from_bytes',\n",
       " 'imag',\n",
       " 'numerator',\n",
       " 'real',\n",
       " 'to_bytes']"
      ]
     },
     "execution_count": 4,
     "metadata": {},
     "output_type": "execute_result"
    }
   ],
   "source": [
    "dir(1)"
   ]
  },
  {
   "cell_type": "markdown",
   "id": "74f1093d-ba9b-4972-88f8-5a05e75db34a",
   "metadata": {},
   "source": [
    "# 1. 문자열 메소드 "
   ]
  },
  {
   "cell_type": "code",
   "execution_count": 12,
   "id": "4b6ad0ee-a2de-4fbc-9342-f1407bcb5fa6",
   "metadata": {},
   "outputs": [],
   "source": [
    "a = 'hello my name is minju'"
   ]
  },
  {
   "cell_type": "code",
   "execution_count": 6,
   "id": "a2a1ae8b-fd20-4475-a0a7-da295858ebd0",
   "metadata": {},
   "outputs": [
    {
     "data": {
      "text/plain": [
       "'h'"
      ]
     },
     "execution_count": 6,
     "metadata": {},
     "output_type": "execute_result"
    }
   ],
   "source": [
    "a[0]"
   ]
  },
  {
   "cell_type": "code",
   "execution_count": 7,
   "id": "4a435e70-a09f-4227-8741-e0414e74f75f",
   "metadata": {},
   "outputs": [
    {
     "ename": "TypeError",
     "evalue": "'str' object does not support item assignment",
     "output_type": "error",
     "traceback": [
      "\u001b[0;31m---------------------------------------------------------------------------\u001b[0m",
      "\u001b[0;31mTypeError\u001b[0m                                 Traceback (most recent call last)",
      "Cell \u001b[0;32mIn[7], line 1\u001b[0m\n\u001b[0;32m----> 1\u001b[0m \u001b[43ma\u001b[49m\u001b[43m[\u001b[49m\u001b[38;5;241;43m0\u001b[39;49m\u001b[43m]\u001b[49m \u001b[38;5;241m=\u001b[39m \u001b[38;5;124m'\u001b[39m\u001b[38;5;124mH\u001b[39m\u001b[38;5;124m'\u001b[39m\n",
      "\u001b[0;31mTypeError\u001b[0m: 'str' object does not support item assignment"
     ]
    }
   ],
   "source": [
    "a[0] = 'H' # string 은 immutable하기 때문에 불가능함"
   ]
  },
  {
   "cell_type": "code",
   "execution_count": 20,
   "id": "7855d271-fac9-4c42-bfde-1717405e1a79",
   "metadata": {},
   "outputs": [],
   "source": [
    "a = a.capitalize()  # a.capitalize() 자체는 원본을 바꾸지 않음"
   ]
  },
  {
   "cell_type": "code",
   "execution_count": 14,
   "id": "e63b4c69-bf29-453b-bd97-7b9e4569533c",
   "metadata": {},
   "outputs": [
    {
     "name": "stdout",
     "output_type": "stream",
     "text": [
      "hello my name is minju\n"
     ]
    }
   ],
   "source": [
    "print(a) "
   ]
  },
  {
   "cell_type": "code",
   "execution_count": 15,
   "id": "13ec3bdf-3d68-4945-a9f2-9b1d28c4f8ed",
   "metadata": {},
   "outputs": [
    {
     "data": {
      "text/plain": [
       "'Hello My Name Is Minju'"
      ]
     },
     "execution_count": 15,
     "metadata": {},
     "output_type": "execute_result"
    }
   ],
   "source": [
    "a.title() #단어 첫 글자마다 대문자로 바꿔줌"
   ]
  },
  {
   "cell_type": "code",
   "execution_count": 16,
   "id": "13498ce6-96b4-4129-a13f-8b025f393907",
   "metadata": {},
   "outputs": [
    {
     "data": {
      "text/plain": [
       "'HELLO MY NAME IS MINJU'"
      ]
     },
     "execution_count": 16,
     "metadata": {},
     "output_type": "execute_result"
    }
   ],
   "source": [
    "a.upper() "
   ]
  },
  {
   "cell_type": "code",
   "execution_count": 17,
   "id": "c3f9be28-e9f9-48ec-95f2-f8eaf1ac34da",
   "metadata": {},
   "outputs": [
    {
     "data": {
      "text/plain": [
       "'hello my name is minju'"
      ]
     },
     "execution_count": 17,
     "metadata": {},
     "output_type": "execute_result"
    }
   ],
   "source": [
    "a.lower()"
   ]
  },
  {
   "cell_type": "code",
   "execution_count": 21,
   "id": "191cca8e-2481-4edf-9497-dc0ca5416239",
   "metadata": {},
   "outputs": [
    {
     "name": "stdout",
     "output_type": "stream",
     "text": [
      "Hello my name is minju\n"
     ]
    }
   ],
   "source": [
    "print(a)"
   ]
  },
  {
   "cell_type": "code",
   "execution_count": 23,
   "id": "d691c64e-3c3b-4085-834a-f789390d1901",
   "metadata": {},
   "outputs": [
    {
     "data": {
      "text/plain": [
       "'hi,my,name'"
      ]
     },
     "execution_count": 23,
     "metadata": {},
     "output_type": "execute_result"
    }
   ],
   "source": [
    "# ''.join(iterable)\n",
    "my_list= ['hi','my', 'name'] # 하나로 합칠 때 \n",
    "', '.join(my_list)"
   ]
  },
  {
   "cell_type": "code",
   "execution_count": 25,
   "id": "93c5e112-ffcc-4562-ae28-8e9dca1c8b5e",
   "metadata": {},
   "outputs": [
    {
     "data": {
      "text/plain": [
       "'w!!!!!!!!!w'"
      ]
     },
     "execution_count": 25,
     "metadata": {},
     "output_type": "execute_result"
    }
   ],
   "source": [
    "# .replace(old, new[, count]) [] 안은 기본인자\n",
    "'wooooooooow'.replace('o', '!', 3) # o를 !로 3개 바꾸겠다."
   ]
  },
  {
   "cell_type": "code",
   "execution_count": 170,
   "id": "d94566ae-487a-46a7-b57b-287b267bbffc",
   "metadata": {},
   "outputs": [
    {
     "name": "stdout",
     "output_type": "stream",
     "text": [
      "         hello\n",
      "\n",
      "hello\n",
      "ello\n",
      "ihihiihihihihihellohihihihi\n",
      "ellohihihihi\n",
      "hihihiihihihihihello\n"
     ]
    }
   ],
   "source": [
    "# .strip([chars]) : 스트링의 오른쪽과 왼쪽에서 제거함\n",
    "my_string = '         hello\\n'\n",
    "print(my_string)\n",
    "print(my_string.strip()) # 엔터, 스페이스가 다 삭제됨\n",
    "#이 부분은 데이터 정제를 할 때 사용됨\n",
    "\n",
    "my_string2='hihihiihihihihihellohihihihi'  \n",
    "# 메소드 적용 과정: h먼저 찾고 삭제 그다음 i 찾고 삭제 hello의 h 까지는 삭제하지만 뒤에 i 가 없어 삭제 중지 \n",
    "# 양끝에서 삭제할 때만 용이 \n",
    "print(my_string2.strip('hi'))\n",
    "print(my_string2.strip('h'))\n",
    "print(my_string2.lstrip('hi')) #앞에것만 삭제\n",
    "print(my_string2.rstrip('hi')) #뒤에것만 삭제\n",
    "\n",
    "\n",
    "\n"
   ]
  },
  {
   "cell_type": "code",
   "execution_count": 32,
   "id": "de3c2b82-0784-4c10-8b9e-f1755005a450",
   "metadata": {},
   "outputs": [
    {
     "name": "stdout",
     "output_type": "stream",
     "text": [
      "1\n",
      "-1\n",
      "1\n",
      "2\n"
     ]
    }
   ],
   "source": [
    "# .find(x)\n",
    "a = 'apple'\n",
    "print(a.find('p')) #인덱스 값을 가져와줌 \n",
    "print(a.find('z')) #없으면 -1 출력\n",
    "for i in range (len(a)):\n",
    "    if a[i] == 'p':\n",
    "        print(i)         #두번째 p출력\n",
    "\n"
   ]
  },
  {
   "cell_type": "code",
   "execution_count": 31,
   "id": "5c744109-353b-4fa5-a59b-452377852499",
   "metadata": {},
   "outputs": [
    {
     "name": "stdout",
     "output_type": "stream",
     "text": [
      "1\n"
     ]
    },
    {
     "ename": "ValueError",
     "evalue": "substring not found",
     "output_type": "error",
     "traceback": [
      "\u001b[0;31m---------------------------------------------------------------------------\u001b[0m",
      "\u001b[0;31mValueError\u001b[0m                                Traceback (most recent call last)",
      "Cell \u001b[0;32mIn[31], line 4\u001b[0m\n\u001b[1;32m      2\u001b[0m a \u001b[38;5;241m=\u001b[39m \u001b[38;5;124m'\u001b[39m\u001b[38;5;124mapple\u001b[39m\u001b[38;5;124m'\u001b[39m\n\u001b[1;32m      3\u001b[0m \u001b[38;5;28mprint\u001b[39m(a\u001b[38;5;241m.\u001b[39mindex(\u001b[38;5;124m'\u001b[39m\u001b[38;5;124mp\u001b[39m\u001b[38;5;124m'\u001b[39m))\n\u001b[0;32m----> 4\u001b[0m \u001b[38;5;28mprint\u001b[39m(\u001b[43ma\u001b[49m\u001b[38;5;241;43m.\u001b[39;49m\u001b[43mindex\u001b[49m\u001b[43m(\u001b[49m\u001b[38;5;124;43m'\u001b[39;49m\u001b[38;5;124;43mz\u001b[39;49m\u001b[38;5;124;43m'\u001b[39;49m\u001b[43m)\u001b[49m)\n",
      "\u001b[0;31mValueError\u001b[0m: substring not found"
     ]
    }
   ],
   "source": [
    "# .index(x)\n",
    "a = 'apple'\n",
    "print(a.index('p'))\n",
    "print(a.index('z')) # find 랑 다르게 에러 출력"
   ]
  },
  {
   "cell_type": "code",
   "execution_count": 36,
   "id": "9cf1f446-4f7e-4321-8e5f-b492614a431d",
   "metadata": {},
   "outputs": [
    {
     "data": {
      "text/plain": [
       "['my name ', 's hong']"
      ]
     },
     "execution_count": 36,
     "metadata": {},
     "output_type": "execute_result"
    }
   ],
   "source": [
    "# .split(x) # 기본적으로 띄어쓰기 기준으로 split, () 어떤 기준으로 split 하고 싶은지 적음\n",
    "a = 'my name is hong'\n",
    "a.split('i')"
   ]
  },
  {
   "cell_type": "code",
   "execution_count": 37,
   "id": "9a9e0864-a7a9-4d33-bcbe-9a1cfcb9bc1f",
   "metadata": {},
   "outputs": [
    {
     "data": {
      "text/plain": [
       "4"
      ]
     },
     "execution_count": 37,
     "metadata": {},
     "output_type": "execute_result"
    }
   ],
   "source": [
    "# .count(x)\n",
    "'woooow'.count('o')"
   ]
  },
  {
   "cell_type": "markdown",
   "id": "bfd230d3-cbeb-4d69-90a2-cf8d9757b8c2",
   "metadata": {},
   "source": [
    "# 2. 리스트 메소드"
   ]
  },
  {
   "cell_type": "code",
   "execution_count": 43,
   "id": "774d182d-fa28-453c-93ba-f3e7d2de3a0e",
   "metadata": {},
   "outputs": [],
   "source": [
    "numbers = [1, 2, 2, 5, 2, 1, 6, 2, 4, 4]"
   ]
  },
  {
   "cell_type": "code",
   "execution_count": 44,
   "id": "71a63f37-fb16-41db-be1e-491aec88ab66",
   "metadata": {},
   "outputs": [
    {
     "name": "stdout",
     "output_type": "stream",
     "text": [
      "[1, 2, 2, 5, 2, 1, 6, 2, 4, 4, 10]\n"
     ]
    }
   ],
   "source": [
    "# .append(x)\n",
    "numbers.append(10)  #list 는 mutable 하기 때문에 원본 자체를 바꿀 수 있음 \n",
    "print(numbers)"
   ]
  },
  {
   "cell_type": "code",
   "execution_count": 45,
   "id": "f6c86e16-d99b-4639-b174-31f91a313669",
   "metadata": {},
   "outputs": [
    {
     "name": "stdout",
     "output_type": "stream",
     "text": [
      "[1, 2, 2, 5, 2, 1, 6, 2, 4, 4, 10, 99, 100]\n",
      "[1, 2, 2, 5, 2, 1, 6, 2, 4, 4, 10, 99, 100, 99, 100]\n"
     ]
    }
   ],
   "source": [
    "# extend(iterable) # 요소들이 나뉘어 들어감 리스트 전체로 추가되지 않고\n",
    "a = [99, 100]\n",
    "numbers.extend(a)\n",
    "print(numbers) \n",
    "print(numbers + a)"
   ]
  },
  {
   "cell_type": "code",
   "execution_count": 48,
   "id": "ffec04ee-0421-487f-bb33-1bdd55616033",
   "metadata": {},
   "outputs": [
    {
     "name": "stdout",
     "output_type": "stream",
     "text": [
      "[1, 2, 2, 3.5, 3.5, 5, 2, 1, 6, 2, 4, 4, 10, 99, 100]\n"
     ]
    }
   ],
   "source": [
    "# insert(idx, x)\n",
    "numbers.insert(3, 3.5)\n",
    "print(numbers)"
   ]
  },
  {
   "cell_type": "code",
   "execution_count": 51,
   "id": "27273f51-69b8-460a-a244-2bb8e0a50816",
   "metadata": {},
   "outputs": [
    {
     "ename": "ValueError",
     "evalue": "list.remove(x): x not in list",
     "output_type": "error",
     "traceback": [
      "\u001b[0;31m---------------------------------------------------------------------------\u001b[0m",
      "\u001b[0;31mValueError\u001b[0m                                Traceback (most recent call last)",
      "Cell \u001b[0;32mIn[51], line 2\u001b[0m\n\u001b[1;32m      1\u001b[0m \u001b[38;5;66;03m# .remove(x)\u001b[39;00m\n\u001b[0;32m----> 2\u001b[0m \u001b[43mnumbers\u001b[49m\u001b[38;5;241;43m.\u001b[39;49m\u001b[43mremove\u001b[49m\u001b[43m(\u001b[49m\u001b[38;5;241;43m3.5\u001b[39;49m\u001b[43m)\u001b[49m\n\u001b[1;32m      3\u001b[0m \u001b[38;5;28mprint\u001b[39m(numbers)\n",
      "\u001b[0;31mValueError\u001b[0m: list.remove(x): x not in list"
     ]
    }
   ],
   "source": [
    "# .remove(x)\n",
    "numbers.remove(3.5)\n",
    "print(numbers)"
   ]
  },
  {
   "cell_type": "code",
   "execution_count": 56,
   "id": "539a3c29-d33a-42e8-a6ab-76949ce585aa",
   "metadata": {},
   "outputs": [
    {
     "name": "stdout",
     "output_type": "stream",
     "text": [
      "[1, 6, 2, 4, 4, 10, 99, 100]\n"
     ]
    }
   ],
   "source": [
    "# .pop([idx]) # 그 위치에 있는 값을 삭제\n",
    "numbers.pop(0)\n",
    "print(numbers)"
   ]
  },
  {
   "cell_type": "code",
   "execution_count": 57,
   "id": "2a09bf74-798d-4da7-b583-9ab5db143bba",
   "metadata": {},
   "outputs": [
    {
     "name": "stdout",
     "output_type": "stream",
     "text": [
      "[1, 2, 4, 4, 6, 10, 99, 100]\n",
      "[100, 99, 10, 6, 4, 4, 2, 1]\n"
     ]
    }
   ],
   "source": [
    "# .sort()\n",
    "numbers.sort() #기본적으로 오름차순\n",
    "print(numbers)\n",
    "numbers.sort(reverse=True) #내림차순\n",
    "print(numbers)"
   ]
  },
  {
   "cell_type": "code",
   "execution_count": 60,
   "id": "b3db4430-1416-44d2-a417-64616c6bec2a",
   "metadata": {},
   "outputs": [
    {
     "name": "stdout",
     "output_type": "stream",
     "text": [
      "[1, 2, 4, 4, 6, 10, 99, 100]\n",
      "[100, 99, 10, 6, 4, 4, 2, 1]\n",
      "[1, 2, 4, 4, 6, 10, 99, 100]\n"
     ]
    }
   ],
   "source": [
    "# .reverse() 역순으로 만들 때\n",
    "print(numbers)\n",
    "numbers.reverse()\n",
    "print(numbers)\n",
    "numbers = numbers[::-1] \n",
    "print(numbers)  # 슬라이싱 [0:-1:-1] 저 0, -1이 생략됐다고 보면 됨 0부터 -1의 위치까지 거꾸로 슬라이싱"
   ]
  },
  {
   "cell_type": "markdown",
   "id": "3d8df482-adba-40af-8e1e-fe0f15361749",
   "metadata": {},
   "source": [
    "# 2.1 list copy"
   ]
  },
  {
   "cell_type": "code",
   "execution_count": 61,
   "id": "a3d59ccb-aadf-4ab2-b1f6-d945ffb85d04",
   "metadata": {},
   "outputs": [],
   "source": [
    "origin_list = [1, 2, 3]\n",
    "copy_list = origin_list"
   ]
  },
  {
   "cell_type": "code",
   "execution_count": 62,
   "id": "91fdb89a-4843-4adf-817c-74edc5d51615",
   "metadata": {},
   "outputs": [
    {
     "name": "stdout",
     "output_type": "stream",
     "text": [
      "[1, 2, 3]\n",
      "[1, 2, 3]\n"
     ]
    }
   ],
   "source": [
    "print(origin_list)\n",
    "print(copy_list)"
   ]
  },
  {
   "cell_type": "code",
   "execution_count": 63,
   "id": "0b417419-9bbf-4c79-a7fa-a13382b93789",
   "metadata": {},
   "outputs": [],
   "source": [
    "copy_list[0] = 100"
   ]
  },
  {
   "cell_type": "code",
   "execution_count": 65,
   "id": "911fa53f-c128-425f-a728-b88a8192b53d",
   "metadata": {},
   "outputs": [
    {
     "name": "stdout",
     "output_type": "stream",
     "text": [
      "[100, 2, 3]\n",
      "[100, 2, 3]\n"
     ]
    }
   ],
   "source": [
    "print(origin_list)\n",
    "print(copy_list)"
   ]
  },
  {
   "cell_type": "code",
   "execution_count": 67,
   "id": "617686a8-4ce8-4f11-92ab-e4a6d29b813c",
   "metadata": {},
   "outputs": [
    {
     "name": "stdout",
     "output_type": "stream",
     "text": [
      "[1, 2, 3]\n",
      "[100, 2, 3]\n"
     ]
    }
   ],
   "source": [
    "# 새로운 list 를 만드는 것 위의 copy 와 다름\n",
    "a = [1, 2, 3]\n",
    "# b = a[:]\n",
    "b = list(a)\n",
    "\n",
    "b[0] = 100\n",
    "print(a)\n",
    "print(b)"
   ]
  },
  {
   "cell_type": "code",
   "execution_count": 68,
   "id": "e285f786-8eb9-4e0c-b232-91f96c373b03",
   "metadata": {},
   "outputs": [],
   "source": [
    "a = [1, 2, [3, 4]]\n",
    "b = a[:]\n",
    "b[2][0] = 100 \n",
    "print(a)\n",
    "print(b)"
   ]
  },
  {
   "cell_type": "code",
   "execution_count": 69,
   "id": "81a8918b-85a9-4d6f-8d8d-44f0aa43bd26",
   "metadata": {},
   "outputs": [
    {
     "name": "stdout",
     "output_type": "stream",
     "text": [
      "[1, 2, [3, 4]]\n",
      "[1, 2, [100, 4]]\n"
     ]
    }
   ],
   "source": [
    "import copy \n",
    "a = [1, 2, [3, 4]]\n",
    "b = copy. deepcopy(a)\n",
    "b[2][0] = 100\n",
    "\n",
    "print(a)\n",
    "print(b)"
   ]
  },
  {
   "cell_type": "markdown",
   "id": "63d6a962-3c30-4d02-87b4-ac7f21ee6cc3",
   "metadata": {},
   "source": [
    "## 2.2  list comprehension"
   ]
  },
  {
   "cell_type": "code",
   "execution_count": 72,
   "id": "6102cf01-4598-40c9-a0ed-720cc5a7bb78",
   "metadata": {},
   "outputs": [
    {
     "name": "stdout",
     "output_type": "stream",
     "text": [
      "[1, 2, 3, 4, 5, 6, 7, 8, 9, 10]\n"
     ]
    }
   ],
   "source": [
    "numbers = list(range(1,11))\n",
    "print(numbers)"
   ]
  },
  {
   "cell_type": "code",
   "execution_count": 74,
   "id": "206c3357-e4b2-4c79-823f-a22d9ceecf67",
   "metadata": {},
   "outputs": [
    {
     "name": "stdout",
     "output_type": "stream",
     "text": [
      "[1, 8, 27, 64, 125, 216, 343, 512, 729, 1000]\n"
     ]
    }
   ],
   "source": [
    "# [1, 8,, 27, ... 1000]\n",
    "result = []\n",
    "for number in numbers: \n",
    "    result.append(number**3)\n",
    "print(result)\n",
    "    "
   ]
  },
  {
   "cell_type": "code",
   "execution_count": 77,
   "id": "820ba601-2a45-4aaf-adf4-53a5ecbc2838",
   "metadata": {},
   "outputs": [
    {
     "name": "stdout",
     "output_type": "stream",
     "text": [
      "[1, 8, 27, 64, 125, 216, 343, 512, 729, 1000]\n"
     ]
    }
   ],
   "source": [
    "result2 = [number**3 for number in numbers] # for 문으로 돌린 값을 가져와서 연산을 해서 리스트에 넣음 \n",
    "print(result2)"
   ]
  },
  {
   "cell_type": "code",
   "execution_count": 78,
   "id": "dfe1fff3-23e4-4178-85fb-1ee79d176b38",
   "metadata": {},
   "outputs": [
    {
     "name": "stdout",
     "output_type": "stream",
     "text": [
      "[2, 4, 6, 8, 10]\n"
     ]
    }
   ],
   "source": [
    "# 짝수만 고르기(반복문버전)\n",
    "even_list = []\n",
    "for i in numbers:\n",
    "    if i % 2 == 0:\n",
    "        even_list.append(i)\n",
    "print(even_list)"
   ]
  },
  {
   "cell_type": "code",
   "execution_count": 79,
   "id": "eb33fcc5-7ff3-4464-ac1d-fbba6e5e3213",
   "metadata": {},
   "outputs": [
    {
     "name": "stdout",
     "output_type": "stream",
     "text": [
      "[2, 4, 6, 8, 10]\n"
     ]
    }
   ],
   "source": [
    "# 짝수만 고르기 (comprehension)\n",
    "even_list = [ i for i in numbers if i % 2 == 0]\n",
    "\n",
    "print(even_list)"
   ]
  },
  {
   "cell_type": "code",
   "execution_count": 82,
   "id": "92565b8f-ff43-4f52-b731-18bdd119a928",
   "metadata": {},
   "outputs": [],
   "source": [
    "words = 'my name is minju'\n",
    "vowels = 'aeiou'\n",
    "\n",
    "# => my am s mnj\n"
   ]
  },
  {
   "cell_type": "code",
   "execution_count": 98,
   "id": "a2ae1aaf-3fc9-4c0b-9fb3-7e1ad4f03e21",
   "metadata": {},
   "outputs": [
    {
     "name": "stdout",
     "output_type": "stream",
     "text": [
      "['my', 'name', 'is', 'minju']\n",
      "['m', 'y', ' ', 'n', 'm', ' ', 's', ' ', 'm', 'n', 'j']\n",
      "my nm s mnj\n"
     ]
    }
   ],
   "source": [
    "# 1. for 문 버전\n",
    "words_split = words.split()\n",
    "print(words_split) # 이렇게 하면 띄어쓰기가 다 사라짐 \n",
    "# for i in words:\n",
    "#     if i in vowels:\n",
    "#         words.pop(words.index(i))\n",
    "# print(''.join(words))\n",
    "\n",
    "\n",
    "# 선생님 답변\n",
    "\n",
    "result = []\n",
    "for char in words:\n",
    "    if char not in vowels: \n",
    "        result.append(char)\n",
    "        \n",
    "print(result)\n",
    "print(''.join(result))"
   ]
  },
  {
   "cell_type": "code",
   "execution_count": 96,
   "id": "0756483a-206c-4fcc-8bcf-130b37e9d567",
   "metadata": {},
   "outputs": [
    {
     "name": "stdout",
     "output_type": "stream",
     "text": [
      "['M', 'Y', ' ', 'N', 'M', ' ', 'S', ' ', 'M', 'N', 'J']\n",
      "MY NM S MNJ\n"
     ]
    }
   ],
   "source": [
    "# 2 . list comprehension\n",
    "result2 =[char.upper()  for char in words if char not in vowels]\n",
    "print (result2)\n",
    "print(''.join(result2))"
   ]
  },
  {
   "cell_type": "markdown",
   "id": "3f3fc6e3-07b8-4340-846d-68d01392bce6",
   "metadata": {},
   "source": [
    "## 3. dictionary method 딕셔너리 메소드"
   ]
  },
  {
   "cell_type": "code",
   "execution_count": 133,
   "id": "07490343-a99b-4db5-ab98-026b25b36499",
   "metadata": {},
   "outputs": [],
   "source": [
    "info = {\n",
    "    'name': 'minju',\n",
    "    'location': 'seoul',\n",
    "}"
   ]
  },
  {
   "cell_type": "code",
   "execution_count": 104,
   "id": "22ebac0c-1c1d-4e0d-b163-6a990df6ec12",
   "metadata": {},
   "outputs": [
    {
     "data": {
      "text/plain": [
       "'minju'"
      ]
     },
     "execution_count": 104,
     "metadata": {},
     "output_type": "execute_result"
    }
   ],
   "source": [
    "info['name']"
   ]
  },
  {
   "cell_type": "code",
   "execution_count": 107,
   "id": "03d0e874-0be8-40f0-b553-09861da8c3d3",
   "metadata": {},
   "outputs": [
    {
     "name": "stdout",
     "output_type": "stream",
     "text": [
      "{'name': 'kang', 'location': 'seoul'}\n"
     ]
    }
   ],
   "source": [
    "info ['name'] = 'kang'\n",
    "print(info)"
   ]
  },
  {
   "cell_type": "code",
   "execution_count": 134,
   "id": "5cdcefbc-7443-4c76-9c1c-b5122afdf7c2",
   "metadata": {},
   "outputs": [
    {
     "name": "stdout",
     "output_type": "stream",
     "text": [
      "seoul\n",
      "{'name': 'minju'}\n"
     ]
    }
   ],
   "source": [
    "# .pop(key[, default])\n",
    "print(info.pop('location'), None) # 없으면 None 으로 출력\n",
    "print(info)"
   ]
  },
  {
   "cell_type": "code",
   "execution_count": 113,
   "id": "25c21fd0-afad-4df0-88d6-b06cf24bf86c",
   "metadata": {},
   "outputs": [
    {
     "name": "stdout",
     "output_type": "stream",
     "text": [
      "{'name': 'minju'}\n"
     ]
    }
   ],
   "source": [
    "# .update(key=value)\n",
    "info.update(name = 'minju')\n",
    "print(info)"
   ]
  },
  {
   "cell_type": "code",
   "execution_count": 117,
   "id": "ea6f6606-0d34-4abc-8906-30a257eab07f",
   "metadata": {},
   "outputs": [
    {
     "name": "stdout",
     "output_type": "stream",
     "text": [
      "minju\n",
      "123\n"
     ]
    }
   ],
   "source": [
    "# .get(key[,default]\n",
    "print(info.get('name'))\n",
    "print(info.get('school', '123')) # get 은 없으면 none 으로 출력\n",
    "# print(info['school']) # 이 경우는 에러가 나옴 "
   ]
  },
  {
   "cell_type": "markdown",
   "id": "6934bf67-7ca9-4f69-bec8-fea2c94100dd",
   "metadata": {},
   "source": [
    "### 3.1 dict comprehension"
   ]
  },
  {
   "cell_type": "code",
   "execution_count": null,
   "id": "3e858e74-774f-4af1-aaff-e3c8403998a4",
   "metadata": {},
   "outputs": [],
   "source": [
    "#{1: 3, 2: 8, 3: 27}"
   ]
  },
  {
   "cell_type": "code",
   "execution_count": 118,
   "id": "d2e5df83-9101-4e2d-992d-10258bd74937",
   "metadata": {},
   "outputs": [
    {
     "name": "stdout",
     "output_type": "stream",
     "text": [
      "{1: 1, 2: 8, 3: 27}\n"
     ]
    }
   ],
   "source": [
    "# for \n",
    "cube_dict = {}\n",
    "for i in range(1, 4):\n",
    "    cube_dict[i] = i ** 3\n",
    "print(cube_dict)"
   ]
  },
  {
   "cell_type": "code",
   "execution_count": 120,
   "id": "61390a29-baa8-46da-ba43-7c27639e8723",
   "metadata": {},
   "outputs": [
    {
     "name": "stdout",
     "output_type": "stream",
     "text": [
      "{1: 1, 2: 8, 3: 27}\n"
     ]
    }
   ],
   "source": [
    "# comp\n",
    "cube_dict2 = {i:  i **3 for i in range(1,4)}\n",
    "print(cube_dict2)"
   ]
  },
  {
   "cell_type": "code",
   "execution_count": 122,
   "id": "41591030-2ac1-48c5-a37b-480eb8afaa6b",
   "metadata": {},
   "outputs": [],
   "source": [
    "# \n",
    "dust = {\n",
    "    '서울': 100,\n",
    "    '대구': 30,\n",
    "    '대전': 10,\n",
    "    '부산': 80,\n",
    "    '광주': 50,\n",
    "}\n",
    "# => \n",
    "# result = {\n",
    "# 서울 \n",
    "# 부산 \n",
    "# 광주\n",
    "# }"
   ]
  },
  {
   "cell_type": "code",
   "execution_count": 123,
   "id": "7c2ab76e-2b50-4ae7-a0e2-0f51660cfc98",
   "metadata": {},
   "outputs": [
    {
     "name": "stdout",
     "output_type": "stream",
     "text": [
      "{'서울': 100, '부산': 80, '광주': 50}\n"
     ]
    }
   ],
   "source": [
    "# 1. for\n",
    "result = {}\n",
    "for city in dust.keys():\n",
    "    if dust[city] >= 50: \n",
    "        result[city]= dust[city]\n",
    "print(result)\n",
    "\n",
    "# 선생님 \n",
    "\n",
    "result_t = {}\n",
    "for k, v in dust.items():\n",
    "    if v >= 50:\n",
    "        result[k[ = v\n",
    "        \n"
   ]
  },
  {
   "cell_type": "code",
   "execution_count": 125,
   "id": "2ea9bffc-fcc4-4a81-b150-1af4d43f9d03",
   "metadata": {},
   "outputs": [
    {
     "name": "stdout",
     "output_type": "stream",
     "text": [
      "{'서울': 100, '부산': 80, '광주': 50}\n"
     ]
    }
   ],
   "source": [
    "# 2. comp\n",
    "result2 = {k: v for k, v in dust.items() if v>= 50}\n",
    "print(result2)"
   ]
  },
  {
   "cell_type": "code",
   "execution_count": 127,
   "id": "001c105a-aa93-40e8-900b-b90e85499ad4",
   "metadata": {},
   "outputs": [
    {
     "name": "stdout",
     "output_type": "stream",
     "text": [
      "{'서울': '나쁨', '부산': '나쁨', '광주': '나쁨'}\n"
     ]
    }
   ],
   "source": [
    "result2 = {k: '나쁨' for k, v in dust.items() if v>= 50}\n",
    "print(result2)\n",
    "# 50 이상인 데이터를 뽑아서 나쁨 이라고 출력"
   ]
  },
  {
   "cell_type": "markdown",
   "id": "a020883e-0762-4f95-b8d8-919875380175",
   "metadata": {},
   "source": [
    "# 4. 세트 메소드"
   ]
  },
  {
   "cell_type": "code",
   "execution_count": 135,
   "id": "f4e5d2f5-35d3-4515-a372-3a12da5a4c97",
   "metadata": {},
   "outputs": [],
   "source": [
    "fruits = {'apple', 'banana', 'melon'}"
   ]
  },
  {
   "cell_type": "code",
   "execution_count": 136,
   "id": "9a4f898f-efdf-48b3-83fb-8999bc13e7fe",
   "metadata": {},
   "outputs": [
    {
     "name": "stdout",
     "output_type": "stream",
     "text": [
      "{'banana', 'apple', 'melon', 'watermelon'}\n",
      "{'banana', 'apple', 'melon', 'watermelon'}\n"
     ]
    }
   ],
   "source": [
    "# add. (x) 하나를 추가할 때느 add\n",
    "fruits.add('watermelon')\n",
    "print(fruits)\n",
    "fruits.add('watermelon')\n",
    "print(fruits)#중복이 없기 때문에 두번 추가해도 하나만 있음)"
   ]
  },
  {
   "cell_type": "code",
   "execution_count": 140,
   "id": "ea5d55c8-2b85-47c9-9e57-a7fee2256b4a",
   "metadata": {},
   "outputs": [
    {
     "name": "stdout",
     "output_type": "stream",
     "text": [
      "{'a', 'watermelon', 'p', 'e', 'banana', 'melon', 'apple', 'g', 'orange', 'pear', 'r'}\n"
     ]
    }
   ],
   "source": [
    "# .update()  여러개를 추가할 때는 upeate\n",
    "fruits.update('grape') # iterable 한 string 이기 때문에 쪼개서 들어감\n",
    "print(fruits)\n",
    "fruits.update({'orange', 'pear'})"
   ]
  },
  {
   "cell_type": "code",
   "execution_count": 143,
   "id": "29f645aa-b2b9-4854-8b38-037ae589de98",
   "metadata": {},
   "outputs": [
    {
     "ename": "KeyError",
     "evalue": "'orange'",
     "output_type": "error",
     "traceback": [
      "\u001b[0;31m---------------------------------------------------------------------------\u001b[0m",
      "\u001b[0;31mKeyError\u001b[0m                                  Traceback (most recent call last)",
      "Cell \u001b[0;32mIn[143], line 2\u001b[0m\n\u001b[1;32m      1\u001b[0m \u001b[38;5;66;03m# .remove()\u001b[39;00m\n\u001b[0;32m----> 2\u001b[0m \u001b[43mfruits\u001b[49m\u001b[38;5;241;43m.\u001b[39;49m\u001b[43mremove\u001b[49m\u001b[43m(\u001b[49m\u001b[38;5;124;43m'\u001b[39;49m\u001b[38;5;124;43morange\u001b[39;49m\u001b[38;5;124;43m'\u001b[39;49m\u001b[43m)\u001b[49m\n\u001b[1;32m      3\u001b[0m \u001b[38;5;28mprint\u001b[39m(fruits)\n",
      "\u001b[0;31mKeyError\u001b[0m: 'orange'"
     ]
    }
   ],
   "source": [
    "# .remove()\n",
    "fruits.remove('orange')\n",
    "print(fruits)"
   ]
  },
  {
   "cell_type": "code",
   "execution_count": 146,
   "id": "35e98886-d128-442b-9653-65a653b884c3",
   "metadata": {},
   "outputs": [
    {
     "name": "stdout",
     "output_type": "stream",
     "text": [
      "{'e', 'banana', 'melon', 'apple', 'g', 'pear', 'r'}\n"
     ]
    }
   ],
   "source": [
    "# .pop  맨 앞 값이 삭제됨     세트는 정렬된 데이터가 아니기 때문에 순서가 다 다르게 출력됨 \n",
    "fruits.pop() \n",
    "print(fruits)"
   ]
  },
  {
   "cell_type": "markdown",
   "id": "a3e1f59d-aabc-4ab4-822b-d6e8621de722",
   "metadata": {},
   "source": [
    "# 5. map(), zip(), filter()"
   ]
  },
  {
   "cell_type": "markdown",
   "id": "8aaf94b3-106b-4f29-ba16-71e9d0f13e14",
   "metadata": {},
   "source": [
    "## 5.1 map()\n",
    "```\n",
    "map(function, iterable)\n",
    "```"
   ]
  },
  {
   "cell_type": "code",
   "execution_count": 149,
   "id": "8c573807-33ff-4a18-bc6d-04358f29b0ad",
   "metadata": {},
   "outputs": [
    {
     "name": "stdout",
     "output_type": "stream",
     "text": [
      "<map object at 0x10a923eb0>\n",
      "['1', '2', '3']\n"
     ]
    }
   ],
   "source": [
    "a = [1, 2, 3]\n",
    "\n",
    "number_str = map(str, a)  #  a의 항목을 개별로 str 씌워줌\n",
    "print(number_str)\n",
    "print(list(number_str))"
   ]
  },
  {
   "cell_type": "code",
   "execution_count": 151,
   "id": "151e84ac-a60c-4dc2-b3ae-13afa5dbea32",
   "metadata": {},
   "outputs": [],
   "source": [
    "def cube(x):\n",
    "    return x**3"
   ]
  },
  {
   "cell_type": "code",
   "execution_count": 152,
   "id": "4a4bb839-c09a-4808-948c-4ce85c81e41d",
   "metadata": {},
   "outputs": [
    {
     "name": "stdout",
     "output_type": "stream",
     "text": [
      "[1, 8, 27]\n"
     ]
    }
   ],
   "source": [
    "# for 문을 활용하여 모든 item 에 cube 함수 실행 \n",
    "result = []\n",
    "for i in a:\n",
    "    result.append(cube(i))\n",
    "print(result)"
   ]
  },
  {
   "cell_type": "code",
   "execution_count": 154,
   "id": "c2a2cb28-1ce6-48ce-91d7-59e22e556506",
   "metadata": {},
   "outputs": [
    {
     "name": "stdout",
     "output_type": "stream",
     "text": [
      "[1, 8, 27]\n"
     ]
    }
   ],
   "source": [
    "result2 = map(cube, a)\n",
    "print(list(result2))"
   ]
  },
  {
   "cell_type": "code",
   "execution_count": 156,
   "id": "7c19e891-dbf7-423c-b350-b9e8bc232800",
   "metadata": {},
   "outputs": [
    {
     "name": "stdin",
     "output_type": "stream",
     "text": [
      " 1 2 3  4  5\n"
     ]
    },
    {
     "name": "stdout",
     "output_type": "stream",
     "text": [
      "[1, 2, 3, 4, 5]\n"
     ]
    }
   ],
   "source": [
    "numbers = list(map(int, input().split()))\n",
    "print(numbers)"
   ]
  },
  {
   "cell_type": "markdown",
   "id": "6a5bf055-3215-464b-b2e1-0211a3ff8833",
   "metadata": {},
   "source": [
    "## 5.2 zip"
   ]
  },
  {
   "cell_type": "code",
   "execution_count": 157,
   "id": "a7bb9cc2-e0b3-4d4f-b078-c7c86a53a5f5",
   "metadata": {},
   "outputs": [],
   "source": [
    "a = [1, 2, 3]\n",
    "b = [100, 200, 300]"
   ]
  },
  {
   "cell_type": "code",
   "execution_count": 158,
   "id": "89ff54b2-39a8-4ed0-949a-9ead9e4765d2",
   "metadata": {},
   "outputs": [
    {
     "name": "stdout",
     "output_type": "stream",
     "text": [
      "<zip object at 0x10af91dc0>\n",
      "[(1, 100), (2, 200), (3, 300)]\n"
     ]
    }
   ],
   "source": [
    "result = zip(a, b)\n",
    "print(result)\n",
    "print(list(result))"
   ]
  },
  {
   "cell_type": "markdown",
   "id": "c5f63710-de17-49ed-9bc4-83c7310fe792",
   "metadata": {},
   "source": [
    "## 5.3 filter\n",
    "\n",
    "```python\n",
    "filter(function, iterable)\n",
    "```\n",
    "filter 에 들어가는 function은 T/F를 반환해야 합니다. "
   ]
  },
  {
   "cell_type": "code",
   "execution_count": 161,
   "id": "dbce8b95-7219-445e-8c97-711957b2dc35",
   "metadata": {},
   "outputs": [],
   "source": [
    "def is_odd(x):\n",
    "    # if x % 2 == 1: \n",
    "    #     return True\n",
    "    # else:\n",
    "    #     return False\n",
    "    return bool(x % 2) #  1 => true 0=> False 로 반환\n",
    "    "
   ]
  },
  {
   "cell_type": "code",
   "execution_count": 164,
   "id": "00e11ae5-edc0-4c35-876a-60358bf01e8c",
   "metadata": {},
   "outputs": [
    {
     "name": "stdout",
     "output_type": "stream",
     "text": [
      "<filter object at 0x10a994c40>\n",
      "[1, 3, 5]\n"
     ]
    }
   ],
   "source": [
    "numbers = [1, 2, 3, 4, 5]\n",
    "result = filter(is_odd, numbers) \n",
    "print(result)\n",
    "print(list(result))"
   ]
  },
  {
   "cell_type": "code",
   "execution_count": null,
   "id": "f82c88f9-2967-448f-9267-582fe68e7fd1",
   "metadata": {},
   "outputs": [],
   "source": []
  }
 ],
 "metadata": {
  "kernelspec": {
   "display_name": "Python 3 (ipykernel)",
   "language": "python",
   "name": "python3"
  },
  "language_info": {
   "codemirror_mode": {
    "name": "ipython",
    "version": 3
   },
   "file_extension": ".py",
   "mimetype": "text/x-python",
   "name": "python",
   "nbconvert_exporter": "python",
   "pygments_lexer": "ipython3",
   "version": "3.11.4"
  }
 },
 "nbformat": 4,
 "nbformat_minor": 5
}
