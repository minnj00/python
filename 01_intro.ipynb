{
 "cells": [
  {
   "cell_type": "markdown",
   "id": "ed2d6565-a2bd-4063-8521-77e3ac8fe4e7",
   "metadata": {},
   "source": [
    "# 01. intro\n",
    "\n",
    "## 단축키\n",
    "\n",
    "- command + enter : 지금 셀 실행\n",
    "- shift + enter: 지금 셀 실행 & 아래로 이동 \n",
    "- option + enter : 지금 셀 실행 & 아래에 새로운 셀 추가\n",
    "\n",
    "## 주의사항\n",
    "\n",
    "1. Appple / apple \n",
    "2. git add . git add.\n",
    "3. message / massage \n"
   ]
  },
  {
   "cell_type": "code",
   "execution_count": 9,
   "id": "e4656208-d92a-43f7-8d19-55885e0e787b",
   "metadata": {},
   "outputs": [],
   "source": [
    "# 주석을 나타냅니다. "
   ]
  },
  {
   "cell_type": "markdown",
   "id": "70621726-c275-45d3-990e-6ce0b1b89f6a",
   "metadata": {},
   "source": [
    "# 1. 변수\n",
    "\n",
    "변수이름 = 값 \n",
    "\n",
    "- 변수이름은 어떤 이름이든 상관 없음\n",
    "- 다만 우린 앞으로 영어, 숫자, _ 를 이용하여 선언 \n",
    "- 키워드 사용불가 "
   ]
  },
  {
   "cell_type": "code",
   "execution_count": 13,
   "id": "613f2dc4-95a1-4669-a2bc-451fcf672e8f",
   "metadata": {},
   "outputs": [],
   "source": [
    "a=10"
   ]
  },
  {
   "cell_type": "code",
   "execution_count": 15,
   "id": "1a71ea93-5697-4d3f-a1eb-c6f52002c797",
   "metadata": {},
   "outputs": [
    {
     "data": {
      "text/plain": [
       "10"
      ]
     },
     "execution_count": 15,
     "metadata": {},
     "output_type": "execute_result"
    }
   ],
   "source": [
    "a"
   ]
  },
  {
   "cell_type": "code",
   "execution_count": 17,
   "id": "0de80d29-12fb-4cfe-8bc8-21fbbfe3b809",
   "metadata": {},
   "outputs": [
    {
     "data": {
      "text/plain": [
       "['False',\n",
       " 'None',\n",
       " 'True',\n",
       " '__peg_parser__',\n",
       " 'and',\n",
       " 'as',\n",
       " 'assert',\n",
       " 'async',\n",
       " 'await',\n",
       " 'break',\n",
       " 'class',\n",
       " 'continue',\n",
       " 'def',\n",
       " 'del',\n",
       " 'elif',\n",
       " 'else',\n",
       " 'except',\n",
       " 'finally',\n",
       " 'for',\n",
       " 'from',\n",
       " 'global',\n",
       " 'if',\n",
       " 'import',\n",
       " 'in',\n",
       " 'is',\n",
       " 'lambda',\n",
       " 'nonlocal',\n",
       " 'not',\n",
       " 'or',\n",
       " 'pass',\n",
       " 'raise',\n",
       " 'return',\n",
       " 'try',\n",
       " 'while',\n",
       " 'with',\n",
       " 'yield']"
      ]
     },
     "execution_count": 17,
     "metadata": {},
     "output_type": "execute_result"
    }
   ],
   "source": [
    "import keyword\n",
    "keyword.kwlist"
   ]
  },
  {
   "cell_type": "markdown",
   "id": "6acff7de-0623-43b5-8cdd-436a41270117",
   "metadata": {},
   "source": [
    "### 1.1 number "
   ]
  },
  {
   "cell_type": "code",
   "execution_count": 21,
   "id": "de5de0e4-dad8-49d4-951f-33e1e88a9139",
   "metadata": {},
   "outputs": [],
   "source": [
    "a = 10000000"
   ]
  },
  {
   "cell_type": "code",
   "execution_count": 23,
   "id": "a98b3327-74a5-408b-ae22-4d88be1ebcc8",
   "metadata": {},
   "outputs": [
    {
     "data": {
      "text/plain": [
       "10000000"
      ]
     },
     "execution_count": 23,
     "metadata": {},
     "output_type": "execute_result"
    }
   ],
   "source": [
    "a"
   ]
  },
  {
   "cell_type": "code",
   "execution_count": 24,
   "id": "7d687591-ba08-46de-9474-67cd51f006e4",
   "metadata": {},
   "outputs": [
    {
     "data": {
      "text/plain": [
       "int"
      ]
     },
     "execution_count": 24,
     "metadata": {},
     "output_type": "execute_result"
    }
   ],
   "source": [
    "type(a)"
   ]
  },
  {
   "cell_type": "code",
   "execution_count": 25,
   "id": "ccd12384-e398-4bb8-afd5-734d037a1bb7",
   "metadata": {},
   "outputs": [],
   "source": [
    "b=1.1"
   ]
  },
  {
   "cell_type": "code",
   "execution_count": 26,
   "id": "d1d8c17b-b40a-4d53-be95-57baf1072c74",
   "metadata": {},
   "outputs": [
    {
     "data": {
      "text/plain": [
       "1.1"
      ]
     },
     "execution_count": 26,
     "metadata": {},
     "output_type": "execute_result"
    }
   ],
   "source": [
    "b"
   ]
  },
  {
   "cell_type": "code",
   "execution_count": 27,
   "id": "585f0d80-da94-4698-80c5-9b933699e17e",
   "metadata": {},
   "outputs": [
    {
     "data": {
      "text/plain": [
       "float"
      ]
     },
     "execution_count": 27,
     "metadata": {},
     "output_type": "execute_result"
    }
   ],
   "source": [
    "type(b)"
   ]
  },
  {
   "cell_type": "code",
   "execution_count": 28,
   "id": "3fbcdaae-55ea-4018-b44b-f512f84673b9",
   "metadata": {},
   "outputs": [],
   "source": [
    "c= 1-4j"
   ]
  },
  {
   "cell_type": "code",
   "execution_count": 29,
   "id": "976ec67e-f09e-47fb-a0e3-c5f4e0931641",
   "metadata": {},
   "outputs": [
    {
     "data": {
      "text/plain": [
       "complex"
      ]
     },
     "execution_count": 29,
     "metadata": {},
     "output_type": "execute_result"
    }
   ],
   "source": [
    "type(c)"
   ]
  },
  {
   "cell_type": "markdown",
   "id": "678fd6cc-520b-4b25-9f69-c7556e5e7f7d",
   "metadata": {},
   "source": [
    "complex : 허수 "
   ]
  },
  {
   "cell_type": "code",
   "execution_count": 30,
   "id": "91bbcb1e-83b7-4e85-9041-2ea72fea07f9",
   "metadata": {},
   "outputs": [
    {
     "data": {
      "text/plain": [
       "-4.0"
      ]
     },
     "execution_count": 30,
     "metadata": {},
     "output_type": "execute_result"
    }
   ],
   "source": [
    "c.imag"
   ]
  },
  {
   "cell_type": "code",
   "execution_count": 31,
   "id": "aa5f20e1-7c18-44c0-b012-95975cedbed8",
   "metadata": {},
   "outputs": [
    {
     "data": {
      "text/plain": [
       "1.0"
      ]
     },
     "execution_count": 31,
     "metadata": {},
     "output_type": "execute_result"
    }
   ],
   "source": [
    "c.real"
   ]
  },
  {
   "cell_type": "markdown",
   "id": "0658e42c-b654-43a7-87a7-61309d27f5b1",
   "metadata": {},
   "source": [
    ".어떤 데이터 안에 접근을 할 때 .을 사용"
   ]
  },
  {
   "cell_type": "markdown",
   "id": "0305c49d-bc84-4471-aea9-c4937515aa2d",
   "metadata": {},
   "source": [
    "### 1.2 Boolean\n",
    "\n",
    "True, False로 이루어진 타입"
   ]
  },
  {
   "cell_type": "code",
   "execution_count": 3,
   "id": "07ab8ea9-5726-47b1-ab45-8543877df52c",
   "metadata": {},
   "outputs": [],
   "source": [
    "a= True"
   ]
  },
  {
   "cell_type": "code",
   "execution_count": 4,
   "id": "0d80e062-e505-424b-a035-77c08eebf880",
   "metadata": {},
   "outputs": [
    {
     "data": {
      "text/plain": [
       "bool"
      ]
     },
     "execution_count": 4,
     "metadata": {},
     "output_type": "execute_result"
    }
   ],
   "source": [
    "type(a)"
   ]
  },
  {
   "cell_type": "code",
   "execution_count": 5,
   "id": "5e72e77d-f803-4653-896f-5462a4187806",
   "metadata": {},
   "outputs": [],
   "source": [
    "b=False"
   ]
  },
  {
   "cell_type": "code",
   "execution_count": 6,
   "id": "0b9d446b-76b7-404a-8eff-8b23080bc4f5",
   "metadata": {},
   "outputs": [
    {
     "data": {
      "text/plain": [
       "bool"
      ]
     },
     "execution_count": 6,
     "metadata": {},
     "output_type": "execute_result"
    }
   ],
   "source": [
    "type(b)"
   ]
  },
  {
   "cell_type": "code",
   "execution_count": 7,
   "id": "fbbf74c9-954b-4293-a366-b151faed0910",
   "metadata": {},
   "outputs": [
    {
     "data": {
      "text/plain": [
       "False"
      ]
     },
     "execution_count": 7,
     "metadata": {},
     "output_type": "execute_result"
    }
   ],
   "source": [
    "bool(0)"
   ]
  },
  {
   "cell_type": "code",
   "execution_count": 8,
   "id": "004c6a6c-1706-4a17-b47d-ff1c328d8bc8",
   "metadata": {},
   "outputs": [
    {
     "data": {
      "text/plain": [
       "True"
      ]
     },
     "execution_count": 8,
     "metadata": {},
     "output_type": "execute_result"
    }
   ],
   "source": [
    "bool(1)"
   ]
  },
  {
   "cell_type": "code",
   "execution_count": 38,
   "id": "f9becfc4-8285-4c6b-96e9-1c1a4fe5ba91",
   "metadata": {},
   "outputs": [
    {
     "data": {
      "text/plain": [
       "False"
      ]
     },
     "execution_count": 38,
     "metadata": {},
     "output_type": "execute_result"
    }
   ],
   "source": [
    "bool([])"
   ]
  },
  {
   "cell_type": "code",
   "execution_count": 39,
   "id": "2aaf1c6d-7659-45d0-bc64-8ff8f652e6cc",
   "metadata": {},
   "outputs": [
    {
     "data": {
      "text/plain": [
       "True"
      ]
     },
     "execution_count": 39,
     "metadata": {},
     "output_type": "execute_result"
    }
   ],
   "source": [
    "bool([2])"
   ]
  },
  {
   "cell_type": "markdown",
   "id": "6e35d2c8-4ae2-47ae-a79b-ad446d7839ba",
   "metadata": {},
   "source": [
    "추후에 다룰 것"
   ]
  },
  {
   "cell_type": "markdown",
   "id": "3acfc67a-13ea-44ad-9455-b4332e550c07",
   "metadata": {},
   "source": [
    "### 1.3 None"
   ]
  },
  {
   "cell_type": "code",
   "execution_count": 41,
   "id": "5ba6fe8f-4868-4c4d-a2d1-74a1010b2dbb",
   "metadata": {},
   "outputs": [],
   "source": [
    "a=None"
   ]
  },
  {
   "cell_type": "code",
   "execution_count": 42,
   "id": "795aabf7-250b-463a-b202-596afa1cd53d",
   "metadata": {},
   "outputs": [
    {
     "data": {
      "text/plain": [
       "NoneType"
      ]
     },
     "execution_count": 42,
     "metadata": {},
     "output_type": "execute_result"
    }
   ],
   "source": [
    "type(a)"
   ]
  },
  {
   "cell_type": "markdown",
   "id": "a0c72993-cf96-4049-86ca-c9b4d050ad08",
   "metadata": {},
   "source": [
    "NoneType: 값이 아무것도 들어있지 않습니다."
   ]
  },
  {
   "cell_type": "markdown",
   "id": "7b5e2303-1fa5-413e-b16e-043e3e5e5a34",
   "metadata": {},
   "source": [
    "### 1.4 string\n",
    "\n",
    "- 문자열은 `'` `\"`를 이용하여 표현"
   ]
  },
  {
   "cell_type": "code",
   "execution_count": 44,
   "id": "54a32cd8-dc9d-424e-89c6-ac6b26fc6f2a",
   "metadata": {},
   "outputs": [],
   "source": [
    "a= 'hello'"
   ]
  },
  {
   "cell_type": "code",
   "execution_count": 45,
   "id": "7bbfd662-e1fb-4701-9868-4b1c4a8e5292",
   "metadata": {},
   "outputs": [
    {
     "data": {
      "text/plain": [
       "str"
      ]
     },
     "execution_count": 45,
     "metadata": {},
     "output_type": "execute_result"
    }
   ],
   "source": [
    "type(a)"
   ]
  },
  {
   "cell_type": "code",
   "execution_count": 46,
   "id": "705ffeff-6758-420d-a87d-f55330c13bb5",
   "metadata": {},
   "outputs": [],
   "source": [
    "b=\"world\""
   ]
  },
  {
   "cell_type": "code",
   "execution_count": 47,
   "id": "bd31c4bc-9c9e-4e97-80b8-07503679eb19",
   "metadata": {},
   "outputs": [
    {
     "data": {
      "text/plain": [
       "str"
      ]
     },
     "execution_count": 47,
     "metadata": {},
     "output_type": "execute_result"
    }
   ],
   "source": [
    "type(b)"
   ]
  },
  {
   "cell_type": "markdown",
   "id": "75b15198-2412-4883-9438-9592fd01a2f5",
   "metadata": {},
   "source": [
    "- PEP 8 규칙에 의하면 한번 작은 따옴표로 적으면 그걸로만 모든 코드를 통일하기!\n",
    "(개발자들 사이에서 정해진 규칙)\n",
    "- style guide 는 회사마다 다름 "
   ]
  },
  {
   "cell_type": "code",
   "execution_count": 51,
   "id": "cda4023f-bfed-4550-b712-4fc5a56f60c1",
   "metadata": {},
   "outputs": [
    {
     "name": "stdin",
     "output_type": "stream",
     "text": [
      " 45\n"
     ]
    },
    {
     "name": "stdout",
     "output_type": "stream",
     "text": [
      "45\n",
      "<class 'str'>\n"
     ]
    }
   ],
   "source": [
    "age = input()\n",
    "print(age)\n",
    "print(type(age))"
   ]
  },
  {
   "cell_type": "markdown",
   "id": "ffd40837-6206-49e7-ad6e-3c7af3816d5a",
   "metadata": {},
   "source": [
    "- 셀 실행 순서 칸에 * : 셀이 실행 중입니다.\n",
    "- input : 사용자가 어떤 데이터를 입력할 수 있는 기능을 함.\n",
    "- input 에 어떤 데이터를 넣든 상관없이 string 으로 인식함 (숫자값을 받으려면 형태를 전환해야함) "
   ]
  },
  {
   "cell_type": "code",
   "execution_count": 53,
   "id": "98d8fd16-86b2-40fb-938f-7417f62f8068",
   "metadata": {},
   "outputs": [
    {
     "ename": "SyntaxError",
     "evalue": "invalid syntax (3382081217.py, line 1)",
     "output_type": "error",
     "traceback": [
      "\u001b[0;36m  Input \u001b[0;32mIn [53]\u001b[0;36m\u001b[0m\n\u001b[0;31m    print('안녕하세요? '오창희' 입니다')\u001b[0m\n\u001b[0m                   ^\u001b[0m\n\u001b[0;31mSyntaxError\u001b[0m\u001b[0;31m:\u001b[0m invalid syntax\n"
     ]
    }
   ],
   "source": [
    "print('안녕하세요? '오창희' 입니다')"
   ]
  },
  {
   "cell_type": "markdown",
   "id": "8b70bd0b-d296-4394-a3d7-d77488deb645",
   "metadata": {},
   "source": [
    "저때 안녕하세요? 와 입니다 를 따로 묶어 인식하여 오창희 부분때문에 오류"
   ]
  },
  {
   "cell_type": "code",
   "execution_count": 54,
   "id": "3bafce7b-29a0-46c2-a96a-4b740cceb733",
   "metadata": {},
   "outputs": [
    {
     "name": "stdout",
     "output_type": "stream",
     "text": [
      "안녕하세요? '오창희' 입니다.\n"
     ]
    }
   ],
   "source": [
    "print(\"안녕하세요? '오창희' 입니다.\")"
   ]
  },
  {
   "cell_type": "code",
   "execution_count": 56,
   "id": "a1040060-b27b-4755-974c-b21c88b78628",
   "metadata": {},
   "outputs": [
    {
     "name": "stdout",
     "output_type": "stream",
     "text": [
      "안녕하세요?'오창희'입니다.\n"
     ]
    }
   ],
   "source": [
    "print('안녕하세요?\\'오창희\\'입니다.') #escape 문자열 : 홑따옴표의 기능을 상실시킴, 파이썬에서 문자열을 사용하기 위한 따옴표가 아니니깐"
   ]
  },
  {
   "cell_type": "code",
   "execution_count": 57,
   "id": "c32d5398-a023-4b5b-bf73-608ad7b7f1dd",
   "metadata": {},
   "outputs": [],
   "source": [
    "a = '''\n",
    "여기는 문자열 입니다.\n",
    "엔터를 쳐서 여러줄을 작성할 수 있습니다.\n",
    "'''"
   ]
  },
  {
   "cell_type": "code",
   "execution_count": 58,
   "id": "d41c0bd7-8393-483a-b77e-a6a47177d144",
   "metadata": {},
   "outputs": [
    {
     "name": "stdout",
     "output_type": "stream",
     "text": [
      "\n",
      "여기는 문자열 입니다.\n",
      "엔터를 쳐서 여러줄을 작성할 수 있습니다.\n",
      "\n"
     ]
    }
   ],
   "source": [
    "print(a)"
   ]
  },
  {
   "cell_type": "code",
   "execution_count": 61,
   "id": "c5b4ba5f-ae19-4e1b-bf56-2d2cb1ba3c81",
   "metadata": {},
   "outputs": [
    {
     "name": "stdout",
     "output_type": "stream",
     "text": [
      "엔터를 입력해봐요 \n",
      "다음줄입니다. \t 들여쓰기도 가능합니다\n"
     ]
    }
   ],
   "source": [
    "print('엔터를 입력해봐요 \\n다음줄입니다. \\t 들여쓰기도 가능합니다') #\\n: 뉴라인이 생성, \\t: tab 누르는것"
   ]
  },
  {
   "cell_type": "code",
   "execution_count": 63,
   "id": "3d81f8f2-78c9-4868-b969-a5093985af18",
   "metadata": {},
   "outputs": [
    {
     "name": "stdout",
     "output_type": "stream",
     "text": [
      "하나 둘 셋!"
     ]
    }
   ],
   "source": [
    "print('하나', '둘', '셋', end='!') #마지막에 느낌표를 붙여주세요"
   ]
  },
  {
   "cell_type": "code",
   "execution_count": 65,
   "id": "1da21f1f-d304-49b7-a71d-5a091cf8c71f",
   "metadata": {},
   "outputs": [
    {
     "name": "stdout",
     "output_type": "stream",
     "text": [
      "하나!둘!셋\n"
     ]
    }
   ],
   "source": [
    "print('하나', '둘', '셋', sep='!') #sep(separate):중간에 넣는것, defaut:slep=' '"
   ]
  },
  {
   "cell_type": "markdown",
   "id": "bd03ed35-7f6d-4cb0-ac59-7737b0460336",
   "metadata": {},
   "source": [
    "#### string interpolation\n",
    "\n",
    "1. %-formatting \n",
    "2. str.format()\n",
    "3. f-string\n",
    "- 사실상 세번째만 쓸 것"
   ]
  },
  {
   "cell_type": "code",
   "execution_count": 66,
   "id": "99d39f97-9125-4da4-812f-3927751acda5",
   "metadata": {},
   "outputs": [],
   "source": [
    "age=20"
   ]
  },
  {
   "cell_type": "code",
   "execution_count": 68,
   "id": "b786c2e4-c644-40ab-bc30-cbe1993a2e60",
   "metadata": {},
   "outputs": [
    {
     "name": "stdout",
     "output_type": "stream",
     "text": [
      "20\n"
     ]
    }
   ],
   "source": [
    "print(age)"
   ]
  },
  {
   "cell_type": "code",
   "execution_count": 71,
   "id": "c10e4405-3ac3-484c-b8c6-dc696a68cc7b",
   "metadata": {},
   "outputs": [
    {
     "name": "stdout",
     "output_type": "stream",
     "text": [
      "홍길동은 20 살입니다.\n"
     ]
    }
   ],
   "source": [
    "print('홍길동은 %s 살입니다.' % age)"
   ]
  },
  {
   "cell_type": "code",
   "execution_count": 72,
   "id": "0d92daef-e59e-4691-85c3-c6cbf06abfc5",
   "metadata": {},
   "outputs": [
    {
     "name": "stdout",
     "output_type": "stream",
     "text": [
      "홍길동은 20살입니다.\n"
     ]
    }
   ],
   "source": [
    "print('홍길동은 {}살입니다.'.format(age))"
   ]
  },
  {
   "cell_type": "code",
   "execution_count": 74,
   "id": "55323a3c-1e3a-4c7d-ab30-2e010a70cb0d",
   "metadata": {},
   "outputs": [
    {
     "name": "stdout",
     "output_type": "stream",
     "text": [
      "홍길동은 20살입니다.\n"
     ]
    }
   ],
   "source": [
    "print(f'홍길동은 {age}살입니다.')"
   ]
  },
  {
   "cell_type": "markdown",
   "id": "f8b1799c-7d70-4c19-abda-ab4d6e8d1b93",
   "metadata": {},
   "source": [
    "## 2. 연산자 \n",
    "\n",
    "### 2.1 연산자"
   ]
  },
  {
   "cell_type": "code",
   "execution_count": 78,
   "id": "a5202bd0-4ec3-432d-857a-c5f3dca1b64a",
   "metadata": {},
   "outputs": [],
   "source": [
    "a = 2\n",
    "b = 3"
   ]
  },
  {
   "cell_type": "code",
   "execution_count": 79,
   "id": "c41df360-67d4-4aa5-97d0-94d9f17d460e",
   "metadata": {},
   "outputs": [
    {
     "name": "stdout",
     "output_type": "stream",
     "text": [
      "5\n",
      "-1\n",
      "6\n",
      "0.6666666666666666\n",
      "8\n"
     ]
    }
   ],
   "source": [
    "print(a + b)\n",
    "print(a - b)\n",
    "print(a * b)\n",
    "print(a / b)\n",
    "print(a ** b)"
   ]
  },
  {
   "cell_type": "code",
   "execution_count": 80,
   "id": "2e68c938-b55f-45c5-8969-edeb913437ac",
   "metadata": {},
   "outputs": [
    {
     "name": "stdout",
     "output_type": "stream",
     "text": [
      "0\n",
      "2\n",
      "(0, 2)\n"
     ]
    }
   ],
   "source": [
    "print(a // b)  #a를 b로 나눈 몫\n",
    "print(a % b)   #a를 b로 나눈 나머지 \n",
    "print(divmod(a,b)) #a를 b로 나눈 몫, 나머지"
   ]
  },
  {
   "cell_type": "markdown",
   "id": "876f379e-0b37-4b27-a6af-804d9598a934",
   "metadata": {},
   "source": [
    "### 2. 2 비교 연산자"
   ]
  },
  {
   "cell_type": "code",
   "execution_count": 81,
   "id": "1c7e4d16-8eac-47e5-8c59-930fdd5909e1",
   "metadata": {},
   "outputs": [],
   "source": [
    "a = 5\n",
    "b = 10"
   ]
  },
  {
   "cell_type": "code",
   "execution_count": 83,
   "id": "42ce9b6e-7e8a-49ac-a0e5-53205f48b783",
   "metadata": {},
   "outputs": [
    {
     "name": "stdout",
     "output_type": "stream",
     "text": [
      "False\n",
      "True\n",
      "False\n",
      "True\n"
     ]
    }
   ],
   "source": [
    "print(a>b)\n",
    "print(a<b)\n",
    "print(a>=b)\n",
    "print(a<=b)"
   ]
  },
  {
   "cell_type": "code",
   "execution_count": 85,
   "id": "0f255d7c-5997-454d-ac97-267d831887c1",
   "metadata": {},
   "outputs": [
    {
     "name": "stdout",
     "output_type": "stream",
     "text": [
      "False\n",
      "True\n"
     ]
    }
   ],
   "source": [
    "print(a == b)\n",
    "print(a != b)"
   ]
  },
  {
   "cell_type": "code",
   "execution_count": 86,
   "id": "51de1199-0cfb-4a95-828c-ad1b77d22f92",
   "metadata": {},
   "outputs": [
    {
     "name": "stdout",
     "output_type": "stream",
     "text": [
      "True\n",
      "False\n"
     ]
    }
   ],
   "source": [
    "print('hi' == 'hi')\n",
    "print('HI' == 'hi')"
   ]
  },
  {
   "cell_type": "markdown",
   "id": "104f865a-a175-4a45-87bb-6b4b059f973c",
   "metadata": {},
   "source": [
    "### 2.3 논리연산자\n",
    "\n",
    "- and : 양쪽 모두 True일 때, True를 반환\n",
    "- or : 양쪽 모두 False일 때, False를 반환\n",
    "- not : 값을 반대로 전환"
   ]
  },
  {
   "cell_type": "code",
   "execution_count": 89,
   "id": "e8db0baa-888f-417a-801c-9bf8b28434f8",
   "metadata": {},
   "outputs": [
    {
     "name": "stdout",
     "output_type": "stream",
     "text": [
      "True\n",
      "False\n",
      "False\n",
      "False\n"
     ]
    }
   ],
   "source": [
    "print(True and True)\n",
    "print(True and False)\n",
    "print(False and True)\n",
    "print(False and True)"
   ]
  },
  {
   "cell_type": "code",
   "execution_count": 90,
   "id": "4d87bf4b-1ea1-485d-892b-acd7ca462c39",
   "metadata": {},
   "outputs": [
    {
     "name": "stdout",
     "output_type": "stream",
     "text": [
      "True\n",
      "True\n",
      "True\n",
      "True\n"
     ]
    }
   ],
   "source": [
    "print(True or True)\n",
    "print(True or False)\n",
    "print(False or True)\n",
    "print(False or True)"
   ]
  },
  {
   "cell_type": "code",
   "execution_count": 91,
   "id": "b08c8007-4e6d-4ad5-9254-f51c8baa76af",
   "metadata": {},
   "outputs": [
    {
     "name": "stdout",
     "output_type": "stream",
     "text": [
      "True\n",
      "False\n"
     ]
    }
   ],
   "source": [
    "print(True)\n",
    "print(not True)"
   ]
  },
  {
   "cell_type": "code",
   "execution_count": 93,
   "id": "8db36ef7-3a99-4c6d-902e-839d40946a13",
   "metadata": {},
   "outputs": [
    {
     "name": "stdout",
     "output_type": "stream",
     "text": [
      "5\n",
      "0\n",
      "0\n",
      "0\n"
     ]
    }
   ],
   "source": [
    "# 단축평가(앞만 보고 연산) and 0뺸 숫자들은 다 true\n",
    "print(3 and 5)\n",
    "print(3 and 0)\n",
    "print(0 and 5) #앞이 false니깐 바로 0으로 출력\n",
    "print(0 and 0)"
   ]
  },
  {
   "cell_type": "code",
   "execution_count": 95,
   "id": "ded749b5-6c43-42cd-88bb-70c58060b7bb",
   "metadata": {},
   "outputs": [
    {
     "name": "stdout",
     "output_type": "stream",
     "text": [
      "3\n",
      "3\n",
      "5\n",
      "0\n"
     ]
    }
   ],
   "source": [
    "# 단축평가(앞만 보고 연산) or \n",
    "print(3 or 5) #앞이 true 니깐 바로 앞의 값 출력\n",
    "print(3 or 0)\n",
    "print(0 or 5) #앞이 false니깐 뒤에 것으로 출력\n",
    "print(0 or 0)"
   ]
  },
  {
   "cell_type": "markdown",
   "id": "8b795fe3-95a6-4d57-8978-638f665c5340",
   "metadata": {},
   "source": [
    "### 2.4 복합연산자"
   ]
  },
  {
   "cell_type": "code",
   "execution_count": 105,
   "id": "ae45391a-fe3c-4ceb-9b98-a2ca32a88f43",
   "metadata": {},
   "outputs": [],
   "source": [
    "a = 1\n",
    "b = 2"
   ]
  },
  {
   "cell_type": "code",
   "execution_count": 106,
   "id": "b4ad6307-cbe3-4a98-8171-a0abeb9e1a53",
   "metadata": {},
   "outputs": [],
   "source": [
    "a = a + b\n",
    "a = a - b\n",
    "a = a * b\n",
    "a = a / b\n",
    "a = a // b\n",
    "a = a % b\n",
    "a = a ** b"
   ]
  },
  {
   "cell_type": "code",
   "execution_count": 107,
   "id": "a0e709f2-f8ed-4e0a-beae-68f44d43f4d8",
   "metadata": {},
   "outputs": [],
   "source": [
    "a += b #a에 1을 더해서 a에 할당 \n",
    "a -= b\n",
    "a *= b\n",
    "a /= b\n",
    "a //= b\n",
    "a %= b\n",
    "a **= b"
   ]
  },
  {
   "cell_type": "code",
   "execution_count": 100,
   "id": "5456807a-2da5-41e7-81ce-1acacefd1e2f",
   "metadata": {},
   "outputs": [
    {
     "data": {
      "text/plain": [
       "3"
      ]
     },
     "execution_count": 100,
     "metadata": {},
     "output_type": "execute_result"
    }
   ],
   "source": [
    "a"
   ]
  },
  {
   "cell_type": "markdown",
   "id": "086e2af4-e300-4d7d-bc70-cc7116b1ef37",
   "metadata": {},
   "source": [
    "### 2.5 기타연산자"
   ]
  },
  {
   "cell_type": "code",
   "execution_count": 109,
   "id": "6349c93a-de5d-4433-ad19-a2bd5981baf8",
   "metadata": {},
   "outputs": [],
   "source": [
    "a = 'hi'\n",
    "b = 'hello'"
   ]
  },
  {
   "cell_type": "code",
   "execution_count": 110,
   "id": "e6cba8f7-bf73-4e72-8075-2cb57e7772a1",
   "metadata": {},
   "outputs": [
    {
     "data": {
      "text/plain": [
       "'hihello'"
      ]
     },
     "execution_count": 110,
     "metadata": {},
     "output_type": "execute_result"
    }
   ],
   "source": [
    "#concatenation: 두가지 데이터를 연결\n",
    "a + b"
   ]
  },
  {
   "cell_type": "code",
   "execution_count": 112,
   "id": "cc05ecdd-c850-41b2-9f30-da031347df15",
   "metadata": {},
   "outputs": [],
   "source": [
    "a = [1, 2, 3]\n",
    "b = [4, 5, 6]"
   ]
  },
  {
   "cell_type": "code",
   "execution_count": 113,
   "id": "67fc941e-75b0-4bae-96e8-90d48e1815c8",
   "metadata": {},
   "outputs": [
    {
     "data": {
      "text/plain": [
       "[1, 2, 3, 4, 5, 6]"
      ]
     },
     "execution_count": 113,
     "metadata": {},
     "output_type": "execute_result"
    }
   ],
   "source": [
    "a+b"
   ]
  },
  {
   "cell_type": "code",
   "execution_count": 115,
   "id": "0b724785-0fb6-4c58-b0a9-bd034c95a0f9",
   "metadata": {},
   "outputs": [
    {
     "name": "stdout",
     "output_type": "stream",
     "text": [
      "True\n",
      "False\n"
     ]
    }
   ],
   "source": [
    "# containment  \n",
    "print('a' in 'apple')\n",
    "print('z' in 'apple')\n",
    "# *한개만 쓰면 그냥 출력이 되지만 여러개일 경우 print를 붙여야 출력됨"
   ]
  },
  {
   "cell_type": "code",
   "execution_count": 117,
   "id": "7b39afef-ffd4-49c8-917a-77a57a63655a",
   "metadata": {},
   "outputs": [
    {
     "name": "stdout",
     "output_type": "stream",
     "text": [
      "True\n",
      "False\n"
     ]
    }
   ],
   "source": [
    "print(1 in [1, 2, 3])\n",
    "print(10 in [1, 2, 3])"
   ]
  },
  {
   "cell_type": "code",
   "execution_count": 121,
   "id": "04174d84-aaec-4dd2-870f-5cd8ae9a86d7",
   "metadata": {},
   "outputs": [
    {
     "name": "stdout",
     "output_type": "stream",
     "text": [
      "True\n",
      "140332151007536\n",
      "140332151007536\n"
     ]
    }
   ],
   "source": [
    "# identity\n",
    "a = 1\n",
    "b = 1\n",
    "print(a is b)\n",
    "print(id(a))\n",
    "print(id(b))\n",
    "\n",
    "#파이썬은 실행되자마자 1-256와 같은 자주쓰는 숫자들은 준비를 해놓음 그래서 두개의 주소가 같음.\n",
    "#하지만 밑의 경우 123123 은 값은 같지만 파이썬이 새로 생성해 낸 숫자이기때문에 주소가 다름. "
   ]
  },
  {
   "cell_type": "code",
   "execution_count": 122,
   "id": "74386480-7959-4fca-bd70-99ceb9bf7343",
   "metadata": {},
   "outputs": [
    {
     "name": "stdout",
     "output_type": "stream",
     "text": [
      "False\n",
      "140332180653840\n",
      "140332180653744\n"
     ]
    }
   ],
   "source": [
    "# identity \n",
    "a = 123123\n",
    "b = 123123\n",
    "print(a is b) \n",
    "print(id(a))\n",
    "print(id(b))\n",
    "\n",
    "# 데이터들을 램에 하나하나씩 저장함 (눈으로 보지 못하지만 주솟값으로 확인 가능)\n",
    "# 값은 같아도 위치가 다를 수 있음 "
   ]
  },
  {
   "cell_type": "markdown",
   "id": "f6751877-f2ff-420a-8deb-6239fd574e93",
   "metadata": {},
   "source": [
    "#### 우선순위\n",
    "\n",
    "0. ()를 통해 그룹\n",
    "1. **\n",
    "2. 산술연산자(*, /)\n",
    "3. 산술연산자(+, -)\n",
    "4. 비교연산자, in, is\n",
    "5. not\n",
    "6. and\n",
    "7. or"
   ]
  },
  {
   "cell_type": "code",
   "execution_count": 125,
   "id": "42e66eab-7795-43aa-b9a9-b51e7fafcbc1",
   "metadata": {},
   "outputs": [
    {
     "name": "stdout",
     "output_type": "stream",
     "text": [
      "-81\n",
      "81\n"
     ]
    }
   ],
   "source": [
    "print(-3 ** 4) # 3의 4제곱에 -를 붙임 (제곱먼저 계산된 후 -기호가 붙음)\n",
    "print((-3) ** 4)"
   ]
  },
  {
   "cell_type": "markdown",
   "id": "b0763ec5-ce01-4d0f-89f4-6b1e19f305da",
   "metadata": {},
   "source": [
    "## 3. 형변환\n",
    "### 3.1 암시적 형변환"
   ]
  },
  {
   "cell_type": "code",
   "execution_count": 129,
   "id": "e3901a26-e17b-4657-89ed-2ace5ceed68a",
   "metadata": {},
   "outputs": [],
   "source": [
    "a = True\n",
    "b = False\n",
    "c = 1"
   ]
  },
  {
   "cell_type": "code",
   "execution_count": 132,
   "id": "f160ac7e-8f74-4a3a-918d-07fcb117283d",
   "metadata": {},
   "outputs": [
    {
     "name": "stdout",
     "output_type": "stream",
     "text": [
      "2\n",
      "1\n"
     ]
    }
   ],
   "source": [
    "print(a + c) #true를 자동으로 1로 변환해줌\n",
    "print(b + c)"
   ]
  },
  {
   "cell_type": "code",
   "execution_count": 135,
   "id": "f671cd3c-9903-41c1-b40c-4683cb9f0d56",
   "metadata": {},
   "outputs": [],
   "source": [
    "int_num = 3 #언더바를 이용하는 것을 추천(연결됐다는 의미 전달)\n",
    "float_num = 3.3 \n",
    "complex_num = 1 + 3j"
   ]
  },
  {
   "cell_type": "code",
   "execution_count": 136,
   "id": "991cfd70-1ba4-4aa6-a44c-a23ce685ee25",
   "metadata": {},
   "outputs": [
    {
     "name": "stdout",
     "output_type": "stream",
     "text": [
      "6.3\n",
      "(4+3j)\n"
     ]
    }
   ],
   "source": [
    "print(int_num + float_num)\n",
    "print(int_num + complex_num)"
   ]
  },
  {
   "cell_type": "markdown",
   "id": "2a553cea-99a9-496d-816e-214110bca559",
   "metadata": {},
   "source": [
    "## 3.2 명시적 형변환\n",
    "\n",
    "- int() : string, float를 int로 변환\n",
    "- float() : string, int를 float로 변환\n",
    "- str() : int, float 등을 string 으로 변환\n",
    "- bool() : int, list 등을 boolean 으로 변환"
   ]
  },
  {
   "cell_type": "code",
   "execution_count": 137,
   "id": "74494c2d-87d1-469f-af30-fd7d4964f1e8",
   "metadata": {},
   "outputs": [],
   "source": [
    "a = 1\n",
    "b = '번'"
   ]
  },
  {
   "cell_type": "code",
   "execution_count": 139,
   "id": "e2721343-05d6-47ea-9b74-6dd9122ba46c",
   "metadata": {},
   "outputs": [
    {
     "ename": "TypeError",
     "evalue": "unsupported operand type(s) for +: 'int' and 'str'",
     "output_type": "error",
     "traceback": [
      "\u001b[0;31m---------------------------------------------------------------------------\u001b[0m",
      "\u001b[0;31mTypeError\u001b[0m                                 Traceback (most recent call last)",
      "Input \u001b[0;32mIn [139]\u001b[0m, in \u001b[0;36m<cell line: 1>\u001b[0;34m()\u001b[0m\n\u001b[0;32m----> 1\u001b[0m \u001b[38;5;28mprint\u001b[39m(\u001b[43ma\u001b[49m\u001b[43m \u001b[49m\u001b[38;5;241;43m+\u001b[39;49m\u001b[43m \u001b[49m\u001b[43mb\u001b[49m)\n",
      "\u001b[0;31mTypeError\u001b[0m: unsupported operand type(s) for +: 'int' and 'str'"
     ]
    }
   ],
   "source": [
    "print(a + b) # int 와 str 을 연결할 수 없음"
   ]
  },
  {
   "cell_type": "code",
   "execution_count": 140,
   "id": "5176231e-0cfa-4698-98da-f945c7b68cc2",
   "metadata": {},
   "outputs": [
    {
     "name": "stdout",
     "output_type": "stream",
     "text": [
      "1번\n"
     ]
    }
   ],
   "source": [
    "print(str(a)+b)"
   ]
  },
  {
   "cell_type": "code",
   "execution_count": 142,
   "id": "59abdb7d-0a49-4e1f-a681-a345298eb57a",
   "metadata": {},
   "outputs": [],
   "source": [
    "a = '3'"
   ]
  },
  {
   "cell_type": "code",
   "execution_count": 143,
   "id": "9e3ef612-7681-4703-a896-845682fd19f3",
   "metadata": {},
   "outputs": [
    {
     "data": {
      "text/plain": [
       "int"
      ]
     },
     "execution_count": 143,
     "metadata": {},
     "output_type": "execute_result"
    }
   ],
   "source": [
    "type(int(a))"
   ]
  },
  {
   "cell_type": "code",
   "execution_count": 144,
   "id": "42ba7bb7-e9a6-4ebe-a116-2630a1cce658",
   "metadata": {},
   "outputs": [],
   "source": [
    "a = '3.3'"
   ]
  },
  {
   "cell_type": "code",
   "execution_count": 145,
   "id": "ce6afd46-6bbf-4d38-bb9e-eedb828010ea",
   "metadata": {},
   "outputs": [
    {
     "ename": "ValueError",
     "evalue": "invalid literal for int() with base 10: '3.3'",
     "output_type": "error",
     "traceback": [
      "\u001b[0;31m---------------------------------------------------------------------------\u001b[0m",
      "\u001b[0;31mValueError\u001b[0m                                Traceback (most recent call last)",
      "Input \u001b[0;32mIn [145]\u001b[0m, in \u001b[0;36m<cell line: 1>\u001b[0;34m()\u001b[0m\n\u001b[0;32m----> 1\u001b[0m \u001b[38;5;28mtype\u001b[39m(\u001b[38;5;28;43mint\u001b[39;49m\u001b[43m(\u001b[49m\u001b[43ma\u001b[49m\u001b[43m)\u001b[49m)\n",
      "\u001b[0;31mValueError\u001b[0m: invalid literal for int() with base 10: '3.3'"
     ]
    }
   ],
   "source": [
    "type(int(a)) # int: 정수"
   ]
  },
  {
   "cell_type": "code",
   "execution_count": 146,
   "id": "49846cb2-fdc1-4a08-8ca6-24901a58ca8e",
   "metadata": {},
   "outputs": [
    {
     "data": {
      "text/plain": [
       "float"
      ]
     },
     "execution_count": 146,
     "metadata": {},
     "output_type": "execute_result"
    }
   ],
   "source": [
    "type(float(a))"
   ]
  },
  {
   "cell_type": "code",
   "execution_count": 147,
   "id": "5d1fc95f-14f0-4d73-a0de-ac918cd7d515",
   "metadata": {},
   "outputs": [],
   "source": [
    "a = 1\n",
    "b = 0"
   ]
  },
  {
   "cell_type": "code",
   "execution_count": 148,
   "id": "c4aab22a-05ea-48fe-89ba-4f9a11380375",
   "metadata": {},
   "outputs": [
    {
     "data": {
      "text/plain": [
       "True"
      ]
     },
     "execution_count": 148,
     "metadata": {},
     "output_type": "execute_result"
    }
   ],
   "source": [
    "bool(a) # 데이터가 뭔가 있으면 대부분 True로 전환"
   ]
  },
  {
   "cell_type": "code",
   "execution_count": 149,
   "id": "87137540-e554-4e9a-948e-a12347ca1f5f",
   "metadata": {},
   "outputs": [
    {
     "data": {
      "text/plain": [
       "False"
      ]
     },
     "execution_count": 149,
     "metadata": {},
     "output_type": "execute_result"
    }
   ],
   "source": [
    "bool(b)"
   ]
  },
  {
   "cell_type": "code",
   "execution_count": 152,
   "id": "c9b75294-32f3-4283-b4cd-bcbb42a01799",
   "metadata": {},
   "outputs": [
    {
     "name": "stdout",
     "output_type": "stream",
     "text": [
      "False\n",
      "True\n"
     ]
    }
   ],
   "source": [
    "print(bool([])) #데이터가 비어있으므로 False로 전환\n",
    "print(bool([1, 2, 3]))"
   ]
  },
  {
   "cell_type": "markdown",
   "id": "7bad7bc7-9fcf-493e-9d91-09913346a72b",
   "metadata": {},
   "source": [
    "## 4. 시퀀스(sequence) 자료형 \n",
    "\n",
    "시퀀스는 데이터의 순서대로 나열된 자료구조.(순서대로 나열되었다는 것은 정렬된 것과 다르다)\n",
    "\n",
    "1. 리스트\n",
    "2. 튜플\n",
    "3. 레인지\n",
    "4. 문자열"
   ]
  },
  {
   "cell_type": "markdown",
   "id": "002f41e0-c3d2-46f6-807a-f9ce4f185c21",
   "metadata": {},
   "source": [
    "### 4.1 List (배열)\n",
    "\n",
    "- 선언 : 변수이름 = [value1, value2, value3 ...]\n",
    "- 접근 : 변수이름[index]"
   ]
  },
  {
   "cell_type": "code",
   "execution_count": 154,
   "id": "66374f2d-3456-4ba8-9d27-6710100371ea",
   "metadata": {},
   "outputs": [
    {
     "name": "stdout",
     "output_type": "stream",
     "text": [
      "[]\n",
      "<class 'list'>\n"
     ]
    }
   ],
   "source": [
    "l = []\n",
    "print(l)\n",
    "print(type(l))"
   ]
  },
  {
   "cell_type": "code",
   "execution_count": 159,
   "id": "b8b0cb57-2508-4ba8-90cc-53f6222a3740",
   "metadata": {},
   "outputs": [
    {
     "name": "stdout",
     "output_type": "stream",
     "text": [
      "['서울', '대구', '대전']\n",
      "서울\n",
      "['부산', '대구', '대전']\n"
     ]
    }
   ],
   "source": [
    "location = ['서울', '대구', '대전']\n",
    "print(location)\n",
    "print(location[0])\n",
    "location[0] = '부산'\n",
    "print(location)"
   ]
  },
  {
   "cell_type": "markdown",
   "id": "adf35b89-0f40-4991-97c4-75c951c05370",
   "metadata": {},
   "source": [
    "### 4.2 Tuple\n",
    "- 선언 : 변수이름 = (value1, value2, value3)\n",
    "- 접근 : 변수이름[index]\n",
    "- 리스트와 유사하지만 수정 불가능(immutable)하다."
   ]
  },
  {
   "cell_type": "code",
   "execution_count": 161,
   "id": "e073943a-4a6c-4d48-b79d-f0fd3498046c",
   "metadata": {},
   "outputs": [
    {
     "name": "stdout",
     "output_type": "stream",
     "text": [
      "(1, 2, 3)\n",
      "<class 'tuple'>\n",
      "2\n"
     ]
    }
   ],
   "source": [
    "t = (1, 2, 3) # 소괄호 선언\n",
    "print(t)\n",
    "print(type(t))\n",
    "print(t[1]) # 대괄호로 호출"
   ]
  },
  {
   "cell_type": "code",
   "execution_count": 160,
   "id": "98e59de3-6090-422a-91f7-f5373fdadfb2",
   "metadata": {},
   "outputs": [
    {
     "ename": "TypeError",
     "evalue": "'tuple' object does not support item assignment",
     "output_type": "error",
     "traceback": [
      "\u001b[0;31m---------------------------------------------------------------------------\u001b[0m",
      "\u001b[0;31mTypeError\u001b[0m                                 Traceback (most recent call last)",
      "Input \u001b[0;32mIn [160]\u001b[0m, in \u001b[0;36m<cell line: 1>\u001b[0;34m()\u001b[0m\n\u001b[0;32m----> 1\u001b[0m t[\u001b[38;5;241m2\u001b[39m] \u001b[38;5;241m=\u001b[39m \u001b[38;5;241m5\u001b[39m\n",
      "\u001b[0;31mTypeError\u001b[0m: 'tuple' object does not support item assignment"
     ]
    }
   ],
   "source": [
    "t[2] = 5"
   ]
  },
  {
   "cell_type": "code",
   "execution_count": 163,
   "id": "634d7bee-cfea-4241-a513-13d277d996c8",
   "metadata": {},
   "outputs": [
    {
     "name": "stdout",
     "output_type": "stream",
     "text": [
      "1 2\n",
      "2 1\n"
     ]
    }
   ],
   "source": [
    "x, y =1, 2 # x, y =(1, 2) 와 같음\n",
    "print(x, y)\n",
    "\n",
    "x, y = y, x\n",
    "print(x, y)"
   ]
  },
  {
   "cell_type": "markdown",
   "id": "38a80003-f2ea-4cf1-afd4-2329d3638964",
   "metadata": {},
   "source": [
    "### 4.3 range\n",
    "\n",
    "- range(n) : 0 부터 n-1까지 범위\n",
    "- range(n, m) : n 부터 m-1까지 범위\n",
    "- range(n, m, s) :n 부터 m-1까지 +s만큼 증가하는 범위"
   ]
  },
  {
   "cell_type": "code",
   "execution_count": 166,
   "id": "59a23648-5a3e-4478-b7d2-c4a92298a210",
   "metadata": {},
   "outputs": [
    {
     "name": "stdout",
     "output_type": "stream",
     "text": [
      "<class 'range'>\n"
     ]
    }
   ],
   "source": [
    "a = range(1)\n",
    "print(type(a))"
   ]
  },
  {
   "cell_type": "code",
   "execution_count": 167,
   "id": "f13abe7c-cf27-4ffa-8c6a-1bc6ab4e8acf",
   "metadata": {},
   "outputs": [
    {
     "name": "stdout",
     "output_type": "stream",
     "text": [
      "range(0, 10)\n",
      "[0, 1, 2, 3, 4, 5, 6, 7, 8, 9]\n"
     ]
    }
   ],
   "source": [
    "a = range(10)\n",
    "print(a)\n",
    "print(list(a))"
   ]
  },
  {
   "cell_type": "code",
   "execution_count": 171,
   "id": "7eebff91-891b-4cc4-8d26-a584552d34ee",
   "metadata": {},
   "outputs": [
    {
     "name": "stdout",
     "output_type": "stream",
     "text": [
      "[5, 6, 7, 8, 9, 10, 11, 12, 13, 14]\n",
      "range(5, 15)\n"
     ]
    }
   ],
   "source": [
    "a = range(5, 15)\n",
    "print(list(a))\n",
    "print(a)"
   ]
  },
  {
   "cell_type": "code",
   "execution_count": 172,
   "id": "1e61ceaf-5efe-4e49-bfc4-8d26e99e8f6d",
   "metadata": {},
   "outputs": [
    {
     "name": "stdout",
     "output_type": "stream",
     "text": [
      "[1, 3, 5, 7, 9]\n"
     ]
    }
   ],
   "source": [
    "a = range(1, 10, 2)\n",
    "print(list(a))"
   ]
  },
  {
   "cell_type": "code",
   "execution_count": 173,
   "id": "69a1aef9-416b-4e7d-b2d6-34218e5537cf",
   "metadata": {},
   "outputs": [
    {
     "name": "stdout",
     "output_type": "stream",
     "text": [
      "[-1, -2, -3, -4, -5, -6, -7, -8, -9]\n"
     ]
    }
   ],
   "source": [
    "a = range(-1, -10, -1)\n",
    "print(list(a))"
   ]
  },
  {
   "cell_type": "markdown",
   "id": "f0c345d4-f232-4ae2-9381-667f2d9cf6fb",
   "metadata": {},
   "source": [
    "### 4.4 String \n",
    "\n",
    "기본 데이터 구조 참고"
   ]
  },
  {
   "cell_type": "markdown",
   "id": "32c9d722-b007-4bda-a4e6-c54f67a87e83",
   "metadata": {},
   "source": [
    "### 4.5 시퀀스에서 활용가능한 연산/ 함수"
   ]
  },
  {
   "cell_type": "code",
   "execution_count": 177,
   "id": "0721f667-a510-4a44-b64a-830977d558d8",
   "metadata": {},
   "outputs": [],
   "source": [
    "my_list = [1, 2, 3, 4, 5]\n",
    "my_tuple = (1, 2, 3, 4, 5)\n",
    "my_range = range(1, 100)\n",
    "my_string = '12345'"
   ]
  },
  {
   "cell_type": "code",
   "execution_count": 175,
   "id": "e519a0cc-bd69-45e7-9e97-05b142f66043",
   "metadata": {},
   "outputs": [
    {
     "name": "stdout",
     "output_type": "stream",
     "text": [
      "2\n",
      "2\n",
      "2\n",
      "2\n"
     ]
    }
   ],
   "source": [
    "# indexing\n",
    "print(my_list[1])\n",
    "print(my_tuple[1])\n",
    "print(my_range[1])\n",
    "print(my_string[1])"
   ]
  },
  {
   "cell_type": "code",
   "execution_count": 176,
   "id": "22028b54-bcc3-4f4a-9eab-739ad33adaa0",
   "metadata": {},
   "outputs": [
    {
     "name": "stdout",
     "output_type": "stream",
     "text": [
      "[2, 3]\n",
      "(2, 3)\n",
      "range(2, 4)\n",
      "23\n"
     ]
    }
   ],
   "source": [
    "# slicing\n",
    "print(my_list[1:3]) # 1번째부터 3번째 전까지\n",
    "print(my_tuple[1:3])\n",
    "print(my_range[1:3])\n",
    "print(my_string[1:3])"
   ]
  },
  {
   "cell_type": "code",
   "execution_count": 180,
   "id": "ff084e48-f41c-4f27-846e-2b777bfb122c",
   "metadata": {},
   "outputs": [
    {
     "data": {
      "text/plain": [
       "[3, 5]"
      ]
     },
     "execution_count": 180,
     "metadata": {},
     "output_type": "execute_result"
    }
   ],
   "source": [
    "# slicing (k 간격으로)\n",
    "my_range[2:6:2]\n",
    "list(my_range[2:6:2])\n"
   ]
  },
  {
   "cell_type": "code",
   "execution_count": 183,
   "id": "911bb209-6f64-4852-b8ea-9e274aeed790",
   "metadata": {},
   "outputs": [
    {
     "name": "stdout",
     "output_type": "stream",
     "text": [
      "True\n",
      "True\n",
      "True\n",
      "True\n"
     ]
    }
   ],
   "source": [
    "# in \n",
    "print(1 in my_list)\n",
    "print(1 in my_tuple)\n",
    "print(1 in my_range)\n",
    "print('1' in my_string)"
   ]
  },
  {
   "cell_type": "code",
   "execution_count": 182,
   "id": "f32b5344-3c39-4d8a-a3ef-352b816216f0",
   "metadata": {},
   "outputs": [
    {
     "name": "stdout",
     "output_type": "stream",
     "text": [
      "False\n",
      "False\n",
      "False\n",
      "False\n"
     ]
    }
   ],
   "source": [
    "print(1 not in my_list)\n",
    "print(1 not in my_tuple)\n",
    "print(1 not in my_range)\n",
    "print('1' not in my_string)"
   ]
  },
  {
   "cell_type": "code",
   "execution_count": 184,
   "id": "f696520a-2db8-49e9-8dfd-0c6decd4be0e",
   "metadata": {},
   "outputs": [
    {
     "name": "stdout",
     "output_type": "stream",
     "text": [
      "[1, 2, 3, 4, 5, 1, 2, 3]\n"
     ]
    }
   ],
   "source": [
    "# concatenation\n",
    "print(my_list + [1, 2, 3])"
   ]
  },
  {
   "cell_type": "code",
   "execution_count": 187,
   "id": "197eb6b4-5d50-4ec6-bc4c-e17ed9004888",
   "metadata": {},
   "outputs": [
    {
     "name": "stdout",
     "output_type": "stream",
     "text": [
      "[0, 0, 0, 0, 0, 0, 0, 0, 0, 0]\n",
      "[[0, 0, 0, 0, 0, 0, 0, 0, 0, 0], [0, 0, 0, 0, 0, 0, 0, 0, 0, 0], [0, 0, 0, 0, 0, 0, 0, 0, 0, 0], [0, 0, 0, 0, 0, 0, 0, 0, 0, 0], [0, 0, 0, 0, 0, 0, 0, 0, 0, 0], [0, 0, 0, 0, 0, 0, 0, 0, 0, 0], [0, 0, 0, 0, 0, 0, 0, 0, 0, 0], [0, 0, 0, 0, 0, 0, 0, 0, 0, 0], [0, 0, 0, 0, 0, 0, 0, 0, 0, 0], [0, 0, 0, 0, 0, 0, 0, 0, 0, 0]]\n"
     ]
    }
   ],
   "source": [
    "# *\n",
    "print([0] * 10)\n",
    "print([[0] * 10] *10)\n"
   ]
  },
  {
   "cell_type": "code",
   "execution_count": 188,
   "id": "f517e8f3-a500-4244-85ea-cbfc77d545fd",
   "metadata": {},
   "outputs": [
    {
     "name": "stdout",
     "output_type": "stream",
     "text": [
      "5\n"
     ]
    }
   ],
   "source": [
    "print(len(my_list))"
   ]
  },
  {
   "cell_type": "code",
   "execution_count": 189,
   "id": "9abf402c-a492-4401-a3c3-9c06e30b94f7",
   "metadata": {},
   "outputs": [
    {
     "name": "stdout",
     "output_type": "stream",
     "text": [
      "1\n"
     ]
    }
   ],
   "source": [
    "print(min(my_list))"
   ]
  },
  {
   "cell_type": "code",
   "execution_count": 190,
   "id": "e5ebbf41-c650-4079-95c4-63cbb690d7bf",
   "metadata": {},
   "outputs": [
    {
     "name": "stdout",
     "output_type": "stream",
     "text": [
      "5\n"
     ]
    }
   ],
   "source": [
    "print(max(my_list))"
   ]
  },
  {
   "cell_type": "code",
   "execution_count": 192,
   "id": "d88a85e9-681a-4a3c-b758-53e1877708aa",
   "metadata": {},
   "outputs": [
    {
     "data": {
      "text/plain": [
       "1"
      ]
     },
     "execution_count": 192,
     "metadata": {},
     "output_type": "execute_result"
    }
   ],
   "source": [
    "\n",
    "#원하는 숫자가 몇 번 등장하는지"
   ]
  },
  {
   "cell_type": "markdown",
   "id": "ff70d302-3ed8-459a-8925-60bcf7e6cbb3",
   "metadata": {},
   "source": [
    "## 5. 시퀀스데이터가 아닌 자료구조\n",
    "\n",
    "### 5.1 Set\n",
    "\n",
    "수학에서 사용하는 집합과 동일하게 처리 (중복된 값이 없음)\n",
    "- 선언 : 변수이름 = {value1, value2, value3...}"
   ]
  },
  {
   "cell_type": "code",
   "execution_count": 193,
   "id": "3735e7ea-37a2-42a1-a0ec-19f195816778",
   "metadata": {},
   "outputs": [],
   "source": [
    "my_set_a = {1, 2, 3, 4, 5}\n",
    "my_set_b = {3, 4, 5, 6, 7}"
   ]
  },
  {
   "cell_type": "code",
   "execution_count": 197,
   "id": "982c1acb-9a86-4c94-ba11-edf43da71083",
   "metadata": {},
   "outputs": [
    {
     "name": "stdout",
     "output_type": "stream",
     "text": [
      "{1, 2}\n",
      "{1, 2, 3, 4, 5, 6, 7}\n",
      "{3, 4, 5}\n"
     ]
    }
   ],
   "source": [
    "print(my_set_a - my_set_b)\n",
    "print(my_set_a | my_set_b) # 합집합기호 | (파이프)\n",
    "print(my_set_a & my_set_b) # 교집합"
   ]
  },
  {
   "cell_type": "code",
   "execution_count": 200,
   "id": "e3e1934a-4158-4162-8933-31cd8e9dd481",
   "metadata": {},
   "outputs": [
    {
     "name": "stdout",
     "output_type": "stream",
     "text": [
      "[1, 2, 3, 4, 5, 6, 7]\n",
      "{1, 2, 3, 4, 5, 6, 7}\n"
     ]
    }
   ],
   "source": [
    "my_list = [1, 1, 1, 1, 1, 1, 1, 1, 2, 3, 4, 5, 6, 7]\n",
    "print(list(set(my_list))) #반복되는 값을 없애고 다시 리스트로 만들고 싶을 때, 얘가 제일 많이쓰임) \n",
    "print(set(my_list)) "
   ]
  },
  {
   "cell_type": "markdown",
   "id": "04795afd-15ae-4f7f-b699-c5a27c0da029",
   "metadata": {},
   "source": [
    "### 5.2 Dictionary"
   ]
  },
  {
   "cell_type": "markdown",
   "id": "2e62512f-9833-44f1-8e43-74cf431e037c",
   "metadata": {},
   "source": [
    "- 선언 : 변수이름 = {key1: value1, key2: value2,...}\n",
    "    - #pep 8에 따르면 key와 콜론 붙여쓰고 value전엔 띄어쓰기\n",
    "- 접근: 변수이름[key]\n",
    "\n",
    "- dictionary는 key와 value가 쌍으로 이루어져있다.\n",
    "- key에는 immutable한 모든 것을 사용 가능 (불변값: string, integer, boolean, tuple,...)\n",
    "- value에는 모든 데이터 가능(list, dictionary도 가능) "
   ]
  },
  {
   "cell_type": "code",
   "execution_count": 202,
   "id": "22e419ab-1fa0-4de4-b3b3-5a9d63c3cd65",
   "metadata": {},
   "outputs": [
    {
     "data": {
      "text/plain": [
       "'02'"
      ]
     },
     "execution_count": 202,
     "metadata": {},
     "output_type": "execute_result"
    }
   ],
   "source": [
    "my_dict = {'서울': '02', '경기': '031'}\n",
    "my_dict['서울']"
   ]
  },
  {
   "cell_type": "code",
   "execution_count": 203,
   "id": "423184b5-29a6-4c4f-99de-8a596eae91f3",
   "metadata": {},
   "outputs": [],
   "source": [
    "dict_a = {\n",
    "    'name': 'changhee',\n",
    "    'location': 'seoul',\n",
    "    'location': 'seoul2',\n",
    "}\n",
    "    "
   ]
  },
  {
   "cell_type": "code",
   "execution_count": 205,
   "id": "7da0a6e6-1bf3-4bf0-8d51-16830cccad41",
   "metadata": {},
   "outputs": [
    {
     "name": "stdout",
     "output_type": "stream",
     "text": [
      "{'name': 'changhee', 'location': 'seoul2'}\n"
     ]
    }
   ],
   "source": [
    "print(dict_a) #같은 키가 선언돼서 두번째 value로 바뀜"
   ]
  },
  {
   "cell_type": "code",
   "execution_count": 207,
   "id": "f9feb725-e60a-41d8-9356-f68a63f2e600",
   "metadata": {},
   "outputs": [
    {
     "data": {
      "text/plain": [
       "dict_keys(['name', 'location'])"
      ]
     },
     "execution_count": 207,
     "metadata": {},
     "output_type": "execute_result"
    }
   ],
   "source": [
    "dict_a.keys()"
   ]
  },
  {
   "cell_type": "code",
   "execution_count": 208,
   "id": "44bf24a5-ed1e-4c4d-8b40-6fde2753b035",
   "metadata": {},
   "outputs": [
    {
     "data": {
      "text/plain": [
       "dict_values(['changhee', 'seoul2'])"
      ]
     },
     "execution_count": 208,
     "metadata": {},
     "output_type": "execute_result"
    }
   ],
   "source": [
    "dict_a.values()"
   ]
  },
  {
   "cell_type": "markdown",
   "id": "2881d51d-4ab1-4907-9c71-6aec363839d4",
   "metadata": {},
   "source": [
    "# 데이터 타입\n",
    "\n",
    "1. Number\n",
    "2. Boolean\n",
    "3. String\n",
    "\n",
    "# 자료구조\n",
    "\n",
    "- 시퀀스자료형\n",
    "\n",
    "1. [List] : mutable(수정가능)\n",
    "2. (tuple) : immutable\n",
    "3. range() : immutable\n",
    "4. 'String' : immutable\n",
    "\n",
    "- 시퀀스가 아닌 자료형\n",
    "\n",
    "1. {set} : mutable\n",
    "2. {Dictionary} : mutable\n",
    "    "
   ]
  }
 ],
 "metadata": {
  "kernelspec": {
   "display_name": "Python 3 (ipykernel)",
   "language": "python",
   "name": "python3"
  },
  "language_info": {
   "codemirror_mode": {
    "name": "ipython",
    "version": 3
   },
   "file_extension": ".py",
   "mimetype": "text/x-python",
   "name": "python",
   "nbconvert_exporter": "python",
   "pygments_lexer": "ipython3",
   "version": "3.11.4"
  }
 },
 "nbformat": 4,
 "nbformat_minor": 5
}
