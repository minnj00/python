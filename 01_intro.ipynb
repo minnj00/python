{
 "cells": [
  {
   "cell_type": "markdown",
   "id": "ed2d6565-a2bd-4063-8521-77e3ac8fe4e7",
   "metadata": {},
   "source": [
    "# 01. intro\n",
    "\n",
    "## 단축키\n",
    "\n",
    "- command + enter : 지금 셀 실행\n",
    "- shift + enter: 지금 셀 실행 & 아래로 이동 \n",
    "- option + enter : 지금 셀 실행 & 아래에 새로운 셀 추가\n",
    "\n",
    "## 주의사항\n",
    "\n",
    "1. Appple / apple \n",
    "2. git add . git add.\n",
    "3. message / massage \n"
   ]
  },
  {
   "cell_type": "code",
   "execution_count": 9,
   "id": "e4656208-d92a-43f7-8d19-55885e0e787b",
   "metadata": {},
   "outputs": [],
   "source": [
    "# 주석을 나타냅니다. "
   ]
  },
  {
   "cell_type": "markdown",
   "id": "70621726-c275-45d3-990e-6ce0b1b89f6a",
   "metadata": {},
   "source": [
    "# 1. 변수\n",
    "\n",
    "변수이름 = 값 \n",
    "\n",
    "- 변수이름은 어떤 이름이든 상관 없음\n",
    "- 다만 우린 앞으로 영어, 숫자, _ 를 이용하여 선언 \n",
    "- 키워드 사용불가 "
   ]
  },
  {
   "cell_type": "code",
   "execution_count": 13,
   "id": "613f2dc4-95a1-4669-a2bc-451fcf672e8f",
   "metadata": {},
   "outputs": [],
   "source": [
    "a=10"
   ]
  },
  {
   "cell_type": "code",
   "execution_count": 15,
   "id": "1a71ea93-5697-4d3f-a1eb-c6f52002c797",
   "metadata": {},
   "outputs": [
    {
     "data": {
      "text/plain": [
       "10"
      ]
     },
     "execution_count": 15,
     "metadata": {},
     "output_type": "execute_result"
    }
   ],
   "source": [
    "a"
   ]
  },
  {
   "cell_type": "code",
   "execution_count": 17,
   "id": "0de80d29-12fb-4cfe-8bc8-21fbbfe3b809",
   "metadata": {},
   "outputs": [
    {
     "data": {
      "text/plain": [
       "['False',\n",
       " 'None',\n",
       " 'True',\n",
       " '__peg_parser__',\n",
       " 'and',\n",
       " 'as',\n",
       " 'assert',\n",
       " 'async',\n",
       " 'await',\n",
       " 'break',\n",
       " 'class',\n",
       " 'continue',\n",
       " 'def',\n",
       " 'del',\n",
       " 'elif',\n",
       " 'else',\n",
       " 'except',\n",
       " 'finally',\n",
       " 'for',\n",
       " 'from',\n",
       " 'global',\n",
       " 'if',\n",
       " 'import',\n",
       " 'in',\n",
       " 'is',\n",
       " 'lambda',\n",
       " 'nonlocal',\n",
       " 'not',\n",
       " 'or',\n",
       " 'pass',\n",
       " 'raise',\n",
       " 'return',\n",
       " 'try',\n",
       " 'while',\n",
       " 'with',\n",
       " 'yield']"
      ]
     },
     "execution_count": 17,
     "metadata": {},
     "output_type": "execute_result"
    }
   ],
   "source": [
    "import keyword\n",
    "keyword.kwlist"
   ]
  },
  {
   "cell_type": "markdown",
   "id": "6acff7de-0623-43b5-8cdd-436a41270117",
   "metadata": {},
   "source": [
    "### 1.1 number "
   ]
  },
  {
   "cell_type": "code",
   "execution_count": 21,
   "id": "de5de0e4-dad8-49d4-951f-33e1e88a9139",
   "metadata": {},
   "outputs": [],
   "source": [
    "a = 10000000"
   ]
  },
  {
   "cell_type": "code",
   "execution_count": 23,
   "id": "a98b3327-74a5-408b-ae22-4d88be1ebcc8",
   "metadata": {},
   "outputs": [
    {
     "data": {
      "text/plain": [
       "10000000"
      ]
     },
     "execution_count": 23,
     "metadata": {},
     "output_type": "execute_result"
    }
   ],
   "source": [
    "a"
   ]
  },
  {
   "cell_type": "code",
   "execution_count": 24,
   "id": "7d687591-ba08-46de-9474-67cd51f006e4",
   "metadata": {},
   "outputs": [
    {
     "data": {
      "text/plain": [
       "int"
      ]
     },
     "execution_count": 24,
     "metadata": {},
     "output_type": "execute_result"
    }
   ],
   "source": [
    "type(a)"
   ]
  },
  {
   "cell_type": "code",
   "execution_count": 25,
   "id": "ccd12384-e398-4bb8-afd5-734d037a1bb7",
   "metadata": {},
   "outputs": [],
   "source": [
    "b=1.1"
   ]
  },
  {
   "cell_type": "code",
   "execution_count": 26,
   "id": "d1d8c17b-b40a-4d53-be95-57baf1072c74",
   "metadata": {},
   "outputs": [
    {
     "data": {
      "text/plain": [
       "1.1"
      ]
     },
     "execution_count": 26,
     "metadata": {},
     "output_type": "execute_result"
    }
   ],
   "source": [
    "b"
   ]
  },
  {
   "cell_type": "code",
   "execution_count": 27,
   "id": "585f0d80-da94-4698-80c5-9b933699e17e",
   "metadata": {},
   "outputs": [
    {
     "data": {
      "text/plain": [
       "float"
      ]
     },
     "execution_count": 27,
     "metadata": {},
     "output_type": "execute_result"
    }
   ],
   "source": [
    "type(b)"
   ]
  },
  {
   "cell_type": "code",
   "execution_count": 28,
   "id": "3fbcdaae-55ea-4018-b44b-f512f84673b9",
   "metadata": {},
   "outputs": [],
   "source": [
    "c= 1-4j"
   ]
  },
  {
   "cell_type": "code",
   "execution_count": 29,
   "id": "976ec67e-f09e-47fb-a0e3-c5f4e0931641",
   "metadata": {},
   "outputs": [
    {
     "data": {
      "text/plain": [
       "complex"
      ]
     },
     "execution_count": 29,
     "metadata": {},
     "output_type": "execute_result"
    }
   ],
   "source": [
    "type(c)"
   ]
  },
  {
   "cell_type": "markdown",
   "id": "678fd6cc-520b-4b25-9f69-c7556e5e7f7d",
   "metadata": {},
   "source": [
    "complex : 허수 "
   ]
  },
  {
   "cell_type": "code",
   "execution_count": 30,
   "id": "91bbcb1e-83b7-4e85-9041-2ea72fea07f9",
   "metadata": {},
   "outputs": [
    {
     "data": {
      "text/plain": [
       "-4.0"
      ]
     },
     "execution_count": 30,
     "metadata": {},
     "output_type": "execute_result"
    }
   ],
   "source": [
    "c.imag"
   ]
  },
  {
   "cell_type": "code",
   "execution_count": 31,
   "id": "aa5f20e1-7c18-44c0-b012-95975cedbed8",
   "metadata": {},
   "outputs": [
    {
     "data": {
      "text/plain": [
       "1.0"
      ]
     },
     "execution_count": 31,
     "metadata": {},
     "output_type": "execute_result"
    }
   ],
   "source": [
    "c.real"
   ]
  },
  {
   "cell_type": "markdown",
   "id": "0658e42c-b654-43a7-87a7-61309d27f5b1",
   "metadata": {},
   "source": [
    ".어떤 데이터 안에 접근을 할 때 .을 사용"
   ]
  },
  {
   "cell_type": "markdown",
   "id": "0305c49d-bc84-4471-aea9-c4937515aa2d",
   "metadata": {},
   "source": [
    "### 1.2 Boolean\n",
    "\n",
    "True, False로 이루어진 타입"
   ]
  },
  {
   "cell_type": "code",
   "execution_count": 32,
   "id": "07ab8ea9-5726-47b1-ab45-8543877df52c",
   "metadata": {},
   "outputs": [],
   "source": [
    "a= True"
   ]
  },
  {
   "cell_type": "code",
   "execution_count": 33,
   "id": "0d80e062-e505-424b-a035-77c08eebf880",
   "metadata": {},
   "outputs": [
    {
     "data": {
      "text/plain": [
       "bool"
      ]
     },
     "execution_count": 33,
     "metadata": {},
     "output_type": "execute_result"
    }
   ],
   "source": [
    "type(a)"
   ]
  },
  {
   "cell_type": "code",
   "execution_count": 34,
   "id": "5e72e77d-f803-4653-896f-5462a4187806",
   "metadata": {},
   "outputs": [],
   "source": [
    "b=False"
   ]
  },
  {
   "cell_type": "code",
   "execution_count": 35,
   "id": "0b9d446b-76b7-404a-8eff-8b23080bc4f5",
   "metadata": {},
   "outputs": [
    {
     "data": {
      "text/plain": [
       "bool"
      ]
     },
     "execution_count": 35,
     "metadata": {},
     "output_type": "execute_result"
    }
   ],
   "source": [
    "type(b)"
   ]
  },
  {
   "cell_type": "code",
   "execution_count": 36,
   "id": "fbbf74c9-954b-4293-a366-b151faed0910",
   "metadata": {},
   "outputs": [
    {
     "data": {
      "text/plain": [
       "False"
      ]
     },
     "execution_count": 36,
     "metadata": {},
     "output_type": "execute_result"
    }
   ],
   "source": [
    "bool(0)"
   ]
  },
  {
   "cell_type": "code",
   "execution_count": 37,
   "id": "004c6a6c-1706-4a17-b47d-ff1c328d8bc8",
   "metadata": {},
   "outputs": [
    {
     "data": {
      "text/plain": [
       "True"
      ]
     },
     "execution_count": 37,
     "metadata": {},
     "output_type": "execute_result"
    }
   ],
   "source": [
    "bool(1)"
   ]
  },
  {
   "cell_type": "code",
   "execution_count": 38,
   "id": "f9becfc4-8285-4c6b-96e9-1c1a4fe5ba91",
   "metadata": {},
   "outputs": [
    {
     "data": {
      "text/plain": [
       "False"
      ]
     },
     "execution_count": 38,
     "metadata": {},
     "output_type": "execute_result"
    }
   ],
   "source": [
    "bool([])"
   ]
  },
  {
   "cell_type": "code",
   "execution_count": 39,
   "id": "2aaf1c6d-7659-45d0-bc64-8ff8f652e6cc",
   "metadata": {},
   "outputs": [
    {
     "data": {
      "text/plain": [
       "True"
      ]
     },
     "execution_count": 39,
     "metadata": {},
     "output_type": "execute_result"
    }
   ],
   "source": [
    "bool([2])"
   ]
  },
  {
   "cell_type": "markdown",
   "id": "6e35d2c8-4ae2-47ae-a79b-ad446d7839ba",
   "metadata": {},
   "source": [
    "추후에 다룰 것"
   ]
  },
  {
   "cell_type": "markdown",
   "id": "3acfc67a-13ea-44ad-9455-b4332e550c07",
   "metadata": {},
   "source": [
    "### 1.3 None"
   ]
  },
  {
   "cell_type": "code",
   "execution_count": 41,
   "id": "5ba6fe8f-4868-4c4d-a2d1-74a1010b2dbb",
   "metadata": {},
   "outputs": [],
   "source": [
    "a=None"
   ]
  },
  {
   "cell_type": "code",
   "execution_count": 42,
   "id": "795aabf7-250b-463a-b202-596afa1cd53d",
   "metadata": {},
   "outputs": [
    {
     "data": {
      "text/plain": [
       "NoneType"
      ]
     },
     "execution_count": 42,
     "metadata": {},
     "output_type": "execute_result"
    }
   ],
   "source": [
    "type(a)"
   ]
  },
  {
   "cell_type": "markdown",
   "id": "a0c72993-cf96-4049-86ca-c9b4d050ad08",
   "metadata": {},
   "source": [
    "NoneType: 값이 아무것도 들어있지 않습니다."
   ]
  },
  {
   "cell_type": "markdown",
   "id": "7b5e2303-1fa5-413e-b16e-043e3e5e5a34",
   "metadata": {},
   "source": [
    "### 1.4 string\n",
    "\n",
    "- 문자열은 `'` `\"`를 이용하여 표현"
   ]
  },
  {
   "cell_type": "code",
   "execution_count": 44,
   "id": "54a32cd8-dc9d-424e-89c6-ac6b26fc6f2a",
   "metadata": {},
   "outputs": [],
   "source": [
    "a= 'hello'"
   ]
  },
  {
   "cell_type": "code",
   "execution_count": 45,
   "id": "7bbfd662-e1fb-4701-9868-4b1c4a8e5292",
   "metadata": {},
   "outputs": [
    {
     "data": {
      "text/plain": [
       "str"
      ]
     },
     "execution_count": 45,
     "metadata": {},
     "output_type": "execute_result"
    }
   ],
   "source": [
    "type(a)"
   ]
  },
  {
   "cell_type": "code",
   "execution_count": 46,
   "id": "705ffeff-6758-420d-a87d-f55330c13bb5",
   "metadata": {},
   "outputs": [],
   "source": [
    "b=\"world\""
   ]
  },
  {
   "cell_type": "code",
   "execution_count": 47,
   "id": "bd31c4bc-9c9e-4e97-80b8-07503679eb19",
   "metadata": {},
   "outputs": [
    {
     "data": {
      "text/plain": [
       "str"
      ]
     },
     "execution_count": 47,
     "metadata": {},
     "output_type": "execute_result"
    }
   ],
   "source": [
    "type(b)"
   ]
  },
  {
   "cell_type": "markdown",
   "id": "75b15198-2412-4883-9438-9592fd01a2f5",
   "metadata": {},
   "source": [
    "- PEP 8 규칙에 의하면 한번 작은 따옴표로 적으면 그걸로만 모든 코드를 통일하기!\n",
    "(개발자들 사이에서 정해진 규칙)\n",
    "- style guide 는 회사마다 다름 "
   ]
  },
  {
   "cell_type": "code",
   "execution_count": 51,
   "id": "cda4023f-bfed-4550-b712-4fc5a56f60c1",
   "metadata": {},
   "outputs": [
    {
     "name": "stdin",
     "output_type": "stream",
     "text": [
      " 45\n"
     ]
    },
    {
     "name": "stdout",
     "output_type": "stream",
     "text": [
      "45\n",
      "<class 'str'>\n"
     ]
    }
   ],
   "source": [
    "age = input()\n",
    "print(age)\n",
    "print(type(age))"
   ]
  },
  {
   "cell_type": "markdown",
   "id": "ffd40837-6206-49e7-ad6e-3c7af3816d5a",
   "metadata": {},
   "source": [
    "- 셀 실행 순서 칸에 * : 셀이 실행 중입니다.\n",
    "- input : 사용자가 어떤 데이터를 입력할 수 있는 기능을 함.\n",
    "- input 에 어떤 데이터를 넣든 상관없이 string 으로 인식함 (숫자값을 받으려면 형태를 전환해야함) "
   ]
  },
  {
   "cell_type": "code",
   "execution_count": 53,
   "id": "98d8fd16-86b2-40fb-938f-7417f62f8068",
   "metadata": {},
   "outputs": [
    {
     "ename": "SyntaxError",
     "evalue": "invalid syntax (3382081217.py, line 1)",
     "output_type": "error",
     "traceback": [
      "\u001b[0;36m  Input \u001b[0;32mIn [53]\u001b[0;36m\u001b[0m\n\u001b[0;31m    print('안녕하세요? '오창희' 입니다')\u001b[0m\n\u001b[0m                   ^\u001b[0m\n\u001b[0;31mSyntaxError\u001b[0m\u001b[0;31m:\u001b[0m invalid syntax\n"
     ]
    }
   ],
   "source": [
    "print('안녕하세요? '오창희' 입니다')"
   ]
  },
  {
   "cell_type": "markdown",
   "id": "8b70bd0b-d296-4394-a3d7-d77488deb645",
   "metadata": {},
   "source": [
    "저때 안녕하세요? 와 입니다 를 따로 묶어 인식하여 오창희 부분때문에 오류"
   ]
  },
  {
   "cell_type": "code",
   "execution_count": 54,
   "id": "3bafce7b-29a0-46c2-a96a-4b740cceb733",
   "metadata": {},
   "outputs": [
    {
     "name": "stdout",
     "output_type": "stream",
     "text": [
      "안녕하세요? '오창희' 입니다.\n"
     ]
    }
   ],
   "source": [
    "print(\"안녕하세요? '오창희' 입니다.\")"
   ]
  },
  {
   "cell_type": "code",
   "execution_count": 56,
   "id": "a1040060-b27b-4755-974c-b21c88b78628",
   "metadata": {},
   "outputs": [
    {
     "name": "stdout",
     "output_type": "stream",
     "text": [
      "안녕하세요?'오창희'입니다.\n"
     ]
    }
   ],
   "source": [
    "print('안녕하세요?\\'오창희\\'입니다.') #escape 문자열"
   ]
  },
  {
   "cell_type": "code",
   "execution_count": 57,
   "id": "c32d5398-a023-4b5b-bf73-608ad7b7f1dd",
   "metadata": {},
   "outputs": [],
   "source": [
    "a = '''\n",
    "여기는 문자열 입니다.\n",
    "엔터를 쳐서 여러줄을 작성할 수 있습니다.\n",
    "'''"
   ]
  },
  {
   "cell_type": "code",
   "execution_count": 58,
   "id": "d41c0bd7-8393-483a-b77e-a6a47177d144",
   "metadata": {},
   "outputs": [
    {
     "name": "stdout",
     "output_type": "stream",
     "text": [
      "\n",
      "여기는 문자열 입니다.\n",
      "엔터를 쳐서 여러줄을 작성할 수 있습니다.\n",
      "\n"
     ]
    }
   ],
   "source": [
    "print(a)"
   ]
  },
  {
   "cell_type": "code",
   "execution_count": 61,
   "id": "c5b4ba5f-ae19-4e1b-bf56-2d2cb1ba3c81",
   "metadata": {},
   "outputs": [
    {
     "name": "stdout",
     "output_type": "stream",
     "text": [
      "엔터를 입력해봐요 \n",
      "다음줄입니다. \t 들여쓰기도 가능합니다\n"
     ]
    }
   ],
   "source": [
    "print('엔터를 입력해봐요 \\n다음줄입니다. \\t 들여쓰기도 가능합니다') #\\n: 뉴라인이 생성, \\t: tab 누르는것"
   ]
  },
  {
   "cell_type": "code",
   "execution_count": 63,
   "id": "3d81f8f2-78c9-4868-b969-a5093985af18",
   "metadata": {},
   "outputs": [
    {
     "name": "stdout",
     "output_type": "stream",
     "text": [
      "하나 둘 셋!"
     ]
    }
   ],
   "source": [
    "print('하나', '둘', '셋', end='!') #마지막에 느낌표를 붙여주세요"
   ]
  },
  {
   "cell_type": "code",
   "execution_count": 65,
   "id": "1da21f1f-d304-49b7-a71d-5a091cf8c71f",
   "metadata": {},
   "outputs": [
    {
     "name": "stdout",
     "output_type": "stream",
     "text": [
      "하나!둘!셋\n"
     ]
    }
   ],
   "source": [
    "print('하나', '둘', '셋', sep='!') #sep(separate):중간에 넣는것, default:sep=' '"
   ]
  },
  {
   "cell_type": "markdown",
   "id": "bd03ed35-7f6d-4cb0-ac59-7737b0460336",
   "metadata": {},
   "source": [
    "#### string interpolation\n",
    "\n",
    "1. %-formatting \n",
    "2. str.format()\n",
    "3. f-string\n",
    "- 사실상 세번째만 쓸 것"
   ]
  },
  {
   "cell_type": "code",
   "execution_count": 66,
   "id": "99d39f97-9125-4da4-812f-3927751acda5",
   "metadata": {},
   "outputs": [],
   "source": [
    "age=20"
   ]
  },
  {
   "cell_type": "code",
   "execution_count": 68,
   "id": "b786c2e4-c644-40ab-bc30-cbe1993a2e60",
   "metadata": {},
   "outputs": [
    {
     "name": "stdout",
     "output_type": "stream",
     "text": [
      "20\n"
     ]
    }
   ],
   "source": [
    "print(age)"
   ]
  },
  {
   "cell_type": "code",
   "execution_count": 71,
   "id": "c10e4405-3ac3-484c-b8c6-dc696a68cc7b",
   "metadata": {},
   "outputs": [
    {
     "name": "stdout",
     "output_type": "stream",
     "text": [
      "홍길동은 20 살입니다.\n"
     ]
    }
   ],
   "source": [
    "print('홍길동은 %s 살입니다.' % age)"
   ]
  },
  {
   "cell_type": "code",
   "execution_count": 72,
   "id": "0d92daef-e59e-4691-85c3-c6cbf06abfc5",
   "metadata": {},
   "outputs": [
    {
     "name": "stdout",
     "output_type": "stream",
     "text": [
      "홍길동은 20살입니다.\n"
     ]
    }
   ],
   "source": [
    "print('홍길동은 {}살입니다.'.format(age))"
   ]
  },
  {
   "cell_type": "code",
   "execution_count": 73,
   "id": "55323a3c-1e3a-4c7d-ab30-2e010a70cb0d",
   "metadata": {},
   "outputs": [
    {
     "name": "stdout",
     "output_type": "stream",
     "text": [
      "홍길동은 20살입니다.\n"
     ]
    }
   ],
   "source": [
    "print(f'홍길동은 {age}살입니다.')"
   ]
  }
 ],
 "metadata": {
  "kernelspec": {
   "display_name": "Python 3 (ipykernel)",
   "language": "python",
   "name": "python3"
  },
  "language_info": {
   "codemirror_mode": {
    "name": "ipython",
    "version": 3
   },
   "file_extension": ".py",
   "mimetype": "text/x-python",
   "name": "python",
   "nbconvert_exporter": "python",
   "pygments_lexer": "ipython3",
   "version": "3.9.12"
  }
 },
 "nbformat": 4,
 "nbformat_minor": 5
}
