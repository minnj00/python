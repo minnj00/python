{
 "cells": [
  {
   "cell_type": "markdown",
   "id": "02596f97-f1bd-4476-bb7f-520c7276ac39",
   "metadata": {},
   "source": [
    "# 객체지향 프로그래밍 (OOP)\n",
    "\n",
    "- 클래스(class): 같은 종류의 집단에 속하는 속성(attribute)과 행위(method)를 **정의**한 것\n",
    "- 인스턴스(instance): 클래스를 실제로 메모리상에 할당한 것\n",
    "- 속성(attribute): 클래스/ 인스턴스가 가지고 있는 **데이터**/값\n",
    "- 행위(method):클래스/인스턴스가 가지고 있는 **함수**/기능"
   ]
  },
  {
   "cell_type": "code",
   "execution_count": 2,
   "id": "931054d7-e3e6-4310-a17c-836821e4a54b",
   "metadata": {},
   "outputs": [
    {
     "name": "stdout",
     "output_type": "stream",
     "text": [
      "(1+2j)\n"
     ]
    }
   ],
   "source": [
    "number = 1 + 2j\n",
    "print(number)"
   ]
  },
  {
   "cell_type": "code",
   "execution_count": 3,
   "id": "d787767f-d0b4-4600-95f1-8325caef23e6",
   "metadata": {},
   "outputs": [
    {
     "name": "stdout",
     "output_type": "stream",
     "text": [
      "1.0\n",
      "2.0\n"
     ]
    }
   ],
   "source": [
    "print(number.real)    \n",
    "print(number.imag)\n",
    "#n = 1+2j는 속성과 행위로 나뉘는데 속성에는 real:1 imag:2 이런 정보가 있음"
   ]
  },
  {
   "cell_type": "markdown",
   "id": "488e69cd-fd01-4ec5-853d-cece2b1bdedb",
   "metadata": {},
   "source": [
    "- 파이썬에 있는 모든 것은 객체, 클래스와 인스턴스도 객체\n",
    "- 객체는 데이터와 메소드를 가짐 (속성과 행위를 가지고 있음) "
   ]
  },
  {
   "cell_type": "code",
   "execution_count": 5,
   "id": "e83ab6f8-3040-45b8-85e2-933c9f40c6e2",
   "metadata": {},
   "outputs": [
    {
     "name": "stdout",
     "output_type": "stream",
     "text": [
      "<class 'complex'>\n"
     ]
    },
    {
     "data": {
      "text/plain": [
       "['__abs__',\n",
       " '__add__',\n",
       " '__bool__',\n",
       " '__class__',\n",
       " '__complex__',\n",
       " '__delattr__',\n",
       " '__dir__',\n",
       " '__doc__',\n",
       " '__eq__',\n",
       " '__format__',\n",
       " '__ge__',\n",
       " '__getattribute__',\n",
       " '__getnewargs__',\n",
       " '__getstate__',\n",
       " '__gt__',\n",
       " '__hash__',\n",
       " '__init__',\n",
       " '__init_subclass__',\n",
       " '__le__',\n",
       " '__lt__',\n",
       " '__mul__',\n",
       " '__ne__',\n",
       " '__neg__',\n",
       " '__new__',\n",
       " '__pos__',\n",
       " '__pow__',\n",
       " '__radd__',\n",
       " '__reduce__',\n",
       " '__reduce_ex__',\n",
       " '__repr__',\n",
       " '__rmul__',\n",
       " '__rpow__',\n",
       " '__rsub__',\n",
       " '__rtruediv__',\n",
       " '__setattr__',\n",
       " '__sizeof__',\n",
       " '__str__',\n",
       " '__sub__',\n",
       " '__subclasshook__',\n",
       " '__truediv__',\n",
       " 'conjugate',\n",
       " 'imag',\n",
       " 'real']"
      ]
     },
     "execution_count": 5,
     "metadata": {},
     "output_type": "execute_result"
    }
   ],
   "source": [
    "print(type(number)) #number는 클래스인데 complex 라고 하는 클래스 입니다.\n",
    "dir(number)"
   ]
  },
  {
   "cell_type": "code",
   "execution_count": 7,
   "id": "aad1cb66-c944-48e6-8a4f-d7d66e66927d",
   "metadata": {},
   "outputs": [
    {
     "name": "stdout",
     "output_type": "stream",
     "text": [
      "<class 'list'>\n"
     ]
    }
   ],
   "source": [
    "my_list = [1, 2, 3, 4, 5]\n",
    "print(type(my_list))\n",
    "my_list.sort()\n",
    "# my_list 는 속성부분과 행위 부분이 있는데 행위 부분에는 \n",
    "#.sort() 같은 것들이 있음 (행위를 호출하기 때문에 뒤에()가 같이 나옴) "
   ]
  },
  {
   "cell_type": "code",
   "execution_count": 8,
   "id": "56ddc6c2-4a6d-4051-8ada-223f15f9b25e",
   "metadata": {},
   "outputs": [],
   "source": [
    "power = False\n",
    "number = '010-1234-1234'\n",
    "book = {\n",
    "    '홍길동': '010-1111-1111',\n",
    "    '이순신': '010-2222-2222',\n",
    "}\n",
    "model = 'iPhone12'\n",
    "#클래스라는 개념이 없다면 이렇게 모든 속성들을 다 적어야함 심지어 더 많은 데이터가 있다면 그것 마다 속성을 다 적어주어야함"
   ]
  },
  {
   "cell_type": "code",
   "execution_count": 9,
   "id": "23f1abcc-7fc5-42a3-aa18-645ec17dc950",
   "metadata": {},
   "outputs": [],
   "source": [
    "def on():\n",
    "    global power #함수 밖의 power을 가져오는 것이기 때문에 \n",
    "    if power == False:\n",
    "        power = True \n",
    "        print('핸드폰이 켜졌습니다')\n",
    "        "
   ]
  },
  {
   "cell_type": "code",
   "execution_count": 10,
   "id": "08d8d015-0df2-417a-9c27-5a44a343aa93",
   "metadata": {},
   "outputs": [
    {
     "name": "stdout",
     "output_type": "stream",
     "text": [
      "핸드폰이 켜졌습니다\n"
     ]
    }
   ],
   "source": [
    "on()"
   ]
  },
  {
   "cell_type": "markdown",
   "id": "c56f2cdf-43c1-4d0d-a9b0-1fbb051446bc",
   "metadata": {},
   "source": [
    "## Class\n",
    "- 클래스선언 \n",
    "\n",
    "```python\n",
    "class ClassName:\n",
    "    attribute = value\n",
    "\n",
    "    def method_name(self):\n",
    "        code \n",
    "```\n",
    "- 인스턴스화\n",
    "```\n",
    "  ClassName()\n",
    "```"
   ]
  },
  {
   "cell_type": "code",
   "execution_count": 194,
   "id": "589f50bd-d31d-4b10-9a84-d1ebd84401fc",
   "metadata": {},
   "outputs": [],
   "source": [
    "#선언\n",
    "class MyClass:\n",
    "    name = 'kim'\n",
    "\n",
    "    def hello(self):\n",
    "        return 'hello'"
   ]
  },
  {
   "cell_type": "code",
   "execution_count": 195,
   "id": "1b3b7f3d-eb79-4f2f-b57c-0d45d1b7a00e",
   "metadata": {},
   "outputs": [
    {
     "name": "stdout",
     "output_type": "stream",
     "text": [
      "kim\n",
      "hello\n",
      "kim\n",
      "hello\n",
      "<class '__main__.MyClass'>\n",
      "<class '__main__.MyClass'>\n"
     ]
    }
   ],
   "source": [
    "#인스턴스화\n",
    "a = MyClass()\n",
    "\n",
    "print(a.name) # 괄호가 없는 상태로 실행\n",
    "print(a.hello()) #괄호 붙여서 실행 \n",
    "\n",
    "b = MyClass()\n",
    "print(b.name)\n",
    "print(b.hello())\n",
    "print(type(a))\n",
    "print(type(b))"
   ]
  },
  {
   "cell_type": "code",
   "execution_count": 32,
   "id": "e37f8b21-da6a-41ee-b5fb-f1ae14dd5e66",
   "metadata": {},
   "outputs": [],
   "source": [
    "class Phone: \n",
    "    power = False\n",
    "    number = '010-0000-0000'\n",
    "    book = {}\n",
    "    model = ''\n",
    "\n",
    "    def on(self):\n",
    "        if self.power == False:  # 인스턴스에 할당되면 그 인스턴스의 power속성 => self.power\n",
    "            self.power = True\n",
    "    def off(self):\n",
    "        if self.power == True:\n",
    "            self.power = False\n",
    "    def call(self, target):\n",
    "        if self.power == True:\n",
    "            print(f'내 번호는 {self.number} 입니다. ')\n",
    "            print(f'{target}번호로 전화거는중')\n",
    "        else:\n",
    "            print('핸드폰을 켜주세요')"
   ]
  },
  {
   "cell_type": "code",
   "execution_count": 33,
   "id": "ca01510a-acc5-4b5b-97b1-7e81620dc0ac",
   "metadata": {},
   "outputs": [],
   "source": [
    "my_phone = Phone()\n",
    "your_phone = Phone()"
   ]
  },
  {
   "cell_type": "code",
   "execution_count": 34,
   "id": "0b308c8b-b0b7-4aa0-9bc0-835c3c25eca6",
   "metadata": {},
   "outputs": [
    {
     "name": "stdout",
     "output_type": "stream",
     "text": [
      "010-1234-1234\n"
     ]
    }
   ],
   "source": [
    "my_phone.number = '010-1234-1234' #정보를 바꿀 수 있음\n",
    "print(my_phone.number)"
   ]
  },
  {
   "cell_type": "code",
   "execution_count": 35,
   "id": "107ac976-5ab6-4364-9d6b-6fd3670ea5ab",
   "metadata": {},
   "outputs": [
    {
     "data": {
      "text/plain": [
       "'010-0000-0000'"
      ]
     },
     "execution_count": 35,
     "metadata": {},
     "output_type": "execute_result"
    }
   ],
   "source": [
    "your_phone.number"
   ]
  },
  {
   "cell_type": "code",
   "execution_count": 36,
   "id": "ee923b1c-e593-4fb8-b0a1-112ab7b78883",
   "metadata": {},
   "outputs": [
    {
     "data": {
      "text/plain": [
       "False"
      ]
     },
     "execution_count": 36,
     "metadata": {},
     "output_type": "execute_result"
    }
   ],
   "source": [
    "my_phone.power"
   ]
  },
  {
   "cell_type": "code",
   "execution_count": 37,
   "id": "3ce0009a-d324-40b4-a5a9-fa9a1304d9bc",
   "metadata": {},
   "outputs": [],
   "source": [
    "my_phone.on()"
   ]
  },
  {
   "cell_type": "code",
   "execution_count": 38,
   "id": "3011aebc-dd62-454d-86d3-4b9c0437ddec",
   "metadata": {},
   "outputs": [
    {
     "data": {
      "text/plain": [
       "True"
      ]
     },
     "execution_count": 38,
     "metadata": {},
     "output_type": "execute_result"
    }
   ],
   "source": [
    "my_phone.power"
   ]
  },
  {
   "cell_type": "code",
   "execution_count": 39,
   "id": "1c3d0d29-8c23-437e-92ca-a946ee58a0cd",
   "metadata": {},
   "outputs": [
    {
     "name": "stdout",
     "output_type": "stream",
     "text": [
      "내 번호는 010-1234-1234 입니다. \n",
      "112번호로 전화거는중\n"
     ]
    }
   ],
   "source": [
    "my_phone.call('112')"
   ]
  },
  {
   "cell_type": "code",
   "execution_count": 196,
   "id": "08a8b6ec-51ee-4c5f-94b5-fc29e771c5e3",
   "metadata": {},
   "outputs": [],
   "source": [
    "# 연습 \n",
    "class MyList:\n",
    "    data = []\n",
    "\n",
    "    def append(self, item):\n",
    "        self. data = self.data + [item] # 비어있는 리스트에 [item]을 concetenate\n",
    "    # data의 제일 마지막 요소를 삭제하고, 삭제된 요소를 리턴\n",
    "    def pop(self):\n",
    "        num = self.data[-1]\n",
    "        self.data = self.data[:-1]\n",
    "        return num"
   ]
  },
  {
   "cell_type": "code",
   "execution_count": 197,
   "id": "1d5cd609-45b4-4233-9017-df48ad0aa8c3",
   "metadata": {},
   "outputs": [
    {
     "name": "stdout",
     "output_type": "stream",
     "text": [
      "[]\n",
      "[5, 1, 10]\n",
      "10\n",
      "[5, 1]\n"
     ]
    }
   ],
   "source": [
    "list_a = MyList()\n",
    "print(list_a.data)\n",
    "\n",
    "list_a.append(5)\n",
    "list_a.append(1)\n",
    "list_a.append(10)\n",
    "\n",
    "print(list_a.data)\n",
    "\n",
    "print(list_a.pop())\n",
    "print(list_a.data)"
   ]
  },
  {
   "cell_type": "code",
   "execution_count": 198,
   "id": "f9db844f-6edc-4e19-94f1-06ce43cd2a1b",
   "metadata": {},
   "outputs": [
    {
     "name": "stdout",
     "output_type": "stream",
     "text": [
      "[]\n",
      "[2, 4, 6]\n",
      "[5, 1]\n"
     ]
    }
   ],
   "source": [
    "list_b = MyList()\n",
    "print(list_b.data)\n",
    "list_b.append(2)\n",
    "list_b.append(4)\n",
    "list_b.append(6)\n",
    "print(list_b.data)  \n",
    "print(list_a.data)\n",
    "# list_a와 list_b는 서로 다른 공간에 있는 데이터를 가지게 됨"
   ]
  },
  {
   "cell_type": "code",
   "execution_count": 58,
   "id": "8b3526fb-8ab4-4a40-b6e8-14c3ea88062f",
   "metadata": {},
   "outputs": [
    {
     "data": {
      "text/plain": [
       "'kim'"
      ]
     },
     "execution_count": 58,
     "metadata": {},
     "output_type": "execute_result"
    }
   ],
   "source": [
    "# 정리\n",
    "class Person: # => 클래스 정의 (선언) : 클래스 객체  생성\n",
    "    name = 'kim' # => 속성(attribute): 변수/값/데이터\n",
    "\n",
    "    def hello(self): # => 행동(method): 함수/기능\n",
    "        return self.name\n",
    "p= Person() #인스턴스화/ 인스턴스 객체를 생성\n",
    "p.name # 속성을 호출 \n",
    "p.hello() # 메소드를 실행"
   ]
  },
  {
   "cell_type": "code",
   "execution_count": null,
   "id": "03e3459a-c75f-4feb-9298-c1946118034a",
   "metadata": {},
   "outputs": [],
   "source": [
    "# 연습 \n",
    "# 처음 선풍기를 키기 직전 속성을 표시해봐야지!\n",
    "class Fan:\n",
    "    power = False\n",
    "    strength = 'low'\n",
    "    timer = '3 hours'\n",
    "    direction = 'fixed'\n",
    "    \n",
    "    def onoff(self):\n",
    "        if self.power == False:\n",
    "            self.power = True\n",
    "        else:\n",
    "            self.power = False:\n",
    "        return self.power \n",
    "    def ChangeStrength(self, choose):\n",
    "        self.strength = choose\n",
    "        return self.strength\n",
    "    def ChangeDir(self, choose):\n",
    "        if self.direction == fixed:\n",
    "            self.direction = 'moving'\n",
    "        else:\n",
    "            self.direction = 'fixed'\n",
    "            return self.direction\n",
    "        return self.direction\n",
    "        def TimeSet(self, time):\n",
    "            self.timer = time\n",
    "            return self.TimeSet\n",
    "\n",
    "    \n",
    "f = Fan()\n"
   ]
  },
  {
   "cell_type": "code",
   "execution_count": 61,
   "id": "a29db259-9a31-4134-befe-16957b91bd65",
   "metadata": {},
   "outputs": [
    {
     "name": "stdout",
     "output_type": "stream",
     "text": [
      "현재 상태는 약풍\n",
      "\n",
      "현재 상태는 중풍\n",
      "\n",
      "현재 상태는 강풍\n",
      "\n",
      "현재 상태는 꺼짐\n",
      "\n",
      "현재 상태는 약풍\n",
      "\n",
      "현재 상태는 중풍\n",
      "\n",
      "현재 상태는 강풍\n",
      "\n",
      "현재 상태는 꺼짐\n",
      "\n",
      "현재 상태는 약풍\n",
      "\n",
      "현재 상태는 중풍\n",
      "\n",
      "현재 상태는 강풍\n",
      "\n",
      "현재 상태는 꺼짐\n",
      "\n",
      "현재 상태는 약풍\n",
      "\n"
     ]
    }
   ],
   "source": [
    "# 선생님\n",
    "\n",
    "class Fan:\n",
    "    power = ['꺼짐', '약풍', '중풍', '강풍']\n",
    "    status = 0   #0 => 1 => 2 => 3 => 0\n",
    "\n",
    "    def button(self):\n",
    "        # self.status += 1\n",
    "        self.status = (self.status+1) % 4\n",
    "        print(f'현재 상태는 {self.power[self.status]}')\n",
    "        print()\n",
    "        # return None\n",
    "\n",
    "f = Fan()\n",
    "\n",
    "f.button()\n",
    "f.button()\n",
    "f.button()\n",
    "f.button()\n",
    "f.button()\n",
    "f.button()\n",
    "f.button()\n",
    "f.button()\n",
    "f.button()\n",
    "f.button()\n",
    "f.button()\n",
    "f.button()\n",
    "f.button()\n"
   ]
  },
  {
   "cell_type": "code",
   "execution_count": 204,
   "id": "4f7142a6-2ab9-4979-b57a-23aa7f34abbd",
   "metadata": {},
   "outputs": [],
   "source": [
    "class Person(): # 상속을 하지 않게 되면 () 생략 가능 \n",
    "    name = ''\n",
    "\n",
    "    def hello(self):\n",
    "        print(f'나의 이름은 {self.name} 입니다.')"
   ]
  },
  {
   "cell_type": "code",
   "execution_count": 205,
   "id": "f75ee293-c654-408d-997a-58fc04f9a157",
   "metadata": {},
   "outputs": [
    {
     "name": "stdout",
     "output_type": "stream",
     "text": [
      "\n",
      "나의 이름은  입니다.\n",
      "나의 이름은 kim 입니다.\n"
     ]
    }
   ],
   "source": [
    "p = Person()\n",
    "print(p.name)\n",
    "p.hello()\n",
    "p.name = 'kim'\n",
    "p.hello()"
   ]
  },
  {
   "cell_type": "code",
   "execution_count": null,
   "id": "17433278-58a8-4d6c-82b0-32fe29f91b19",
   "metadata": {},
   "outputs": [],
   "source": [
    "# self : 인스턴스 객체 자기자신 (다른 언어에서는 this)\n",
    "# - 특별한 상황을 제외하고는 무조건 메소드의 첫번째 인자로 설정한다. \n",
    "# - 인스턴스 메소드를 실행할 때 자동으로 첫번째 인자에 인스턴스를 할당한다.\n"
   ]
  },
  {
   "cell_type": "code",
   "execution_count": 206,
   "id": "86ece86e-1cd1-41dd-a0cf-b6829322730f",
   "metadata": {},
   "outputs": [
    {
     "name": "stdout",
     "output_type": "stream",
     "text": [
      "나의 이름은  입니다.\n",
      "나의 이름은  입니다.\n"
     ]
    }
   ],
   "source": [
    "p1 = Person()\n",
    "# self 매개변수 자리에 p1이라고 하는 인스턴스 객체가 인자로 전달 \n",
    "Person.hello(p1) # 클래스에서 hello 라는 메소드를 선택해서 p1을 인자로 넣은 것 \n",
    "# p1인스턴스 객체에서부터 메소드가 실행되기 때문에 self = p1\n",
    "p1.hello() # 위와 달리 인자로 p1을 넣는 것을 생략함"
   ]
  },
  {
   "cell_type": "markdown",
   "id": "83a1a497-a1f9-4cf5-a961-b8fb48eb8bc1",
   "metadata": {},
   "source": [
    "## 생성자, 소멸자\n",
    "\n",
    "```python\n",
    "def __init__(self):\n",
    "    pass\n",
    "    \n",
    "def __del__(self):\n",
    "    pass\n",
    "```\n"
   ]
  },
  {
   "cell_type": "code",
   "execution_count": 189,
   "id": "7b09c3c1-2ffa-4d8f-b733-19ac21816f02",
   "metadata": {},
   "outputs": [],
   "source": [
    "class Person:\n",
    "    name = 'noname'\n",
    "    def __init__(self, name = '익명'): #인스턴스화를 할 떄\n",
    "        self.name = name\n",
    "        print('생성됨')\n",
    "        \n",
    "    def __del__(self): #소멸될 때 \n",
    "        print('소멸됨') \n",
    "        \n"
   ]
  },
  {
   "cell_type": "code",
   "execution_count": 191,
   "id": "f5b48746-2926-46c2-97f5-b437248de7be",
   "metadata": {},
   "outputs": [
    {
     "name": "stdout",
     "output_type": "stream",
     "text": [
      "생성됨\n",
      "소멸됨\n",
      "minju\n",
      "소멸됨\n"
     ]
    }
   ],
   "source": [
    "p1 = Person()  # => Person.__init__(p1, )\n",
    "p1.name = 'minju'\n",
    "print(p1.name)\n",
    "# del p1 # => p1과 Person 의 연결이 사라짐 "
   ]
  },
  {
   "cell_type": "code",
   "execution_count": 80,
   "id": "fec1c3cb-a5a0-4a1b-9ced-8b125cd33fbe",
   "metadata": {},
   "outputs": [
    {
     "name": "stdout",
     "output_type": "stream",
     "text": [
      "생성됨\n",
      "kim\n"
     ]
    }
   ],
   "source": [
    "p2 = Person('kim')  #=> Person.__init__(p2, 'kim')\n",
    "# 클래스 인자 self 에 p2가 들어가고 name 에 'kim'이 들어감 \n",
    "print(p2.name)     "
   ]
  },
  {
   "cell_type": "code",
   "execution_count": 99,
   "id": "90e7ca7d-0d9a-4c9d-8c15-ead80a0b3a48",
   "metadata": {},
   "outputs": [],
   "source": [
    "# Circle 클래스\n",
    "class Circle:\n",
    "    pi = 3.14\n",
    "\n",
    "    def __init__(self, r, x, y):\n",
    "        self.r = r\n",
    "        self.x = x\n",
    "        self.y = y\n",
    "    def area(self):\n",
    "        return self.pi * self.r**2\n",
    "    def move(self,x, y): \n",
    "        self.x = x\n",
    "        self.y = y\n",
    "        print(f'원의 중심이 {x},{y} 로 이동했습니다.')\n",
    "    def center(self):\n",
    "        #원의 중심을 (x,y) 로 반환 \n",
    "        return (self.x, self.y)"
   ]
  },
  {
   "cell_type": "code",
   "execution_count": 100,
   "id": "3b02ec51-eafc-44fa-81cc-f53156ccea21",
   "metadata": {},
   "outputs": [
    {
     "name": "stdout",
     "output_type": "stream",
     "text": [
      "0\n",
      "3\n",
      "28.26\n",
      "원의 중심이 -3,-3 로 이동했습니다.\n",
      "(-3, -3)\n",
      "0\n",
      "10\n",
      "314.0\n",
      "원의 중심이 10,10 로 이동했습니다.\n",
      "None\n",
      "(10, 10)\n"
     ]
    }
   ],
   "source": [
    "c1 = Circle(3, 0, 0)  #self에는 자동으로 c1이 들어가기 때문에 우리가 넣을 필요가 없음\n",
    "print(c1.x)\n",
    "print(c1.r)\n",
    "print(c1.area())\n",
    "c1.move(-3, -3)\n",
    "print(c1.center())\n",
    "\n",
    "c2 = Circle(10)  \n",
    "print(c2.x)\n",
    "print(c2.r)\n",
    "print(c2.area())\n",
    "print(c2.move(10, 10))\n",
    "print(c2.center())"
   ]
  },
  {
   "cell_type": "markdown",
   "id": "7390383b-c6f0-4b26-8ae9-c70c64a03aa8",
   "metadata": {},
   "source": [
    "### 클래스변수\n",
    "- 클래스 선언 블록 최상단에 위치\n",
    "\n",
    "\n",
    "### 인스턴스변수\n",
    "- 인스턴스 내부에서 생성한 변수 (self.variable= ) \n",
    "\n",
    "```python\n",
    "class TestClass:\n",
    "    class_variable = '클래스변수'\n",
    "\n",
    "    def __init__(self, arg):\n",
    "        self.instance_variable = '인스턴스변수'\n",
    "\n",
    "    def status(self):\n",
    "        return self.instance_variable\n",
    "```"
   ]
  },
  {
   "cell_type": "code",
   "execution_count": 207,
   "id": "3ce7a437-286e-47a5-ab82-4d01b2c81f65",
   "metadata": {},
   "outputs": [],
   "source": [
    "class Person: \n",
    "    name = '홍길동'\n",
    "    phone = '010-1234-1234'\n",
    "    \n",
    "\n",
    "    def __init__(self, name):\n",
    "        self.name = name"
   ]
  },
  {
   "cell_type": "code",
   "execution_count": 209,
   "id": "fdaf40c9-813c-4a3a-b1de-ca491601a6fc",
   "metadata": {},
   "outputs": [
    {
     "name": "stdout",
     "output_type": "stream",
     "text": [
      "강민주\n",
      "홍길동\n",
      "010-1234-1234\n"
     ]
    }
   ],
   "source": [
    "p = Person('강민주')\n",
    "print(p.name)\n",
    "print(Person.name) #이것은 클래스 변수를 호출한 것 \n",
    "print(p.phone)  # class 변수에 phone 이 있으므로 인스턴스변수에 phone 이 없었지만 이 때는 class 변수에서 가져옴\n",
    "# print(p.location) #하지만 location 은 아무곳에도 없음 \n"
   ]
  },
  {
   "cell_type": "markdown",
   "id": "53a2ded0-bf97-4ff6-b389-23c62883e8b5",
   "metadata": {},
   "source": [
    "### 클래스메소드, 인스턴스메소드, 스태틱메소드"
   ]
  },
  {
   "cell_type": "markdown",
   "id": "600532d2-b50d-4f38-a16a-067bfffd8207",
   "metadata": {},
   "source": [
    "```python\n",
    "class MyClass:\n",
    "    def instance_method(self):\n",
    "        pass\n",
    "    @classmethod\n",
    "    def class_method(cls):\n",
    "        pass\n",
    "    @staticmethod\n",
    "    def static_method():\n",
    "        pass \n",
    "```"
   ]
  },
  {
   "cell_type": "code",
   "execution_count": 110,
   "id": "30d00e80-d770-4cf3-a04d-52424ed35ddb",
   "metadata": {},
   "outputs": [],
   "source": [
    "class MyClass:\n",
    "    def instance_method(self):\n",
    "        return self \n",
    "    @classmethod\n",
    "    def class_method(cls):\n",
    "        return cls\n",
    "    @staticmethod\n",
    "    def static_method():\n",
    "        return 'hello'\n",
    "    "
   ]
  },
  {
   "cell_type": "code",
   "execution_count": 116,
   "id": "07e4facf-990a-4708-85ce-4d05e31893f1",
   "metadata": {},
   "outputs": [
    {
     "name": "stdout",
     "output_type": "stream",
     "text": [
      "<__main__.MyClass object at 0x1051d8c10>\n",
      "<class '__main__.MyClass'>\n",
      "<class '__main__.MyClass'>\n",
      "hello\n"
     ]
    }
   ],
   "source": [
    "c1 = MyClass()\n",
    "\n",
    "print(c1. instance_method())\n",
    "print(MyClass.class_method())\n",
    "print(c1.class_method()) #cls 인자에는 c1이 자동으로 들어감 \n",
    "print(c1.static_method())\n",
    "\n",
    "#인스턴스 변수를 수정해야할 때는 instance method, 클래스 변수를 수정해야할 때는 class method 사용"
   ]
  },
  {
   "cell_type": "code",
   "execution_count": 210,
   "id": "e966eda5-ea8c-4393-b827-6eeffdc90198",
   "metadata": {},
   "outputs": [],
   "source": [
    "class Puppy:\n",
    "    num_of_puppy = 0  # 모든 인스턴스에서 접근 가능\n",
    "\n",
    "    def __init__(self, name): # 어느 인스턴스에 인스턴스화가 됐을 때 실행됨.\n",
    "        self.name = name\n",
    "        Puppy.num_of_puppy += 1\n",
    "    @classmethod\n",
    "    def get_status(cls):\n",
    "        return f'현재 강아지는 {cls.num_of_puppy}마리 입니다.'\n",
    "    @staticmethod # 인스턴스 변수와 클래스 변수를 이용할 필요가 없을 때 사용\n",
    "    def bark(string='멍멍'):\n",
    "        return string \n",
    "\n",
    "# 인스턴스메소드에서 클래스변수를 수정할 수 없다는 것이 아님. 보통 서로 침범하지 않도록 작성함 "
   ]
  },
  {
   "cell_type": "code",
   "execution_count": 211,
   "id": "8d585498-6ea3-4392-92c7-67f53558e619",
   "metadata": {},
   "outputs": [
    {
     "name": "stdout",
     "output_type": "stream",
     "text": [
      "3\n",
      "3\n",
      "3\n",
      "현재 강아지는 3마리 입니다.\n",
      "현재 강아지는 3마리 입니다.\n",
      "멍멍\n",
      "그르릉\n"
     ]
    }
   ],
   "source": [
    "p1 = Puppy('또또')\n",
    "p2 = Puppy('몽이')\n",
    "p3 = Puppy('흰둥이')\n",
    "\n",
    "print(p1.num_of_puppy)\n",
    "print(p2.num_of_puppy)\n",
    "print(Puppy.num_of_puppy)\n",
    "print(Puppy.get_status())\n",
    "\n",
    "print(p1.bark())\n",
    "print(p1.bark('그르릉'))"
   ]
  },
  {
   "cell_type": "markdown",
   "id": "f108c1f9-d9c3-4dc9-94e8-edf4250029d3",
   "metadata": {},
   "source": [
    "## 클래스 총정리"
   ]
  },
  {
   "cell_type": "markdown",
   "id": "a3ae1ef0-2f19-4191-9abb-fbfbd8878c57",
   "metadata": {},
   "source": [
    "## 정리 \n",
    "```\n",
    "class \n",
    "    - attribute(varible, data)\n",
    "        - instance_variable\n",
    "        - class_variable\n",
    "    - method \n",
    "        - instance_method\n",
    "        - class_method\n",
    "        - static_method\n",
    "```"
   ]
  },
  {
   "cell_type": "markdown",
   "id": "805716ae-e264-49e7-b694-bb8e8b8970ff",
   "metadata": {},
   "source": [
    "## 상속"
   ]
  },
  {
   "cell_type": "code",
   "execution_count": 136,
   "id": "73f45f9e-8897-497f-b4bd-d58fc3daa191",
   "metadata": {},
   "outputs": [],
   "source": [
    "class Person:\n",
    "\n",
    "    def __init__(self, name):\n",
    "        self.name = name\n",
    "\n",
    "    def greeting(self):\n",
    "        print(f'안녕하세요 {self.name}입니다.')\n",
    "        \n",
    "        "
   ]
  },
  {
   "cell_type": "code",
   "execution_count": 137,
   "id": "b8e2c63e-a980-4830-ac07-13140b205103",
   "metadata": {},
   "outputs": [
    {
     "name": "stdout",
     "output_type": "stream",
     "text": [
      "안녕하세요 홍길동입니다.\n"
     ]
    }
   ],
   "source": [
    "p1 = Person('홍길동')\n",
    "p2 = Person('이순신')\n",
    "\n",
    "p1.greeting()"
   ]
  },
  {
   "cell_type": "code",
   "execution_count": 142,
   "id": "9089949a-6468-44d2-b241-64d69c36a701",
   "metadata": {},
   "outputs": [],
   "source": [
    "class Student(Person):\n",
    "    # Person 이 Student 에 상속됨. \n",
    "    # def __init__(self, name):\n",
    "    #     self.name = name\n",
    "\n",
    "    # def greeting(self):\n",
    "    #     print(f'안녕하세요 {self.name}입니다.')\n",
    "    \n",
    "    def __init__(self, name, student_id):\n",
    "        self.name = name\n",
    "        self.student_id = student_id\n",
    "        "
   ]
  },
  {
   "cell_type": "code",
   "execution_count": 144,
   "id": "5e228725-2e97-406d-aae1-ad9991ef64ed",
   "metadata": {},
   "outputs": [
    {
     "name": "stdout",
     "output_type": "stream",
     "text": [
      "안녕하세요 kim입니다.\n",
      "12345\n"
     ]
    }
   ],
   "source": [
    "s1 = Student('kim', 12345)\n",
    "s2 = Student('park', 98765)\n",
    "s1.greeting()\n",
    "print(s1.student_id)"
   ]
  },
  {
   "cell_type": "code",
   "execution_count": 145,
   "id": "4dc40ce5-f0b4-4f7d-b502-750b7b23893f",
   "metadata": {},
   "outputs": [],
   "source": [
    "class Solider(Person):\n",
    "\n",
    "    def greeting(self):\n",
    "        return f'충성! {self.name}입니다.' # greeting 함수가 새로 덮어씌워짐"
   ]
  },
  {
   "cell_type": "code",
   "execution_count": 146,
   "id": "110e670b-d175-47de-b735-548773d9c489",
   "metadata": {},
   "outputs": [
    {
     "data": {
      "text/plain": [
       "'충성! 국방이입니다.'"
      ]
     },
     "execution_count": 146,
     "metadata": {},
     "output_type": "execute_result"
    }
   ],
   "source": [
    "s1 = Solider('국방이')\n",
    "s1.greeting()"
   ]
  },
  {
   "cell_type": "code",
   "execution_count": 182,
   "id": "735704e6-b280-48c0-84aa-4342b85e4b0b",
   "metadata": {},
   "outputs": [],
   "source": [
    "class Person:\n",
    "    def __init__(self, email, phone, location, name):\n",
    "        self.email = email\n",
    "        self.phone = phone\n",
    "        self.location = location\n",
    "        self.name = name\n",
    "        \n",
    "class Student(Person):\n",
    "    def __init__(self, email, phone, location, name, student_id):\n",
    "        self.email = email\n",
    "        self.phone = phone\n",
    "        self.location = location\n",
    "        self.name = name\n",
    "        self.student_id = student_id\n",
    "#좀 비효율적이기 때문에 솔져로 다른 방식 시도\n",
    "\n",
    "class Soldier(Person):\n",
    "    def __init__(self, email, phone, location, name, solider_id):\n",
    "        #이__init__도 굳이 안써도 됨.\n",
    "        # super() => 부모클래스 (Person) \n",
    "        # super()은 Person(부모클래스)을 상속한 상태에서 사용이 가능한 것 !\n",
    "        super(). __init__(email, phone, location, name)\n",
    "        self.solider_id = solider_id\n",
    "        #Person을 상속받고 싶은데 살짝 수정을 하고 싶기 때문에 바로 이어서 수정할 부분 적음. \n",
    "        "
   ]
  },
  {
   "cell_type": "code",
   "execution_count": 183,
   "id": "a8932a3a-2bd6-4c66-86c1-f0eaec907557",
   "metadata": {},
   "outputs": [
    {
     "name": "stdout",
     "output_type": "stream",
     "text": [
      "kim\n",
      "12345\n"
     ]
    }
   ],
   "source": [
    "s1 = Soldier('email@email.com', '010-0000-0000', 'seoul', 'kim', '12345')\n",
    "print(s1.name)\n",
    "print(s1.solider_id)"
   ]
  },
  {
   "cell_type": "code",
   "execution_count": 184,
   "id": "4e148115-a1c9-4dc8-85d7-7a9cfe1e3483",
   "metadata": {},
   "outputs": [],
   "source": [
    "class Person:\n",
    "    def __init__(self, name):\n",
    "        self.name = name\n",
    "\n",
    "    def breath(self):\n",
    "        print('후하')\n"
   ]
  },
  {
   "cell_type": "code",
   "execution_count": 185,
   "id": "51dedc6a-ce19-4dfe-b305-15ea6f2c291e",
   "metadata": {},
   "outputs": [],
   "source": [
    "class Mom(Person):\n",
    "    gene = 'xx'\n",
    "\n",
    "    def swim(self):\n",
    "        print('어푸어푸')\n",
    "        "
   ]
  },
  {
   "cell_type": "code",
   "execution_count": 186,
   "id": "80a1af47-e992-4b6f-89ce-6cc8131446fa",
   "metadata": {},
   "outputs": [],
   "source": [
    "class Dad(Person):\n",
    "    gene = 'xy'\n",
    "\n",
    "    def run(self):\n",
    "        print('다다다')\n"
   ]
  },
  {
   "cell_type": "code",
   "execution_count": 187,
   "id": "d687ed96-f5b2-4155-a46e-9e9fad97492e",
   "metadata": {},
   "outputs": [],
   "source": [
    "class Baby(Mom, Dad):\n",
    "    pass\n"
   ]
  },
  {
   "cell_type": "code",
   "execution_count": 188,
   "id": "93a637e7-1da3-4196-8651-832f001c7409",
   "metadata": {},
   "outputs": [
    {
     "name": "stdout",
     "output_type": "stream",
     "text": [
      "후하\n",
      "어푸어푸\n",
      "다다다\n",
      "xx\n"
     ]
    }
   ],
   "source": [
    "b = Baby('금쪽이')\n",
    "b.breath()\n",
    "b.swim()\n",
    "b.run()\n",
    "#다중 상속을 한 경우 먼저 상속받은 데이터/메소드가 우선\n",
    "print(b.gene)"
   ]
  },
  {
   "cell_type": "markdown",
   "id": "d67e5d1d-9047-43e8-bdf8-b33136133dc3",
   "metadata": {},
   "source": [
    "### 연습"
   ]
  },
  {
   "cell_type": "code",
   "execution_count": null,
   "id": "50b103d9-249c-4570-8caa-3df87cc7db5f",
   "metadata": {},
   "outputs": [],
   "source": [
    "class Pocketmon:\n",
    "    def __init__ (self):\n",
    "        self.name = ''\n",
    "        self.hp = 0\n",
    "        self.exp = 0\n",
    "        self.lv = 1\n",
    "    \n",
    "    def rest(self):\n",
    "        print(f'{self.name}이 휴식을 취하고 있습니다')\n",
    "\n",
    "class dog:\n",
    "    def __init__(self):\n",
    "        super().__init__()\n",
    "        self.name = 'mong'\n",
    "        "
   ]
  },
  {
   "cell_type": "code",
   "execution_count": 192,
   "id": "c1cd48fa-864b-4b1c-b944-82a02702701b",
   "metadata": {},
   "outputs": [
    {
     "ename": "SyntaxError",
     "evalue": "incomplete input (2448677545.py, line 1)",
     "output_type": "error",
     "traceback": [
      "\u001b[0;36m  Cell \u001b[0;32mIn[192], line 1\u001b[0;36m\u001b[0m\n\u001b[0;31m    class Person():\u001b[0m\n\u001b[0m                   ^\u001b[0m\n\u001b[0;31mSyntaxError\u001b[0m\u001b[0;31m:\u001b[0m incomplete input\n"
     ]
    }
   ],
   "source": [
    "class Person():\n",
    "\n",
    "    "
   ]
  },
  {
   "cell_type": "markdown",
   "id": "707edea7-6d43-4ad6-a1ac-af4307df4968",
   "metadata": {},
   "source": [
    "## 선생님 \n",
    "\n",
    "포켓몬 공통 특징을 클래스로 따로\n",
    "물포켓몬, 불포켓몬 으로 나눠서 클래스로 나눔\n",
    "\n",
    "포켓몬, 물포켓몬 / 포켓몬, 불포켓몬 조합으로 상속함 \n",
    "\n",
    "인스턴스화할 때 이름을 지정해줌. "
   ]
  },
  {
   "cell_type": "code",
   "execution_count": null,
   "id": "6af5a90f-cb4b-490d-8060-17cfc2878a39",
   "metadata": {},
   "outputs": [],
   "source": []
  },
  {
   "cell_type": "code",
   "execution_count": null,
   "id": "073dddb7-c81d-4388-949e-1f8ac0bff1d5",
   "metadata": {},
   "outputs": [],
   "source": []
  },
  {
   "cell_type": "code",
   "execution_count": null,
   "id": "2682d2af-2433-4e49-b657-62811064a38c",
   "metadata": {},
   "outputs": [],
   "source": []
  }
 ],
 "metadata": {
  "kernelspec": {
   "display_name": "Python 3 (ipykernel)",
   "language": "python",
   "name": "python3"
  },
  "language_info": {
   "codemirror_mode": {
    "name": "ipython",
    "version": 3
   },
   "file_extension": ".py",
   "mimetype": "text/x-python",
   "name": "python",
   "nbconvert_exporter": "python",
   "pygments_lexer": "ipython3",
   "version": "3.11.4"
  }
 },
 "nbformat": 4,
 "nbformat_minor": 5
}
