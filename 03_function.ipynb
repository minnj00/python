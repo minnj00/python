{
 "cells": [
  {
   "cell_type": "markdown",
   "id": "46235dce-0540-41f6-82ca-bc01a7207c90",
   "metadata": {},
   "source": [
    "# 함수(function)"
   ]
  },
  {
   "cell_type": "code",
   "execution_count": 2,
   "id": "ff8ab69a-6c1a-46c1-830c-b43e64bfbcfc",
   "metadata": {},
   "outputs": [
    {
     "name": "stdout",
     "output_type": "stream",
     "text": [
      "직사각형의 둘레는 60, 면적은 200입니다.\n",
      "직사각형의 둘레는 260, 면적은 4000입니다.\n"
     ]
    }
   ],
   "source": [
    "height = 10\n",
    "width = 20\n",
    "\n",
    "height2 = 50\n",
    "width2 = 80\n",
    "\n",
    "# 직사각형의 둘레는 ***, 면적은 *** 입니다. \n",
    "\n",
    "area = height * width\n",
    "perimeter = (height + width) * 2\n",
    "print(f'직사각형의 둘레는 {perimeter}, 면적은 {area}입니다.')\n",
    "\n",
    "#이 경우는 두 번째 사각형의 정보가 나왔을 때 또 새로 코드를 작성해야 함.\n",
    "\n",
    "area = height2 * width2\n",
    "perimeter = (height2 + width2) * 2\n",
    "print(f'직사각형의 둘레는 {perimeter}, 면적은 {area}입니다.')\n"
   ]
  },
  {
   "cell_type": "markdown",
   "id": "07c3bf26-b814-49ea-911c-335d8db1e99a",
   "metadata": {},
   "source": [
    "## 함수의 선언과 호출\n",
    "\n",
    "- 함수의 선언\n",
    "```python\n",
    "def func_name(parameter1, parameter2...):\n",
    "    code1\n",
    "    code2\n",
    "    ...\n",
    "    return value\n",
    "```\n",
    "- 함수의 호출(실행)\n",
    "```\n",
    "func_name(parameter1, parameter2,...)\n",
    "```\n",
    "\n",
    "괄호가 있던 것 모두 함수들 \n",
    "print('하나', '둘', '셋')\n",
    "\n"
   ]
  },
  {
   "cell_type": "code",
   "execution_count": 4,
   "id": "54ceb408-934f-4c00-9205-9ec432a69762",
   "metadata": {},
   "outputs": [],
   "source": [
    "def rectangle(height, width):\n",
    "    area = height * width\n",
    "    perimeter = (height + width) * 2\n",
    "    print(f'직사각형의 둘레는 {perimeter}, 면적은 {area}입니다.')"
   ]
  },
  {
   "cell_type": "code",
   "execution_count": 5,
   "id": "c4e19b13-173f-45ef-8dab-9e383a4f4cc7",
   "metadata": {},
   "outputs": [
    {
     "name": "stdout",
     "output_type": "stream",
     "text": [
      "직사각형의 둘레는 60, 면적은 200입니다.\n"
     ]
    }
   ],
   "source": [
    "rectangle(10,20)"
   ]
  },
  {
   "cell_type": "code",
   "execution_count": 6,
   "id": "19bf3874-c311-4f84-870d-a3ca108f7f2c",
   "metadata": {},
   "outputs": [
    {
     "data": {
      "text/plain": [
       "['ArithmeticError',\n",
       " 'AssertionError',\n",
       " 'AttributeError',\n",
       " 'BaseException',\n",
       " 'BaseExceptionGroup',\n",
       " 'BlockingIOError',\n",
       " 'BrokenPipeError',\n",
       " 'BufferError',\n",
       " 'BytesWarning',\n",
       " 'ChildProcessError',\n",
       " 'ConnectionAbortedError',\n",
       " 'ConnectionError',\n",
       " 'ConnectionRefusedError',\n",
       " 'ConnectionResetError',\n",
       " 'DeprecationWarning',\n",
       " 'EOFError',\n",
       " 'Ellipsis',\n",
       " 'EncodingWarning',\n",
       " 'EnvironmentError',\n",
       " 'Exception',\n",
       " 'ExceptionGroup',\n",
       " 'False',\n",
       " 'FileExistsError',\n",
       " 'FileNotFoundError',\n",
       " 'FloatingPointError',\n",
       " 'FutureWarning',\n",
       " 'GeneratorExit',\n",
       " 'IOError',\n",
       " 'ImportError',\n",
       " 'ImportWarning',\n",
       " 'IndentationError',\n",
       " 'IndexError',\n",
       " 'InterruptedError',\n",
       " 'IsADirectoryError',\n",
       " 'KeyError',\n",
       " 'KeyboardInterrupt',\n",
       " 'LookupError',\n",
       " 'MemoryError',\n",
       " 'ModuleNotFoundError',\n",
       " 'NameError',\n",
       " 'None',\n",
       " 'NotADirectoryError',\n",
       " 'NotImplemented',\n",
       " 'NotImplementedError',\n",
       " 'OSError',\n",
       " 'OverflowError',\n",
       " 'PendingDeprecationWarning',\n",
       " 'PermissionError',\n",
       " 'ProcessLookupError',\n",
       " 'RecursionError',\n",
       " 'ReferenceError',\n",
       " 'ResourceWarning',\n",
       " 'RuntimeError',\n",
       " 'RuntimeWarning',\n",
       " 'StopAsyncIteration',\n",
       " 'StopIteration',\n",
       " 'SyntaxError',\n",
       " 'SyntaxWarning',\n",
       " 'SystemError',\n",
       " 'SystemExit',\n",
       " 'TabError',\n",
       " 'TimeoutError',\n",
       " 'True',\n",
       " 'TypeError',\n",
       " 'UnboundLocalError',\n",
       " 'UnicodeDecodeError',\n",
       " 'UnicodeEncodeError',\n",
       " 'UnicodeError',\n",
       " 'UnicodeTranslateError',\n",
       " 'UnicodeWarning',\n",
       " 'UserWarning',\n",
       " 'ValueError',\n",
       " 'Warning',\n",
       " 'ZeroDivisionError',\n",
       " '__IPYTHON__',\n",
       " '__build_class__',\n",
       " '__debug__',\n",
       " '__doc__',\n",
       " '__import__',\n",
       " '__loader__',\n",
       " '__name__',\n",
       " '__package__',\n",
       " '__spec__',\n",
       " 'abs',\n",
       " 'aiter',\n",
       " 'all',\n",
       " 'anext',\n",
       " 'any',\n",
       " 'ascii',\n",
       " 'bin',\n",
       " 'bool',\n",
       " 'breakpoint',\n",
       " 'bytearray',\n",
       " 'bytes',\n",
       " 'callable',\n",
       " 'chr',\n",
       " 'classmethod',\n",
       " 'compile',\n",
       " 'complex',\n",
       " 'copyright',\n",
       " 'credits',\n",
       " 'delattr',\n",
       " 'dict',\n",
       " 'dir',\n",
       " 'display',\n",
       " 'divmod',\n",
       " 'enumerate',\n",
       " 'eval',\n",
       " 'exec',\n",
       " 'execfile',\n",
       " 'filter',\n",
       " 'float',\n",
       " 'format',\n",
       " 'frozenset',\n",
       " 'get_ipython',\n",
       " 'getattr',\n",
       " 'globals',\n",
       " 'hasattr',\n",
       " 'hash',\n",
       " 'help',\n",
       " 'hex',\n",
       " 'id',\n",
       " 'input',\n",
       " 'int',\n",
       " 'isinstance',\n",
       " 'issubclass',\n",
       " 'iter',\n",
       " 'len',\n",
       " 'license',\n",
       " 'list',\n",
       " 'locals',\n",
       " 'map',\n",
       " 'max',\n",
       " 'memoryview',\n",
       " 'min',\n",
       " 'next',\n",
       " 'object',\n",
       " 'oct',\n",
       " 'open',\n",
       " 'ord',\n",
       " 'pow',\n",
       " 'print',\n",
       " 'property',\n",
       " 'range',\n",
       " 'repr',\n",
       " 'reversed',\n",
       " 'round',\n",
       " 'runfile',\n",
       " 'set',\n",
       " 'setattr',\n",
       " 'slice',\n",
       " 'sorted',\n",
       " 'staticmethod',\n",
       " 'str',\n",
       " 'sum',\n",
       " 'super',\n",
       " 'tuple',\n",
       " 'type',\n",
       " 'vars',\n",
       " 'zip']"
      ]
     },
     "execution_count": 6,
     "metadata": {},
     "output_type": "execute_result"
    }
   ],
   "source": [
    "dir(__builtins__) #파이썬에서 미리 만들어진 함수"
   ]
  },
  {
   "cell_type": "code",
   "execution_count": 7,
   "id": "449fa04b-ebfd-4fde-b253-92505273444a",
   "metadata": {},
   "outputs": [
    {
     "data": {
      "text/plain": [
       "5"
      ]
     },
     "execution_count": 7,
     "metadata": {},
     "output_type": "execute_result"
    }
   ],
   "source": [
    "max(1, 5)"
   ]
  },
  {
   "cell_type": "code",
   "execution_count": 32,
   "id": "2ff169a9-bccc-42b7-bad8-a1799a06f4f5",
   "metadata": {},
   "outputs": [],
   "source": [
    "# 두 개의 정수를 받아서 큰 수를 출력 \n",
    "def my_max(num1, num2):\n",
    "    if num1 > num2:\n",
    "        # 1이 더 큰 경우\n",
    "        print(f'{num1}이 더 큽니다')\n",
    "    elif num1 < num2:\n",
    "        # 2가 더 큰 경우\n",
    "        print(f'{num2}이 더 큽니다')\n",
    "    else: \n",
    "        print('두 수가 같습니다.')\n",
    "    "
   ]
  },
  {
   "cell_type": "code",
   "execution_count": 19,
   "id": "dfcc6e1d-2b03-4f2c-b32a-de45362a79cf",
   "metadata": {},
   "outputs": [
    {
     "name": "stdout",
     "output_type": "stream",
     "text": [
      "4이 더 큽니다\n"
     ]
    }
   ],
   "source": [
    "my_max(1,4)"
   ]
  },
  {
   "cell_type": "code",
   "execution_count": 18,
   "id": "e772af1c-10bb-4dde-8bc9-dc8146330798",
   "metadata": {},
   "outputs": [
    {
     "name": "stdout",
     "output_type": "stream",
     "text": [
      "40239이 더 큽니다\n"
     ]
    }
   ],
   "source": [
    "my_max(40239,10492)"
   ]
  },
  {
   "cell_type": "code",
   "execution_count": 33,
   "id": "3e2afdab-23c0-48cd-a162-edc312c62e58",
   "metadata": {},
   "outputs": [
    {
     "name": "stdout",
     "output_type": "stream",
     "text": [
      "두 수가 같습니다.\n",
      "None\n"
     ]
    }
   ],
   "source": [
    "result = my_max(5,5)\n",
    "print(result)"
   ]
  },
  {
   "cell_type": "markdown",
   "id": "65b289c3-cec5-4051-8eb7-40603ce622c6",
   "metadata": {},
   "source": [
    "## 함수의 return\n",
    "\n",
    "- 함수가 return을 만나면 해당 값을 반환하고 함수를 종료\n",
    "- 만약 return이 없다면 None을 자동으로 반환\n",
    "- return은 오직 하나의 객체만 반환합니다.\n",
    "\n",
    "  + 변수에 할당이 가능함 "
   ]
  },
  {
   "cell_type": "code",
   "execution_count": 25,
   "id": "eb187b33-0542-42bf-8cec-5dcc89200bc5",
   "metadata": {},
   "outputs": [],
   "source": [
    "# 두 개의 정수를 받아서 큰 수를 반환\n",
    "def my_max2(num1, num2):\n",
    "\n",
    "   # return 'hello' -> return을 만났기 때문에 종료\n",
    "    \n",
    "    if num1 > num2:\n",
    "        # 1이 더 큰 경우\n",
    "        return num1\n",
    "    elif num1 < num2:\n",
    "        # 2가 더 큰 경우\n",
    "        return num2\n",
    "    else: \n",
    "        return 0 \n",
    "        \n",
    "    #return None\n",
    "\n",
    "# input이 있으면 output을 지정해 줘야 함\n",
    "# 함수의 목표는 output 값을 내는 것! \n",
    "# 바람직한 함수는 정의까지만 하고 그 다음 단계는 다음 코드로 하게끔 하는 것"
   ]
  },
  {
   "cell_type": "code",
   "execution_count": 26,
   "id": "0313d06a-75b0-4918-b9b0-fe71a6f4f144",
   "metadata": {},
   "outputs": [
    {
     "name": "stdout",
     "output_type": "stream",
     "text": [
      "hello가 더 큽니다.\n"
     ]
    }
   ],
   "source": [
    "result = my_max2(1, 2)\n",
    "print(f'{result}가 더 큽니다.') # 이 경우가 더 바람직함."
   ]
  },
  {
   "cell_type": "code",
   "execution_count": 30,
   "id": "8326bc2c-7d13-4af6-a5f6-7c4e5e4bc383",
   "metadata": {},
   "outputs": [],
   "source": [
    "def my_list_max(list_a, list_b):\n",
    "    if sum(list_a) > sum(list_b):\n",
    "        return list_a, 123\n",
    "    else: \n",
    "        return list_b, 123\n",
    "\n",
    "# return 은 하나만 가능하니 값을 뒤에 추가하면 튜플 하나로 반환함"
   ]
  },
  {
   "cell_type": "code",
   "execution_count": 31,
   "id": "d5d48f6b-4948-4017-a905-537a9e9dd740",
   "metadata": {},
   "outputs": [
    {
     "data": {
      "text/plain": [
       "([11, 12], 123)"
      ]
     },
     "execution_count": 31,
     "metadata": {},
     "output_type": "execute_result"
    }
   ],
   "source": [
    "my_list_max([10,11], [11,12]) "
   ]
  },
  {
   "cell_type": "markdown",
   "id": "90267857-4f7d-4471-9d34-e071076112f0",
   "metadata": {},
   "source": [
    "## 함수의 인수"
   ]
  },
  {
   "cell_type": "markdown",
   "id": "def1ef98-d937-49a2-9b3a-e368fa2bfe35",
   "metadata": {},
   "source": [
    "### 위치 인수\n",
    "기본적으로 함수는 인수의 위치로 판단합니다."
   ]
  },
  {
   "cell_type": "code",
   "execution_count": 3,
   "id": "a197cf65-1b98-446c-b204-0cc8231a794e",
   "metadata": {},
   "outputs": [
    {
     "name": "stdout",
     "output_type": "stream",
     "text": [
      "1570.0\n",
      "785.0\n"
     ]
    }
   ],
   "source": [
    "def cylinder(r, h):\n",
    "    return 3.14 * r**2 * h\n",
    "print(cylinder(10, 5))\n",
    "print(cylinder(5, 10))"
   ]
  },
  {
   "cell_type": "markdown",
   "id": "ea310cb5-af14-4d62-b059-b04393226714",
   "metadata": {},
   "source": [
    "### 기본값\n",
    "\n",
    "```\n",
    "def func(p1=v1):  # 변수에 하나를 할당시켜줌\n",
    "    return v1\n",
    "```"
   ]
  },
  {
   "cell_type": "code",
   "execution_count": 6,
   "id": "93a4916d-a4a4-4fef-9b3f-f11894072a8a",
   "metadata": {},
   "outputs": [
    {
     "name": "stdout",
     "output_type": "stream",
     "text": [
      "minju님 반갑습니다.\n"
     ]
    },
    {
     "ename": "TypeError",
     "evalue": "greeting() missing 1 required positional argument: 'name'",
     "output_type": "error",
     "traceback": [
      "\u001b[0;31m---------------------------------------------------------------------------\u001b[0m",
      "\u001b[0;31mTypeError\u001b[0m                                 Traceback (most recent call last)",
      "Cell \u001b[0;32mIn[6], line 4\u001b[0m\n\u001b[1;32m      2\u001b[0m     \u001b[38;5;28;01mreturn\u001b[39;00m \u001b[38;5;124mf\u001b[39m\u001b[38;5;124m'\u001b[39m\u001b[38;5;132;01m{\u001b[39;00mname\u001b[38;5;132;01m}\u001b[39;00m\u001b[38;5;124m님 반갑습니다.\u001b[39m\u001b[38;5;124m'\u001b[39m\n\u001b[1;32m      3\u001b[0m \u001b[38;5;28mprint\u001b[39m(greeting(\u001b[38;5;124m'\u001b[39m\u001b[38;5;124mminju\u001b[39m\u001b[38;5;124m'\u001b[39m))\n\u001b[0;32m----> 4\u001b[0m \u001b[38;5;28mprint\u001b[39m(\u001b[43mgreeting\u001b[49m\u001b[43m(\u001b[49m\u001b[43m)\u001b[49m)\n",
      "\u001b[0;31mTypeError\u001b[0m: greeting() missing 1 required positional argument: 'name'"
     ]
    }
   ],
   "source": [
    "def greeting(name):\n",
    "    return f'{name}님 반갑습니다.'\n",
    "print(greeting('minju'))\n",
    "print(greeting())"
   ]
  },
  {
   "cell_type": "code",
   "execution_count": 7,
   "id": "5a275c42-8109-49ba-a711-c45add1d86a0",
   "metadata": {},
   "outputs": [
    {
     "name": "stdout",
     "output_type": "stream",
     "text": [
      "minju님 반갑습니다.\n",
      "익명님 반갑습니다.\n"
     ]
    }
   ],
   "source": [
    "def greeting(name='익명'):\n",
    "    return f'{name}님 반갑습니다.'\n",
    "print(greeting('minju'))\n",
    "print(greeting())"
   ]
  },
  {
   "cell_type": "code",
   "execution_count": 8,
   "id": "8adcf43b-00d2-4909-a43c-cede4ac318df",
   "metadata": {},
   "outputs": [
    {
     "ename": "SyntaxError",
     "evalue": "non-default argument follows default argument (3790934314.py, line 1)",
     "output_type": "error",
     "traceback": [
      "\u001b[0;36m  Cell \u001b[0;32mIn[8], line 1\u001b[0;36m\u001b[0m\n\u001b[0;31m    def greeting(name='익명', age):\u001b[0m\n\u001b[0m                            ^\u001b[0m\n\u001b[0;31mSyntaxError\u001b[0m\u001b[0;31m:\u001b[0m non-default argument follows default argument\n"
     ]
    }
   ],
   "source": [
    "def greeting(name='익명', age):\n",
    "    return f'{name}님은 {age}세 입니다.' #기본인자가 아닌 ag가 기본인자 뒤에 있습니다 라는 에러가 뜸"
   ]
  },
  {
   "cell_type": "code",
   "execution_count": 10,
   "id": "d0881e71-3692-4785-a157-c72dcc344383",
   "metadata": {},
   "outputs": [],
   "source": [
    "def greeting(age, name='익명'):\n",
    "    return f'{name}님은 {age}세 입니다.'"
   ]
  },
  {
   "cell_type": "code",
   "execution_count": 11,
   "id": "c611e2db-5459-4bc6-b90e-fbb54bd6cf40",
   "metadata": {},
   "outputs": [
    {
     "name": "stdout",
     "output_type": "stream",
     "text": [
      "홍길동님은 10세 입니다.\n",
      "익명님은 20세 입니다.\n"
     ]
    }
   ],
   "source": [
    "print(greeting(10, '홍길동'))\n",
    "print(greeting(20))"
   ]
  },
  {
   "cell_type": "markdown",
   "id": "f48a6bc9-772e-46ad-9a1e-1405371845a8",
   "metadata": {},
   "source": [
    "### 키워드 인자\n",
    "함수를 호출(실행)할 때 내가 원하는 위치에 직접적으로 특정인자를 전달 가능\n"
   ]
  },
  {
   "cell_type": "code",
   "execution_count": 12,
   "id": "416f21bd-c503-4a95-bd04-d9168417c16f",
   "metadata": {},
   "outputs": [
    {
     "name": "stdout",
     "output_type": "stream",
     "text": [
      "홍길동님은 10살입니다.\n",
      "홍길동님은 10살입니다.\n"
     ]
    }
   ],
   "source": [
    "def greeting(age, name='익명'):\n",
    "    return f'{name}님은 {age}살입니다.'\n",
    "print(greeting(10, '홍길동'))\n",
    "print(greeting(name='홍길동', age = 10))"
   ]
  },
  {
   "cell_type": "code",
   "execution_count": 13,
   "id": "ed858322-1358-4ffa-85e0-2800c7bfec7e",
   "metadata": {},
   "outputs": [
    {
     "name": "stdout",
     "output_type": "stream",
     "text": [
      "안녕\n",
      "안녕!하세요?"
     ]
    }
   ],
   "source": [
    "print('안녕')\n",
    "print('안녕','하세요', sep='!', end='?')"
   ]
  },
  {
   "cell_type": "markdown",
   "id": "449c9592-a522-4f4e-9b95-8535dce42c96",
   "metadata": {},
   "source": [
    "### 가변 인자 리스트\n",
    "```python\n",
    "def func(*params):\n",
    "    pass\n",
    "```\n",
    "프린트 함수가 그 예시 "
   ]
  },
  {
   "cell_type": "code",
   "execution_count": 15,
   "id": "61bf1321-3f28-4d40-a417-f3007fd3d64c",
   "metadata": {},
   "outputs": [
    {
     "name": "stdout",
     "output_type": "stream",
     "text": [
      "('hi', 'hello')\n",
      "<class 'tuple'>\n"
     ]
    }
   ],
   "source": [
    "def my_print(*words):\n",
    "    print(words)\n",
    "    print(type(words))\n",
    "\n",
    "my_print('hi', 'hello')"
   ]
  },
  {
   "cell_type": "code",
   "execution_count": 29,
   "id": "8a58dd51-19ed-4113-93e8-119b95a7c8f8",
   "metadata": {},
   "outputs": [],
   "source": [
    "def my_max(*numbers):\n",
    "    result = 0\n",
    "\n",
    "    for number in numbers:\n",
    "        if result < number:\n",
    "            result = number\n",
    "    return result"
   ]
  },
  {
   "cell_type": "code",
   "execution_count": 31,
   "id": "03163e5c-c03c-46c3-89e7-de9896f205d7",
   "metadata": {},
   "outputs": [],
   "source": [
    "def my_max(*numbers):\n",
    "    result = numbers[0]\n",
    "\n",
    "    for number in numbers:\n",
    "        if result < number:\n",
    "            result = number\n",
    "    return result"
   ]
  },
  {
   "cell_type": "code",
   "execution_count": 32,
   "id": "236f0083-43c1-4f96-8455-234e823c55ff",
   "metadata": {},
   "outputs": [
    {
     "name": "stdout",
     "output_type": "stream",
     "text": [
      "5\n",
      "-1\n"
     ]
    }
   ],
   "source": [
    "print(my_max(1, 2, 3, 4, 5))\n",
    "print(my_max(-1, -2, -3, -4, -5))"
   ]
  },
  {
   "cell_type": "code",
   "execution_count": 18,
   "id": "1db230e1-7e4b-4b72-bf9c-ba25672ac02a",
   "metadata": {},
   "outputs": [
    {
     "data": {
      "text/plain": [
       "5"
      ]
     },
     "execution_count": 18,
     "metadata": {},
     "output_type": "execute_result"
    }
   ],
   "source": [
    "max(1, 2, 3, 4, 5)"
   ]
  },
  {
   "cell_type": "markdown",
   "id": "bb2e99cb-f2ae-4814-9c50-4094dd4b63e4",
   "metadata": {},
   "source": [
    "### 정의되지 않은 키워드 인자 처리하기\n",
    "```\n",
    "def func(**kwargs):\n",
    "    pass\n",
    "```\n",
    "여러개의 정의되지 않은 인자를 받을 때 kwargs\n",
    "\n",
    "가변인자와 비교하자면\n",
    "가변인자는 리스트를 인풋으로 받고\n",
    "키워드인자는 딕셔너리를 인풋으로 받음"
   ]
  },
  {
   "cell_type": "code",
   "execution_count": 34,
   "id": "5fa2b249-2b26-4d0c-afed-550e9607e28a",
   "metadata": {},
   "outputs": [
    {
     "data": {
      "text/plain": [
       "{'name': 'hong', 'age': 20}"
      ]
     },
     "execution_count": 34,
     "metadata": {},
     "output_type": "execute_result"
    }
   ],
   "source": [
    "info = {\n",
    "    'name': 'hong',\n",
    "    'age' : 20,\n",
    "}\n",
    "info"
   ]
  },
  {
   "cell_type": "code",
   "execution_count": 35,
   "id": "568368eb-98cb-4b52-8c8c-24cbe9c142fd",
   "metadata": {},
   "outputs": [
    {
     "name": "stdout",
     "output_type": "stream",
     "text": [
      "{'name': 'hong', 'age': 20}\n"
     ]
    }
   ],
   "source": [
    "info = dict(name='hong', age =20) # 내부적 함수가 대표적 예시\n",
    "print(info)"
   ]
  },
  {
   "cell_type": "code",
   "execution_count": 39,
   "id": "9444e3a1-ac2d-4980-be9c-690d96e4214a",
   "metadata": {},
   "outputs": [
    {
     "name": "stdout",
     "output_type": "stream",
     "text": [
      "korean는 안녕입니다.\n",
      "english는 hello입니다.\n",
      "{'korean': '안녕', 'english': 'hello'}\n",
      "<class 'dict'>\n"
     ]
    }
   ],
   "source": [
    "def fake_dict(**kwargs):\n",
    "    for key, value in kwargs.items():\n",
    "        print(f'{key}는 {value}입니다.')\n",
    "    print(kwargs)\n",
    "    print(type(kwargs))\n",
    "\n",
    "fake_dict(korean = '안녕', english = 'hello')"
   ]
  },
  {
   "cell_type": "markdown",
   "id": "aa709026-272d-41ec-9de3-9a2b4170f130",
   "metadata": {},
   "source": [
    "### 딕셔너리를 인자로 넣기(unpacking)"
   ]
  },
  {
   "cell_type": "code",
   "execution_count": 41,
   "id": "f7816c9b-106a-4b74-901c-22f247d3d4ca",
   "metadata": {},
   "outputs": [
    {
     "name": "stdout",
     "output_type": "stream",
     "text": [
      "minju님 회원가입이 완료되었습니다.\n"
     ]
    }
   ],
   "source": [
    "def sign_up(username, password, password_confirmation):       # 회원가입\n",
    "    if password == password_confirmation:\n",
    "        print(f'{username}님 회원가입이 완료되었습니다.')\n",
    "    else:\n",
    "        print(f'비밀번호가 일치하지 않습니다.')\n",
    "\n",
    "sign_up('minju', 'demo1208', 'demo1208')  # 많은 인자 혹은 긴 인자를 받는 경우도 생길 수 있음.\n",
    "    "
   ]
  },
  {
   "cell_type": "code",
   "execution_count": 43,
   "id": "8db36246-993a-4f1f-ab4f-22d225452310",
   "metadata": {},
   "outputs": [
    {
     "name": "stdout",
     "output_type": "stream",
     "text": [
      "asdf1234님 회원가입이 완료되었습니다.\n"
     ]
    }
   ],
   "source": [
    "my_account = {\n",
    "    'username': 'asdf1234',\n",
    "    'password': 'i12w3e4r',\n",
    "    'password_confirmation': 'i12w3e4r',\n",
    "}\n",
    "sign_up(**my_account)"
   ]
  },
  {
   "cell_type": "code",
   "execution_count": null,
   "id": "13579e0b-c821-4c72-b029-5df483cddd92",
   "metadata": {},
   "outputs": [],
   "source": [
    "# 자습서 4번 배우지 않은 나머지들은 설명을 보면서 남이 작성한 코드를 읽을 수 있을 정도이면 됨. "
   ]
  },
  {
   "cell_type": "markdown",
   "id": "e22753fd-ecc0-4e2e-a4c5-54582c0c1d70",
   "metadata": {},
   "source": [
    "### lamda 표현식\n",
    "```python\n",
    "lamda parameter : expression\n",
    "```"
   ]
  },
  {
   "cell_type": "code",
   "execution_count": 44,
   "id": "eb0fa503-76d1-4168-9fcd-9b99b42b9e0a",
   "metadata": {},
   "outputs": [
    {
     "data": {
      "text/plain": [
       "3"
      ]
     },
     "execution_count": 44,
     "metadata": {},
     "output_type": "execute_result"
    }
   ],
   "source": [
    "(lambda a, b: a + b)(1, 2)  #속도적 측면에서 조금 더 빠름 "
   ]
  },
  {
   "cell_type": "code",
   "execution_count": 46,
   "id": "6772fdd1-1f6e-423e-8202-9d6a0512a537",
   "metadata": {},
   "outputs": [
    {
     "ename": "TypeError",
     "evalue": "can only concatenate str (not \"int\") to str",
     "output_type": "error",
     "traceback": [
      "\u001b[0;31m---------------------------------------------------------------------------\u001b[0m",
      "\u001b[0;31mTypeError\u001b[0m                                 Traceback (most recent call last)",
      "Cell \u001b[0;32mIn[46], line 4\u001b[0m\n\u001b[1;32m      2\u001b[0m     \u001b[38;5;28;01mreturn\u001b[39;00m a \u001b[38;5;241m+\u001b[39m b\n\u001b[1;32m      3\u001b[0m my_sum(\u001b[38;5;241m1\u001b[39m, \u001b[38;5;241m2\u001b[39m)  \u001b[38;5;66;03m#와 동일한 코드 \u001b[39;00m\n\u001b[0;32m----> 4\u001b[0m \u001b[43mmy_sum\u001b[49m\u001b[43m(\u001b[49m\u001b[38;5;124;43m'\u001b[39;49m\u001b[38;5;124;43m1\u001b[39;49m\u001b[38;5;124;43m'\u001b[39;49m\u001b[43m,\u001b[49m\u001b[43m \u001b[49m\u001b[38;5;241;43m2\u001b[39;49m\u001b[43m)\u001b[49m\n",
      "Cell \u001b[0;32mIn[46], line 2\u001b[0m, in \u001b[0;36mmy_sum\u001b[0;34m(a, b)\u001b[0m\n\u001b[1;32m      1\u001b[0m \u001b[38;5;28;01mdef\u001b[39;00m \u001b[38;5;21mmy_sum\u001b[39m(a, b):\n\u001b[0;32m----> 2\u001b[0m     \u001b[38;5;28;01mreturn\u001b[39;00m \u001b[43ma\u001b[49m\u001b[43m \u001b[49m\u001b[38;5;241;43m+\u001b[39;49m\u001b[43m \u001b[49m\u001b[43mb\u001b[49m\n",
      "\u001b[0;31mTypeError\u001b[0m: can only concatenate str (not \"int\") to str"
     ]
    }
   ],
   "source": [
    "def my_sum(a, b):\n",
    "    return a + b\n",
    "my_sum(1, 2)  #와 동일한 코드 \n",
    "my_sum('1', 2)"
   ]
  },
  {
   "cell_type": "markdown",
   "id": "675053ff-f36c-474a-b652-c463d53f89de",
   "metadata": {},
   "source": [
    "### 타입 힌트"
   ]
  },
  {
   "cell_type": "code",
   "execution_count": 48,
   "id": "64a907d3-4656-4bef-995e-52fca1ae080f",
   "metadata": {},
   "outputs": [
    {
     "ename": "TypeError",
     "evalue": "can only concatenate str (not \"int\") to str",
     "output_type": "error",
     "traceback": [
      "\u001b[0;31m---------------------------------------------------------------------------\u001b[0m",
      "\u001b[0;31mTypeError\u001b[0m                                 Traceback (most recent call last)",
      "Cell \u001b[0;32mIn[48], line 11\u001b[0m\n\u001b[1;32m      8\u001b[0m     \u001b[38;5;28;01mreturn\u001b[39;00m num1 \u001b[38;5;241m+\u001b[39m num2\n\u001b[1;32m     10\u001b[0m my_sum(\u001b[38;5;241m1\u001b[39m, \u001b[38;5;241m2\u001b[39m)\n\u001b[0;32m---> 11\u001b[0m \u001b[43mmy_sum\u001b[49m\u001b[43m(\u001b[49m\u001b[38;5;124;43m'\u001b[39;49m\u001b[38;5;124;43m1\u001b[39;49m\u001b[38;5;124;43m'\u001b[39;49m\u001b[43m,\u001b[49m\u001b[43m \u001b[49m\u001b[38;5;241;43m2\u001b[39;49m\u001b[43m)\u001b[49m \n\u001b[1;32m     12\u001b[0m \u001b[38;5;66;03m# 단순하게 표기하는 것 하지만 힌트와 다른 타입을 적더라도 코드 실행을 막지는 않음\u001b[39;00m\n",
      "Cell \u001b[0;32mIn[48], line 8\u001b[0m, in \u001b[0;36mmy_sum\u001b[0;34m(num1, num2)\u001b[0m\n\u001b[1;32m      1\u001b[0m \u001b[38;5;28;01mdef\u001b[39;00m \u001b[38;5;21mmy_sum\u001b[39m(num1: \u001b[38;5;28mint\u001b[39m, num2: \u001b[38;5;28mint\u001b[39m) \u001b[38;5;241m-\u001b[39m\u001b[38;5;241m>\u001b[39m \u001b[38;5;28mint\u001b[39m:\n\u001b[1;32m      2\u001b[0m \u001b[38;5;250m    \u001b[39m\u001b[38;5;124;03m'''\u001b[39;00m\n\u001b[1;32m      3\u001b[0m \u001b[38;5;124;03m    두 수의 합을 구하는 함수입니다.\u001b[39;00m\n\u001b[1;32m      4\u001b[0m \u001b[38;5;124;03m    매개변수 num1, num2를 받아서 num1 + num2 를 return 합니다. \u001b[39;00m\n\u001b[1;32m      5\u001b[0m \u001b[38;5;124;03m    '''\u001b[39;00m\n\u001b[0;32m----> 8\u001b[0m     \u001b[38;5;28;01mreturn\u001b[39;00m \u001b[43mnum1\u001b[49m\u001b[43m \u001b[49m\u001b[38;5;241;43m+\u001b[39;49m\u001b[43m \u001b[49m\u001b[43mnum2\u001b[49m\n",
      "\u001b[0;31mTypeError\u001b[0m: can only concatenate str (not \"int\") to str"
     ]
    }
   ],
   "source": [
    "def my_sum(num1: int, num2: int) -> int:\n",
    "    '''\n",
    "    두 수의 합을 구하는 함수입니다.\n",
    "    매개변수 num1, num2를 받아서 num1 + num2 를 return 합니다. \n",
    "    '''\n",
    "\n",
    "    \n",
    "    return num1 + num2\n",
    "\n",
    "my_sum(1, 2)\n",
    "my_sum('1', 2) \n",
    "# 단순하게 표기하는 것 하지만 힌트와 다른 타입을 적더라도 코드 실행을 막지는 않음"
   ]
  },
  {
   "cell_type": "markdown",
   "id": "25bca815-d649-485c-8e8f-f60dbda8fba1",
   "metadata": {},
   "source": [
    "### 이름공간 (scope) \n",
    "파이썬에서 사용되는 이름들은 이름공간(namespace)에 저장되어 있습니다.\n",
    "\n",
    "- Local scope : 정의된 함수 내부\n",
    "- Enclosed scope : 상위 함수\n",
    "- Global scope : 함수 밖의 변수 혹은 import 된 모듈\n",
    "- Built-in scope : 파이썬이 기본적으로 가지고 있는 함수 혹은 변수 "
   ]
  },
  {
   "cell_type": "code",
   "execution_count": 49,
   "id": "3407c319-fe58-424a-b276-c234d60e91ee",
   "metadata": {},
   "outputs": [],
   "source": [
    "str = '123' # local scope"
   ]
  },
  {
   "cell_type": "code",
   "execution_count": 50,
   "id": "0d71dd1b-47fe-473b-a3d6-9e219dd07107",
   "metadata": {},
   "outputs": [
    {
     "name": "stdout",
     "output_type": "stream",
     "text": [
      "123\n"
     ]
    }
   ],
   "source": [
    "print(str)"
   ]
  },
  {
   "cell_type": "code",
   "execution_count": 51,
   "id": "4e9ddd7f-afab-46bd-ae0a-5a96d11b9af3",
   "metadata": {},
   "outputs": [
    {
     "ename": "TypeError",
     "evalue": "'str' object is not callable",
     "output_type": "error",
     "traceback": [
      "\u001b[0;31m---------------------------------------------------------------------------\u001b[0m",
      "\u001b[0;31mTypeError\u001b[0m                                 Traceback (most recent call last)",
      "Cell \u001b[0;32mIn[51], line 1\u001b[0m\n\u001b[0;32m----> 1\u001b[0m \u001b[38;5;28;43mstr\u001b[39;49m\u001b[43m(\u001b[49m\u001b[38;5;241;43m789\u001b[39;49m\u001b[43m)\u001b[49m\n",
      "\u001b[0;31mTypeError\u001b[0m: 'str' object is not callable"
     ]
    }
   ],
   "source": [
    "str(789)   # built-in scope 이므로 뒷 순서로 밀려남 "
   ]
  },
  {
   "cell_type": "code",
   "execution_count": 52,
   "id": "cab63672-368f-4c42-a0eb-b255d2d52736",
   "metadata": {},
   "outputs": [],
   "source": [
    "del str"
   ]
  },
  {
   "cell_type": "code",
   "execution_count": 53,
   "id": "320194b2-eac8-425e-ac3b-b05fd9e76713",
   "metadata": {},
   "outputs": [
    {
     "data": {
      "text/plain": [
       "'789'"
      ]
     },
     "execution_count": 53,
     "metadata": {},
     "output_type": "execute_result"
    }
   ],
   "source": [
    "str(789)"
   ]
  },
  {
   "cell_type": "code",
   "execution_count": 59,
   "id": "defa90a1-b202-425f-974f-ccc4efe62a3e",
   "metadata": {},
   "outputs": [
    {
     "name": "stdout",
     "output_type": "stream",
     "text": [
      "5\n",
      "1\n"
     ]
    }
   ],
   "source": [
    "a = 1 \n",
    "def localscope(a):\n",
    "    # a= 5\n",
    "    print(a)\n",
    "localscope(5)\n",
    "print(a)"
   ]
  },
  {
   "cell_type": "code",
   "execution_count": null,
   "id": "bf23a4a4-75db-4d1d-b6e9-c6c9a2f95706",
   "metadata": {},
   "outputs": [],
   "source": [
    "# 빌트인 키워드로는 변수이름을 설정할 수 없다고 했는데 그 때 키워드는 색이 다르게 표시되는 애들 함수는 해당 안됨."
   ]
  },
  {
   "cell_type": "code",
   "execution_count": 60,
   "id": "4f7267c2-434a-4d33-9448-a75c2e81a73e",
   "metadata": {},
   "outputs": [
    {
     "name": "stdout",
     "output_type": "stream",
     "text": [
      "20\n",
      "20\n"
     ]
    }
   ],
   "source": [
    "num = 10 \n",
    "def scope():\n",
    "    global num\n",
    "    num = 20 \n",
    "    print(num)\n",
    "    \n",
    "scope()\n",
    "print(num)"
   ]
  },
  {
   "cell_type": "markdown",
   "id": "60a82244-dc9d-47a7-b657-63bd187bc2e0",
   "metadata": {},
   "source": [
    "## 재귀(recursive) \n",
    "재귀 함수는 함수 내부에서 자기 자신을 호출하는 함수를 의미한다."
   ]
  },
  {
   "cell_type": "code",
   "execution_count": null,
   "id": "2184e765-c11f-4f56-bc49-bdfa8df3ba82",
   "metadata": {},
   "outputs": [],
   "source": [
    "# 팩토리얼 \n",
    "def fact(n):\n",
    "    for i in range(n, 0, -1):\n",
    "        if i == n: \n",
    "            \n",
    "    if n == 0:\n",
    "        return \n",
    "    else:\n",
    "        n = n * (n-1)\n",
    "\n",
    "\n",
    "        "
   ]
  },
  {
   "cell_type": "code",
   "execution_count": 66,
   "id": "f366a96d-5e59-4c06-b0a5-3265ad646ff9",
   "metadata": {},
   "outputs": [
    {
     "data": {
      "text/plain": [
       "120"
      ]
     },
     "execution_count": 66,
     "metadata": {},
     "output_type": "execute_result"
    }
   ],
   "source": [
    "# 선생님 답변 \n",
    "# 팩토리얼 (1 * 2 * ...* n = n!)\n",
    "def fact(n):\n",
    "    result = 1\n",
    "\n",
    "    while n > 1:\n",
    "        result = result * n # result *= n\n",
    "        n = n-1 # n -= 1\n",
    "\n",
    "    return result \n",
    "fact(5)\n"
   ]
  },
  {
   "cell_type": "markdown",
   "id": "7de765b7-ad85-43d1-a8bd-0fcb0f079538",
   "metadata": {},
   "source": [
    "1! = 1\n",
    "2! = 1 * 2 = 1! * 2\n",
    "3! = 1 * 2 * 3 = 2! * 3\n",
    "fact(5)\n",
    "fact(fact(4)*5)\n",
    "fact(fact((fact(3)*4))*5)\n",
    "\n",
    "print('hello') #함수의 소괄호가 열리는 순간 함수가 실행되고 닫히는 순간 종료됨\n"
   ]
  },
  {
   "cell_type": "code",
   "execution_count": 67,
   "id": "70a6d702-d150-4d2a-9060-5b0827c33dda",
   "metadata": {},
   "outputs": [
    {
     "data": {
      "text/plain": [
       "120"
      ]
     },
     "execution_count": 67,
     "metadata": {},
     "output_type": "execute_result"
    }
   ],
   "source": [
    "# 재귀로 만들어보기\n",
    "def factorial(n):\n",
    "    if n <= 1: \n",
    "        return 1 \n",
    "    else:\n",
    "        return factorial(n-1) * n \n",
    "        # 10! = 9! * 10 = 8! * 9 * 10= ...=1! * ... 재귀를 n=1일때 끝내줘야함 0을 곱하면 0이 되므로\n",
    "\n",
    "\n",
    "factorial(5)"
   ]
  },
  {
   "cell_type": "markdown",
   "id": "71674305-d105-473c-8a37-e33c1a739182",
   "metadata": {},
   "source": [
    "### 피보나지 수열 \n",
    "```\n",
    "F(0) = F(1) = 1\n",
    "F(n) = F(n-1) + F(n-2)\n",
    "```\n"
   ]
  },
  {
   "cell_type": "code",
   "execution_count": null,
   "id": "889b6932-69f9-4344-adec-c81aad0c3e47",
   "metadata": {},
   "outputs": [],
   "source": [
    "# 일단 나열해보기\n",
    "F(0) = F(1) = 1\n",
    "F(2) = F(1) + F(0) = 1 + 1 = 2\n",
    "F(3) = F(2) + F(1) = (F(1) + F(0)) + F(1) =3\n",
    "F(4) = F(3) + F(2) = (F(2) + F(1)) + (F(1) + F(0)) = ((F(1) + F(0)) + F(1)) + ((F(1) + F(0)))=5\n"
   ]
  },
  {
   "cell_type": "code",
   "execution_count": null,
   "id": "dec17608-5c8c-4797-b1d7-71420b6d6a54",
   "metadata": {},
   "outputs": [],
   "source": []
  },
  {
   "cell_type": "code",
   "execution_count": 74,
   "id": "98a0d94a-cd91-4696-a851-fb875e77c7e5",
   "metadata": {},
   "outputs": [
    {
     "data": {
      "text/plain": [
       "573147844013817084101"
      ]
     },
     "execution_count": 74,
     "metadata": {},
     "output_type": "execute_result"
    }
   ],
   "source": [
    "# 반복문 버전\n",
    "def fib_loop(n):\n",
    "    result = [1, 1]  #[1, 1, 2, 3, 5, 8, 13, ...]\n",
    "\n",
    "    for i in range(1, n):\n",
    "        end1 = result[-1]\n",
    "        end2 = result[len(result)-2] # result[-2]랑 같음\n",
    "        fib_num = end1 + end2\n",
    "   \n",
    "        result.append(fib_num)\n",
    "    return result[-1]\n",
    "\n",
    "fib_loop(100)"
   ]
  },
  {
   "cell_type": "code",
   "execution_count": 75,
   "id": "a01318fd-1043-422c-84c9-fbf1cf9be5e2",
   "metadata": {},
   "outputs": [
    {
     "ename": "KeyboardInterrupt",
     "evalue": "",
     "output_type": "error",
     "traceback": [
      "\u001b[0;31m---------------------------------------------------------------------------\u001b[0m",
      "\u001b[0;31mKeyboardInterrupt\u001b[0m                         Traceback (most recent call last)",
      "Cell \u001b[0;32mIn[75], line 9\u001b[0m\n\u001b[1;32m      6\u001b[0m     \u001b[38;5;28;01melse\u001b[39;00m: \n\u001b[1;32m      7\u001b[0m         \u001b[38;5;28;01mreturn\u001b[39;00m fib_rec(n\u001b[38;5;241m-\u001b[39m\u001b[38;5;241m1\u001b[39m) \u001b[38;5;241m+\u001b[39m fib_rec(n\u001b[38;5;241m-\u001b[39m\u001b[38;5;241m2\u001b[39m)\n\u001b[0;32m----> 9\u001b[0m \u001b[43mfib_rec\u001b[49m\u001b[43m(\u001b[49m\u001b[38;5;241;43m100\u001b[39;49m\u001b[43m)\u001b[49m    \n",
      "Cell \u001b[0;32mIn[75], line 7\u001b[0m, in \u001b[0;36mfib_rec\u001b[0;34m(n)\u001b[0m\n\u001b[1;32m      4\u001b[0m     \u001b[38;5;28;01mreturn\u001b[39;00m \u001b[38;5;241m1\u001b[39m\n\u001b[1;32m      6\u001b[0m \u001b[38;5;28;01melse\u001b[39;00m: \n\u001b[0;32m----> 7\u001b[0m     \u001b[38;5;28;01mreturn\u001b[39;00m \u001b[43mfib_rec\u001b[49m\u001b[43m(\u001b[49m\u001b[43mn\u001b[49m\u001b[38;5;241;43m-\u001b[39;49m\u001b[38;5;241;43m1\u001b[39;49m\u001b[43m)\u001b[49m \u001b[38;5;241m+\u001b[39m fib_rec(n\u001b[38;5;241m-\u001b[39m\u001b[38;5;241m2\u001b[39m)\n",
      "Cell \u001b[0;32mIn[75], line 7\u001b[0m, in \u001b[0;36mfib_rec\u001b[0;34m(n)\u001b[0m\n\u001b[1;32m      4\u001b[0m     \u001b[38;5;28;01mreturn\u001b[39;00m \u001b[38;5;241m1\u001b[39m\n\u001b[1;32m      6\u001b[0m \u001b[38;5;28;01melse\u001b[39;00m: \n\u001b[0;32m----> 7\u001b[0m     \u001b[38;5;28;01mreturn\u001b[39;00m \u001b[43mfib_rec\u001b[49m\u001b[43m(\u001b[49m\u001b[43mn\u001b[49m\u001b[38;5;241;43m-\u001b[39;49m\u001b[38;5;241;43m1\u001b[39;49m\u001b[43m)\u001b[49m \u001b[38;5;241m+\u001b[39m fib_rec(n\u001b[38;5;241m-\u001b[39m\u001b[38;5;241m2\u001b[39m)\n",
      "    \u001b[0;31m[... skipping similar frames: fib_rec at line 7 (82 times)]\u001b[0m\n",
      "Cell \u001b[0;32mIn[75], line 7\u001b[0m, in \u001b[0;36mfib_rec\u001b[0;34m(n)\u001b[0m\n\u001b[1;32m      4\u001b[0m     \u001b[38;5;28;01mreturn\u001b[39;00m \u001b[38;5;241m1\u001b[39m\n\u001b[1;32m      6\u001b[0m \u001b[38;5;28;01melse\u001b[39;00m: \n\u001b[0;32m----> 7\u001b[0m     \u001b[38;5;28;01mreturn\u001b[39;00m \u001b[43mfib_rec\u001b[49m\u001b[43m(\u001b[49m\u001b[43mn\u001b[49m\u001b[38;5;241;43m-\u001b[39;49m\u001b[38;5;241;43m1\u001b[39;49m\u001b[43m)\u001b[49m \u001b[38;5;241m+\u001b[39m fib_rec(n\u001b[38;5;241m-\u001b[39m\u001b[38;5;241m2\u001b[39m)\n",
      "Cell \u001b[0;32mIn[75], line 2\u001b[0m, in \u001b[0;36mfib_rec\u001b[0;34m(n)\u001b[0m\n\u001b[1;32m      1\u001b[0m \u001b[38;5;66;03m# 재귀 버전\u001b[39;00m\n\u001b[0;32m----> 2\u001b[0m \u001b[38;5;28;01mdef\u001b[39;00m \u001b[38;5;21mfib_rec\u001b[39m(n):\n\u001b[1;32m      3\u001b[0m     \u001b[38;5;28;01mif\u001b[39;00m n \u001b[38;5;241m==\u001b[39m \u001b[38;5;241m1\u001b[39m \u001b[38;5;129;01mor\u001b[39;00m n \u001b[38;5;241m==\u001b[39m \u001b[38;5;241m0\u001b[39m:\n\u001b[1;32m      4\u001b[0m         \u001b[38;5;28;01mreturn\u001b[39;00m \u001b[38;5;241m1\u001b[39m\n",
      "\u001b[0;31mKeyboardInterrupt\u001b[0m: "
     ]
    }
   ],
   "source": [
    "# 재귀 버전\n",
    "def fib_rec(n):\n",
    "    if n == 1 or n == 0:\n",
    "        return 1\n",
    "\n",
    "    else: \n",
    "        return fib_rec(n-1) + fib_rec(n-2)\n",
    "        \n",
    "fib_rec(100)    \n",
    "    "
   ]
  },
  {
   "cell_type": "code",
   "execution_count": 71,
   "id": "4a1a093f-602b-47fd-8d39-2f41afcd196e",
   "metadata": {},
   "outputs": [
    {
     "data": {
      "text/plain": [
       "4"
      ]
     },
     "execution_count": 71,
     "metadata": {},
     "output_type": "execute_result"
    }
   ],
   "source": [
    "a = [1, 2, 3, 4, 5]\n",
    "a[-2]"
   ]
  },
  {
   "cell_type": "code",
   "execution_count": null,
   "id": "911489ed-d8ca-46ce-9c5b-946937062021",
   "metadata": {},
   "outputs": [],
   "source": []
  },
  {
   "cell_type": "code",
   "execution_count": null,
   "id": "59b8e524-6e40-449c-8ae5-97b89a516116",
   "metadata": {},
   "outputs": [],
   "source": []
  }
 ],
 "metadata": {
  "kernelspec": {
   "display_name": "Python 3 (ipykernel)",
   "language": "python",
   "name": "python3"
  },
  "language_info": {
   "codemirror_mode": {
    "name": "ipython",
    "version": 3
   },
   "file_extension": ".py",
   "mimetype": "text/x-python",
   "name": "python",
   "nbconvert_exporter": "python",
   "pygments_lexer": "ipython3",
   "version": "3.11.4"
  }
 },
 "nbformat": 4,
 "nbformat_minor": 5
}
