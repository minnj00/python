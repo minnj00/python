{
 "cells": [
  {
   "cell_type": "markdown",
   "id": "abf4725f-6dea-4665-8cfe-e0babe666ff5",
   "metadata": {},
   "source": [
    "# 함수(function)"
   ]
  },
  {
   "cell_type": "markdown",
   "id": "726eee83-33b7-413a-b087-ceee27891aee",
   "metadata": {},
   "source": [
    "### 함수의 선언 \n",
    "```python \n",
    "def func_name(parameter1, parameter2, ...): \n",
    "    code1\n",
    "    code2\n",
    "    ...\n",
    "    return  value\n",
    "```\n",
    "\n",
    "### 함수의 호출(실행)\n",
    "func_name(parameter1, parameter2, ...)\n",
    "\n",
    "- 참고 괄호 관련 어떨 때 어떤 괄호가 쓰이는지\n",
    "\n",
    "함수는 ()\n",
    "index, key 접근시에는 []\n",
    "나머지는 추후에 직접 사용하면서 익히면 됨."
   ]
  },
  {
   "cell_type": "markdown",
   "id": "90353101-b4cd-451f-be39-4f03c4a4d7d5",
   "metadata": {},
   "source": [
    "## 함수의 return(반환) 을 사용해야 변수에 할당이 가능함\n",
    "\n",
    "- 함수가 return 을 만나면 해당 값을 반환하고 함수를 종료\n",
    "- 만약 return 이 없다면 None을 자동으로 반환\n",
    "- return 은 오직 하나의 객체만 반환함\n",
    "- "
   ]
  },
  {
   "cell_type": "code",
   "execution_count": 1,
   "id": "fcc8fbe2-8b20-4833-8dd8-ac1f6b60311d",
   "metadata": {},
   "outputs": [],
   "source": [
    "# 두 개의 정수를 받아서 큰 수를 반환\n",
    "\n",
    "def my_max2(num1, num2):\n",
    "    if num1 > num2:\n",
    "        return num1\n",
    "    elif num1 < num2:\n",
    "        return num2\n",
    "    else:\n",
    "        return 0\n",
    "        \n",
    "# input 이 있으면 그에 맞는 output을 지정해줘야함 \n",
    "# 바람직한 함수는 정의를 하고 output 값을 내고 그 다음 단계는 코드로 하게끔 하는 것\n"
   ]
  },
  {
   "cell_type": "code",
   "execution_count": 3,
   "id": "0c1fddde-fd0c-456a-8379-59a513fe5199",
   "metadata": {},
   "outputs": [
    {
     "name": "stdout",
     "output_type": "stream",
     "text": [
      "2가 더 큽니다.\n"
     ]
    }
   ],
   "source": [
    "result = my_max2(1,2)\n",
    "print (f'{result}가 더 큽니다.')"
   ]
  },
  {
   "cell_type": "code",
   "execution_count": null,
   "id": "5392c988-4f8c-464e-b3a0-3adc01280bd6",
   "metadata": {},
   "outputs": [],
   "source": []
  },
  {
   "cell_type": "code",
   "execution_count": null,
   "id": "1a80b5db-52a2-4eb4-b306-55528e60b6b2",
   "metadata": {},
   "outputs": [],
   "source": []
  },
  {
   "cell_type": "code",
   "execution_count": null,
   "id": "b85a385c-0fc2-4a26-8373-5ad84f35facf",
   "metadata": {},
   "outputs": [],
   "source": []
  }
 ],
 "metadata": {
  "kernelspec": {
   "display_name": "Python 3 (ipykernel)",
   "language": "python",
   "name": "python3"
  },
  "language_info": {
   "codemirror_mode": {
    "name": "ipython",
    "version": 3
   },
   "file_extension": ".py",
   "mimetype": "text/x-python",
   "name": "python",
   "nbconvert_exporter": "python",
   "pygments_lexer": "ipython3",
   "version": "3.11.4"
  }
 },
 "nbformat": 4,
 "nbformat_minor": 5
}
