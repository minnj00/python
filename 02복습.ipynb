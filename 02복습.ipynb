{
 "cells": [
  {
   "cell_type": "markdown",
   "id": "e7c060f3-82a4-43c3-a183-137c5c1d68f0",
   "metadata": {},
   "source": [
    "# 제어문"
   ]
  },
  {
   "cell_type": "markdown",
   "id": "fd1db37b-25d1-4661-bb77-f8274e125235",
   "metadata": {},
   "source": [
    "## 조건문 (if문)\n",
    "\n",
    "1. if 문은 반드시 일정한 참/거짓을 판단할 수 있는 조건식 과 함꼐 사용한다.\n",
    "   \n",
    "2-1. <조건식>이 참인 경우 : 이후의 문장을 실행한다.\n",
    "\n",
    "2-2. <조건식>이 거짓인 경우 else: 이후의 문장을 실행한다."
   ]
  },
  {
   "cell_type": "code",
   "execution_count": 1,
   "id": "35e93010-a39e-4c26-a3a1-734c36c4eab7",
   "metadata": {},
   "outputs": [
    {
     "name": "stdin",
     "output_type": "stream",
     "text": [
      " 134\n"
     ]
    },
    {
     "name": "stdout",
     "output_type": "stream",
     "text": [
      "크리스마스가 아닙니다.\n"
     ]
    }
   ],
   "source": [
    "my_string = input()\n",
    "if my_string == '12/25':\n",
    "    print ('크리스마스입니다.')\n",
    "else: \n",
    "    print('크리스마스가 아닙니다.')"
   ]
  },
  {
   "cell_type": "code",
   "execution_count": 2,
   "id": "28c9f106-1c96-4a6b-ab9f-0811be259551",
   "metadata": {},
   "outputs": [
    {
     "name": "stdin",
     "output_type": "stream",
     "text": [
      "숫자를 입력해주세요 5\n"
     ]
    },
    {
     "name": "stdout",
     "output_type": "stream",
     "text": [
      "3의 배수가 아닙니다.\n"
     ]
    }
   ],
   "source": [
    "if int(input('숫자를 입력해주세요')) % 3 == 0:\n",
    "    print('3의 배수입니다.')\n",
    "else: \n",
    "    print('3의 배수가 아닙니다.')"
   ]
  },
  {
   "cell_type": "markdown",
   "id": "cd8239cb-3f3d-4242-9dcf-803c7c9b0892",
   "metadata": {},
   "source": [
    "## elif"
   ]
  },
  {
   "cell_type": "markdown",
   "id": "b8d9ed0b-a0a6-41e1-b1e6-6cf7d6636ef5",
   "metadata": {},
   "source": [
    "### 조건표현식\n",
    "\n",
    "true_value if <조건식> else false_value"
   ]
  },
  {
   "cell_type": "code",
   "execution_count": null,
   "id": "bcc5f8da-4b1a-4fd3-8af2-6af7acad7518",
   "metadata": {},
   "outputs": [],
   "source": [
    "print('True') if 1>0 else print('False')"
   ]
  },
  {
   "cell_type": "code",
   "execution_count": 3,
   "id": "dcfa5d4a-1940-42b1-b089-f23b22bf9ca0",
   "metadata": {},
   "outputs": [
    {
     "name": "stdout",
     "output_type": "stream",
     "text": [
      "True\n"
     ]
    }
   ],
   "source": [
    "if 1 > 0: \n",
    "    print('True')\n",
    "else: \n",
    "    print('False')"
   ]
  },
  {
   "cell_type": "markdown",
   "id": "6201f8c4-0474-42c5-b4e3-d375a2300c38",
   "metadata": {},
   "source": [
    "## 반복문\n",
    "\n",
    "### while 문\n",
    "\n",
    "```\n",
    "while <조건식>:\n",
    "    실행할 코드\n",
    "```"
   ]
  },
  {
   "cell_type": "code",
   "execution_count": 4,
   "id": "e093f27f-4869-44d4-a4e2-6e9a5f984a3a",
   "metadata": {},
   "outputs": [
    {
     "name": "stdout",
     "output_type": "stream",
     "text": [
      "0\n",
      "1\n",
      "2\n",
      "3\n",
      "4\n"
     ]
    }
   ],
   "source": [
    "a = 0\n",
    "\n",
    "while a < 5:\n",
    "    print(a)\n",
    "    a += 1 "
   ]
  },
  {
   "cell_type": "code",
   "execution_count": 5,
   "id": "b0d83615-9570-4a17-9fb6-6d393ec9c57a",
   "metadata": {},
   "outputs": [
    {
     "name": "stdin",
     "output_type": "stream",
     "text": [
      " 안뇽\n",
      " 앙용\n",
      " 안뇨오오옹\n",
      " 안녕\n"
     ]
    }
   ],
   "source": [
    "# 사용자가 '안녕' 이라고 할 때까지 계속 입력을 요청받는 코드\n",
    "\n",
    "# 사용자로부터 받은 input 이 '안녕'이 아니라면 계속 입력받기를 반복해야함.\n",
    "\n",
    "a = input()\n",
    "while a != '안녕':\n",
    "    a=0\n",
    "    a = input()"
   ]
  },
  {
   "cell_type": "markdown",
   "id": "84419096-b820-43f3-8a30-c3f0d379350d",
   "metadata": {},
   "source": [
    "### for\n",
    "정해진 범위 내의 반복 "
   ]
  },
  {
   "cell_type": "code",
   "execution_count": 9,
   "id": "325a071d-e455-4772-963b-dd75e483d753",
   "metadata": {},
   "outputs": [
    {
     "name": "stdin",
     "output_type": "stream",
     "text": [
      "문장을 입력해주세요:  안뇽    안뇽\n"
     ]
    },
    {
     "name": "stdout",
     "output_type": "stream",
     "text": [
      "안\n",
      "뇽\n",
      "안\n",
      "뇽\n"
     ]
    }
   ],
   "source": [
    "# for 문을 사용해서 사용자가 입력한 데이터를 한 글자씩 출력하는 코드\n",
    "\n",
    "sentence = input('문장을 입력해주세요: ') #string 도 시퀀스 굳이 list 씌울 필요 없음\n",
    "\n",
    "for char in sentence:\n",
    "    if char != ' ':\n",
    "        print (char)  "
   ]
  },
  {
   "cell_type": "code",
   "execution_count": 15,
   "id": "fb485e11-618a-48de-865d-a1a308e5314e",
   "metadata": {},
   "outputs": [
    {
     "name": "stdout",
     "output_type": "stream",
     "text": [
      "0 돼지\n",
      "1 소\n",
      "2 오리\n"
     ]
    }
   ],
   "source": [
    "#enumerate \n",
    "#(0, item_1), (2, item_2), ... (n, item_n)\n",
    "menus = ['돼지', '소', '오리']\n",
    "\n",
    "list(enumerate(menus))\n",
    "\n",
    "for idx, menu in enumerate(menus):\n",
    "    print(idx, menu)\n",
    "\n",
    "\n"
   ]
  },
  {
   "cell_type": "markdown",
   "id": "65a317e0-a79d-4f3e-ae53-8b4e1f632086",
   "metadata": {},
   "source": [
    "## dictionary 반복\n",
    "\n",
    "1. for key in dict:\n",
    "2. for key in dict.keys():\n",
    "3. for value in dict.values():\n",
    "4. for key, value in dic.items(): "
   ]
  },
  {
   "cell_type": "code",
   "execution_count": 19,
   "id": "6e96cb09-fdcb-43af-8fbe-430b8e3b923d",
   "metadata": {},
   "outputs": [],
   "source": [
    "info ={\n",
    "    'name': 'minju',\n",
    "    'location': 'seoul',\n",
    "    'phone': '010-1234-7890',\n",
    "}"
   ]
  },
  {
   "cell_type": "code",
   "execution_count": 22,
   "id": "f487b12e-bf04-42ba-b206-15139869d650",
   "metadata": {},
   "outputs": [
    {
     "name": "stdout",
     "output_type": "stream",
     "text": [
      "name\n",
      "minju\n",
      "name minju\n",
      "location\n",
      "seoul\n",
      "location seoul\n",
      "phone\n",
      "010-1234-7890\n",
      "phone 010-1234-7890\n"
     ]
    }
   ],
   "source": [
    "for i in info:\n",
    "    print (i) #key만 출력\n",
    "    print (info[i]) #key에 해당하는 value 출력\n",
    "    "
   ]
  },
  {
   "cell_type": "code",
   "execution_count": 23,
   "id": "923bac2a-372e-4e3a-9afc-2dbfe6a0a6e0",
   "metadata": {},
   "outputs": [],
   "source": [
    "blood_type = {\n",
    "    'A': 5,\n",
    "    'B': 3,\n",
    "    'O': 6,\n",
    "    'AB': 7,\n",
    "}"
   ]
  },
  {
   "cell_type": "code",
   "execution_count": 24,
   "id": "ac53d468-5bb9-4628-9ab6-35cf5a277f54",
   "metadata": {},
   "outputs": [
    {
     "name": "stdout",
     "output_type": "stream",
     "text": [
      "혈액형 목록은 다음과 같습니다.\n",
      "A\n",
      "B\n",
      "O\n",
      "AB\n"
     ]
    }
   ],
   "source": [
    "print('혈액형 목록은 다음과 같습니다.')\n",
    "for key in blood_type:\n",
    "    print(key)"
   ]
  },
  {
   "cell_type": "code",
   "execution_count": 26,
   "id": "f9d68563-27e3-43dc-b759-762ef88a5bdd",
   "metadata": {},
   "outputs": [
    {
     "name": "stdout",
     "output_type": "stream",
     "text": [
      "혈액형 목록은 다음과 같습니다.\n",
      "A\n",
      "B\n",
      "O\n",
      "AB\n"
     ]
    }
   ],
   "source": [
    "print('혈액형 목록은 다음과 같습니다.')\n",
    "for key in blood_type.keys():\n",
    "    print(key)"
   ]
  },
  {
   "cell_type": "code",
   "execution_count": 27,
   "id": "1eb82167-5ddb-40f6-aba1-b55cb85b4b0b",
   "metadata": {},
   "outputs": [
    {
     "name": "stdout",
     "output_type": "stream",
     "text": [
      "총 인원은 21 명 입니다.\n"
     ]
    }
   ],
   "source": [
    "# 몇 명 조사했는지\n",
    "ppl = 0\n",
    "for value in blood_type.values():\n",
    "    ppl += value\n",
    "print(f'총 인원은 {ppl} 명 입니다.')"
   ]
  },
  {
   "cell_type": "code",
   "execution_count": 28,
   "id": "47fc013a-78c0-4aaa-ad2f-567c5ee84d3a",
   "metadata": {},
   "outputs": [
    {
     "name": "stdout",
     "output_type": "stream",
     "text": [
      "A형은 5명 입니다.\n",
      "B형은 3명 입니다.\n",
      "O형은 6명 입니다.\n",
      "AB형은 7명 입니다.\n"
     ]
    }
   ],
   "source": [
    "for key, value in blood_type.items():\n",
    "    print(f'{key}형은 {value}명 입니다.')"
   ]
  },
  {
   "cell_type": "code",
   "execution_count": 31,
   "id": "613a944c-681c-48ed-b693-d6d2751ce4aa",
   "metadata": {},
   "outputs": [
    {
     "data": {
      "text/plain": [
       "dict_keys"
      ]
     },
     "execution_count": 31,
     "metadata": {},
     "output_type": "execute_result"
    }
   ],
   "source": [
    "type(blood_type.keys())"
   ]
  },
  {
   "cell_type": "markdown",
   "id": "d3864c7e-ffcc-4dcb-b5d4-3c4d7684fdcb",
   "metadata": {},
   "source": [
    "### break \n",
    "반복문을 종료시키는 키워드"
   ]
  },
  {
   "cell_type": "code",
   "execution_count": 33,
   "id": "f0391475-3187-4e99-b559-b0319a36bef4",
   "metadata": {},
   "outputs": [
    {
     "name": "stdout",
     "output_type": "stream",
     "text": [
      "0\n",
      "1\n",
      "2\n",
      "3\n",
      "4\n",
      "5\n",
      "6\n",
      "7\n",
      "8\n",
      "9\n",
      "10\n",
      "10넘었어\n"
     ]
    }
   ],
   "source": [
    "# 10을 넘기 전까지 출력한 후 10넘었어 출력하기\n",
    "\n",
    "for i in range(100):\n",
    "    if i>10:\n",
    "        print('10넘었어')\n",
    "        break\n",
    "    print(i)"
   ]
  },
  {
   "cell_type": "markdown",
   "id": "c2c8e761-1a80-44d6-9a51-4108231e9c18",
   "metadata": {},
   "source": [
    "### continue \n",
    "\n",
    "continue 이후의 코드를 실행하지 않고 다음 반복을 진행\n",
    "```\n",
    "if <조건문>:\n",
    "    continue\n",
    "```\n",
    "<조건문>이 true 이면 이후 코드 실행하지 않고 앞으로 돌아감\n"
   ]
  },
  {
   "cell_type": "code",
   "execution_count": 37,
   "id": "6ad1401b-03b0-48ca-93d3-ef88fdb09fa9",
   "metadata": {},
   "outputs": [],
   "source": [
    "for i in range(10):\n",
    "    if i % 2: # 홀수일 때 true\n",
    "        continue\n",
    "    print(i)  # 따라서 짝수인 것만 프린트 됨\n",
    "        "
   ]
  },
  {
   "cell_type": "markdown",
   "id": "dcb9e0b4-dc99-4988-bdb0-df0dfaf96ce7",
   "metadata": {},
   "source": [
    "### else\n",
    "else 문은 끝까지 반복이 진행된 후 실행됩니다."
   ]
  },
  {
   "cell_type": "code",
   "execution_count": 39,
   "id": "40f3e285-7efa-4976-80de-bb476c28c0d1",
   "metadata": {},
   "outputs": [
    {
     "name": "stdout",
     "output_type": "stream",
     "text": [
      "0\n",
      "1\n",
      "2\n",
      "3\n",
      "4\n",
      "5\n",
      "6\n",
      "7\n",
      "8\n",
      "9\n",
      "break 못만남\n"
     ]
    }
   ],
   "source": [
    "for i in range(10):\n",
    "    if i > 100:\n",
    "        break #중간에 멈춤\n",
    "    print(i)\n",
    "else: \n",
    "    print('break 못만남') # 모든 for 문이 다 돌았다면 else 실행"
   ]
  },
  {
   "cell_type": "code",
   "execution_count": 40,
   "id": "fb0ffc27-8c69-433c-8880-24a6ce9e6fe1",
   "metadata": {},
   "outputs": [
    {
     "name": "stdout",
     "output_type": "stream",
     "text": [
      "True\n",
      "False\n"
     ]
    }
   ],
   "source": [
    "numbers = [1, 3, 5, 7, 9]\n",
    "print(3 in numbers)\n",
    "print(2 in numbers)"
   ]
  },
  {
   "cell_type": "code",
   "execution_count": 41,
   "id": "746bb54a-a607-45de-8090-f57c970c78e5",
   "metadata": {},
   "outputs": [
    {
     "name": "stdout",
     "output_type": "stream",
     "text": [
      "True\n"
     ]
    }
   ],
   "source": [
    "# target 수가 있으면 true 출력 없으면 false 출력\n",
    "\n",
    "numbers = range(1,10,2)\n",
    "target = 7\n",
    "\n",
    "for number in numbers:\n",
    "    if number == target:\n",
    "        print('True')\n",
    "        break\n",
    "else: \n",
    "    print('False')\n",
    "        "
   ]
  },
  {
   "cell_type": "markdown",
   "id": "51e793bd-77a1-4463-8cfc-5f62d9ceb8e9",
   "metadata": {},
   "source": [
    "### pass"
   ]
  },
  {
   "cell_type": "code",
   "execution_count": null,
   "id": "35e6db35-459c-4e5d-98db-7356c5551216",
   "metadata": {},
   "outputs": [],
   "source": [
    "if True:\n",
    "    pass "
   ]
  },
  {
   "cell_type": "markdown",
   "id": "76003d66-9622-43a2-9156-8426a94698c7",
   "metadata": {},
   "source": [
    "### match"
   ]
  },
  {
   "cell_type": "code",
   "execution_count": null,
   "id": "191a2e77-296a-42a8-9b79-edd5b7032242",
   "metadata": {},
   "outputs": [],
   "source": []
  },
  {
   "cell_type": "code",
   "execution_count": null,
   "id": "80a5202e-f7a4-4e17-add6-1d0e74926701",
   "metadata": {},
   "outputs": [],
   "source": []
  }
 ],
 "metadata": {
  "kernelspec": {
   "display_name": "Python 3 (ipykernel)",
   "language": "python",
   "name": "python3"
  },
  "language_info": {
   "codemirror_mode": {
    "name": "ipython",
    "version": 3
   },
   "file_extension": ".py",
   "mimetype": "text/x-python",
   "name": "python",
   "nbconvert_exporter": "python",
   "pygments_lexer": "ipython3",
   "version": "3.11.4"
  }
 },
 "nbformat": 4,
 "nbformat_minor": 5
}
